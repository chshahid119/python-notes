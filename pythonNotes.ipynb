{
 "cells": [
  {
   "cell_type": "code",
   "execution_count": 8,
   "id": "7b9ead95",
   "metadata": {},
   "outputs": [
    {
     "data": {
      "text/plain": [
       "32.0"
      ]
     },
     "execution_count": 8,
     "metadata": {},
     "output_type": "execute_result"
    }
   ],
   "source": [
    "# Pierian Data Python Course from beginners to advance\n",
    "# Module 3 \n",
    "#Python as Calculators\n",
    "2+1\n",
    "23%2\n",
    "2**8/2**3"
   ]
  },
  {
   "cell_type": "code",
   "execution_count": 23,
   "id": "1c888a9d",
   "metadata": {},
   "outputs": [
    {
     "data": {
      "text/plain": [
       "'Shahid'"
      ]
     },
     "execution_count": 23,
     "metadata": {},
     "output_type": "execute_result"
    }
   ],
   "source": [
    "#varibales in Python\n",
    "name='Shahid'\n",
    "secondName='Rasool'\n",
    "#capitalize method in Python\n",
    "name.capitalize()"
   ]
  },
  {
   "cell_type": "code",
   "execution_count": 9,
   "id": "dd433f67",
   "metadata": {},
   "outputs": [
    {
     "data": {
      "text/plain": [
       "['My', 'name', 'is', 'Shahid']"
      ]
     },
     "execution_count": 9,
     "metadata": {},
     "output_type": "execute_result"
    }
   ],
   "source": [
    "intro='My name is Shahid '\n",
    "intro.split()\n",
    "intro.split('i')"
   ]
  },
  {
   "cell_type": "code",
   "execution_count": 15,
   "id": "596e4e0a",
   "metadata": {},
   "outputs": [
    {
     "name": "stdout",
     "output_type": "stream",
     "text": [
      "This is a string INSERTED\n",
      "A quick brown fox jumps over the lazy dog\n",
      "A quick brown fox jumps over the lazy dog\n"
     ]
    }
   ],
   "source": [
    "# String formating with .format() Method\n",
    "print('This is a string {}'.format('INSERTED'))\n",
    "print('A {2} {1} {0} jumps over the lazy dog'.format('fox','brown','quick')) #using index numbers\n",
    "print('A {q} {b} {f} {j} over the lazy dog'.format(f='fox',b='brown',q='quick',j='jumps' )) #using varibles"
   ]
  },
  {
   "cell_type": "code",
   "execution_count": 30,
   "id": "884316aa",
   "metadata": {},
   "outputs": [
    {
     "name": "stdout",
     "output_type": "stream",
     "text": [
      "0.1287001287001287\n",
      "the result was           0.129\n",
      "Hello, My name is Shahid Chaudhary\n"
     ]
    }
   ],
   "source": [
    "#float formating using formate method\n",
    "result=100/777\n",
    "print(result)\n",
    "#Float Formating follows \"{value:width.prescesion}\"\n",
    "#[r=result]:[10=created empty space after (was)]. [3f= numbers after decimal] \n",
    "print(\"the result was {r:15.3f}\".format(r=result)) \n",
    "myName='Shahid Chaudhary'\n",
    "#f string formated Method\n",
    "print(f'Hello, My name is {myName}')"
   ]
  },
  {
   "cell_type": "code",
   "execution_count": null,
   "id": "6c63208c",
   "metadata": {},
   "outputs": [],
   "source": []
  },
  {
   "cell_type": "code",
   "execution_count": null,
   "id": "f20735dc",
   "metadata": {},
   "outputs": [],
   "source": []
  }
 ],
 "metadata": {
  "kernelspec": {
   "display_name": "Python 3 (ipykernel)",
   "language": "python",
   "name": "python3"
  },
  "language_info": {
   "codemirror_mode": {
    "name": "ipython",
    "version": 3
   },
   "file_extension": ".py",
   "mimetype": "text/x-python",
   "name": "python",
   "nbconvert_exporter": "python",
   "pygments_lexer": "ipython3",
   "version": "3.11.4"
  }
 },
 "nbformat": 4,
 "nbformat_minor": 5
}
