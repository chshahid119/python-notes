{
 "cells": [
  {
   "cell_type": "code",
   "execution_count": null,
   "id": "9f291ef9",
   "metadata": {},
   "outputs": [],
   "source": [
    "#-----------------------------------------------------------------------------\n",
    "# MODULE NO 8: [OOP]\n",
    "# MDOULE 8 START FROM HERE\n",
    "#-----------------------------------------------------------------------------"
   ]
  },
  {
   "cell_type": "code",
   "execution_count": null,
   "id": "f18fdc73",
   "metadata": {},
   "outputs": [],
   "source": [
    "# Introduction about Object Oriented Programming (00P)\n",
    "\"\"\"\n",
    "class NameOfClass():\n",
    "    \n",
    "    def __init__(self,param1,param2):\n",
    "        self.param1=param1\n",
    "        self.param2=param2\n",
    "        \n",
    "        \n",
    "    def some_method(self):\n",
    "        #Perform some action\n",
    "        \n",
    "        print(self.param1)\n",
    "\"\"\""
   ]
  },
  {
   "cell_type": "code",
   "execution_count": 1,
   "id": "210331d7",
   "metadata": {},
   "outputs": [],
   "source": [
    "# OOP ATTRIBUTES AND CLASS KEYWORDS \n",
    "\n",
    "class DogAnimal():\n",
    "    \n",
    "    def __init__(self,breed,name,spots):\n",
    "        \n",
    "        # Attributes\n",
    "        # We take in the Arguments\n",
    "        # Assign it using self.attribute_name\n",
    "        self.breed=breed\n",
    "        self.name=name\n",
    "        \n",
    "        # Expect Boolean True/False\n",
    "        self.spots=spots\n",
    "        "
   ]
  },
  {
   "cell_type": "code",
   "execution_count": 2,
   "id": "ed06e42b",
   "metadata": {},
   "outputs": [],
   "source": [
    "my_dog=DogAnimal(breed='Huskie',name='Sammy',spots=False)"
   ]
  },
  {
   "cell_type": "code",
   "execution_count": 3,
   "id": "52db7bb9",
   "metadata": {},
   "outputs": [
    {
     "name": "stdout",
     "output_type": "stream",
     "text": [
      "Huskie\n",
      "Sammy\n",
      "False\n"
     ]
    }
   ],
   "source": [
    "print(my_dog.breed)\n",
    "print(my_dog.name)\n",
    "print(my_dog.spots)\n"
   ]
  },
  {
   "cell_type": "code",
   "execution_count": 6,
   "id": "3c2e5571",
   "metadata": {},
   "outputs": [],
   "source": [
    "#Inheritance and Polymorphism\n",
    "\n",
    "class Animal():\n",
    "    \n",
    "    def __init__(self):\n",
    "        print('ANIMAL CREATED')\n",
    "        \n",
    "    def who_am_i(self):\n",
    "        print('I am an animal')\n",
    "        \n",
    "    def eat(self):\n",
    "        print(\"I am eating\")"
   ]
  },
  {
   "cell_type": "code",
   "execution_count": 10,
   "id": "7fb2adb7",
   "metadata": {},
   "outputs": [],
   "source": [
    "# Inheritance in Python \n",
    "class Dog(Animal):\n",
    "    \n",
    "    def __init__(self):\n",
    "        Animal.__init__(self)\n",
    "        print(\"Dog created\")\n",
    "        \n",
    "        \n",
    "    def who_am_i(self):\n",
    "        print(\"I am a dog!\")\n",
    "        \n",
    "    def bark(self):\n",
    "        print(\"WOOF!\")"
   ]
  },
  {
   "cell_type": "code",
   "execution_count": 17,
   "id": "4041e20b",
   "metadata": {},
   "outputs": [
    {
     "name": "stdout",
     "output_type": "stream",
     "text": [
      "ANIMAL CREATED\n",
      "Dog created\n"
     ]
    }
   ],
   "source": [
    "mydog=Dog()"
   ]
  },
  {
   "cell_type": "code",
   "execution_count": 16,
   "id": "7dc33195",
   "metadata": {},
   "outputs": [
    {
     "name": "stdout",
     "output_type": "stream",
     "text": [
      "1876750867664\n"
     ]
    }
   ],
   "source": [
    "# Polymoprphism \n",
    "# use one class methods and objects for different attributes and entities is polymorphism "
   ]
  },
  {
   "cell_type": "code",
   "execution_count": 57,
   "id": "1e8d325e",
   "metadata": {},
   "outputs": [],
   "source": [
    "# Special Methods \n",
    "class Book():\n",
    "    \n",
    "    def __init__(self,title,author,pages):\n",
    "        \n",
    "        self.title=title\n",
    "        self.author=author\n",
    "        self.pages=pages\n",
    "    \n",
    "    \n",
    "    #string representation of class\n",
    "    def __str__(self):\n",
    "        return f\"{self.title} by {self.author}\"\n",
    "    \n",
    "    # to check length of pages outside of class use like len() method\n",
    "    def __len__(self):\n",
    "        return self.pages\n",
    "    \n",
    "    def __del__(self):\n",
    "        print(\"A object has been deleted\")\n",
    "        "
   ]
  },
  {
   "cell_type": "code",
   "execution_count": 58,
   "id": "751669b0",
   "metadata": {},
   "outputs": [],
   "source": [
    "b=Book('Python rocks','Jose',200)"
   ]
  },
  {
   "cell_type": "code",
   "execution_count": 59,
   "id": "b06ec381",
   "metadata": {},
   "outputs": [
    {
     "name": "stdout",
     "output_type": "stream",
     "text": [
      "Python rocks by Jose\n"
     ]
    }
   ],
   "source": [
    "print(b)  # it tells what is the string representation of b so to avoid all of this we use special method in class __str__"
   ]
  },
  {
   "cell_type": "code",
   "execution_count": 60,
   "id": "9fb041d7",
   "metadata": {},
   "outputs": [
    {
     "name": "stdout",
     "output_type": "stream",
     "text": [
      "Python rocks by Jose\n"
     ]
    }
   ],
   "source": [
    "# Now it prints that string just because of string representation of class \n",
    "print(b)"
   ]
  },
  {
   "cell_type": "code",
   "execution_count": 61,
   "id": "a293d2b3",
   "metadata": {},
   "outputs": [
    {
     "data": {
      "text/plain": [
       "'Python rocks by Jose'"
      ]
     },
     "execution_count": 61,
     "metadata": {},
     "output_type": "execute_result"
    }
   ],
   "source": [
    "str(b)"
   ]
  },
  {
   "cell_type": "code",
   "execution_count": 62,
   "id": "00248605",
   "metadata": {},
   "outputs": [
    {
     "data": {
      "text/plain": [
       "200"
      ]
     },
     "execution_count": 62,
     "metadata": {},
     "output_type": "execute_result"
    }
   ],
   "source": [
    "len(b)"
   ]
  },
  {
   "cell_type": "code",
   "execution_count": 63,
   "id": "0220f22c",
   "metadata": {},
   "outputs": [
    {
     "name": "stdout",
     "output_type": "stream",
     "text": [
      "A object has been deleted\n"
     ]
    }
   ],
   "source": [
    "# Now b instance is deleted \n",
    "del b"
   ]
  },
  {
   "cell_type": "code",
   "execution_count": null,
   "id": "5bb64051",
   "metadata": {},
   "outputs": [],
   "source": [
    "#-----------------------------------------------------------------------------\n",
    "# MODOULE 8 END HERE\n",
    "#-----------------------------------------------------------------------------"
   ]
  },
  {
   "cell_type": "code",
   "execution_count": null,
   "id": "04cbaf35",
   "metadata": {},
   "outputs": [],
   "source": [
    "#-----------------------------------------------------------------------------\n",
    "# MODULE NO 9: [MODULES AND PACKAGES]\n",
    "# MDOULE 9 START FROM HERE\n",
    "#-----------------------------------------------------------------------------"
   ]
  },
  {
   "cell_type": "code",
   "execution_count": 65,
   "id": "f9b22e36",
   "metadata": {},
   "outputs": [],
   "source": [
    "# Pip install and PyPi \n",
    "# Colorama library for python for change of colors of lines of code of python on command promopt"
   ]
  },
  {
   "cell_type": "code",
   "execution_count": null,
   "id": "568436af",
   "metadata": {},
   "outputs": [],
   "source": [
    "# How to create packages and subpackages in python and how we can use them in code"
   ]
  },
  {
   "cell_type": "code",
   "execution_count": null,
   "id": "cee510b3",
   "metadata": {},
   "outputs": [],
   "source": [
    "# __name__ and __main__ useage here "
   ]
  },
  {
   "cell_type": "code",
   "execution_count": null,
   "id": "14a52f68",
   "metadata": {},
   "outputs": [],
   "source": [
    "#-----------------------------------------------------------------------------\n",
    "# MODOULE 9 END HERE\n",
    "#-----------------------------------------------------------------------------"
   ]
  },
  {
   "cell_type": "code",
   "execution_count": null,
   "id": "b989bdef",
   "metadata": {},
   "outputs": [],
   "source": [
    "#-----------------------------------------------------------------------------\n",
    "# MODULE NO 10: [ERROR AND EXCEPTION HANDLING]\n",
    "# MDOULE 10 START FROM HERE\n",
    "#-----------------------------------------------------------------------------"
   ]
  },
  {
   "cell_type": "code",
   "execution_count": 70,
   "id": "0476af53",
   "metadata": {},
   "outputs": [
    {
     "name": "stdout",
     "output_type": "stream",
     "text": [
      "Hey! it looks like you aren't adding correctly!\n"
     ]
    }
   ],
   "source": [
    "#ERRORS AND EXCEPTION HANDLING IN PYTHON\n",
    "# TRY,  EXCEPT AND FINALLY CODE BLOCKS\n",
    "try:\n",
    "    # WANT TO ATTEPT THIS CODE\n",
    "    # MAY HAVE AN ERROR\n",
    "    result=10+'10'\n",
    "except:\n",
    "    print(\"Hey! it looks like you aren't adding correctly!\")\n",
    "else:\n",
    "    print(\"Add went well!\")\n",
    "    print(result)\n",
    "    "
   ]
  },
  {
   "cell_type": "code",
   "execution_count": 71,
   "id": "c71b0536",
   "metadata": {},
   "outputs": [
    {
     "data": {
      "text/plain": [
       "'1010'"
      ]
     },
     "execution_count": 71,
     "metadata": {},
     "output_type": "execute_result"
    }
   ],
   "source": [
    "result"
   ]
  },
  {
   "cell_type": "code",
   "execution_count": null,
   "id": "1f07b750",
   "metadata": {},
   "outputs": [],
   "source": []
  },
  {
   "cell_type": "code",
   "execution_count": 78,
   "id": "61db2171",
   "metadata": {},
   "outputs": [
    {
     "name": "stdout",
     "output_type": "stream",
     "text": [
      "Hey you have an OS Error\n",
      "I always run\n"
     ]
    }
   ],
   "source": [
    "try:\n",
    "    f=open('testfile','r')\n",
    "    f.write(\"Write a test line\")\n",
    "except TypeError:\n",
    "    print(\"There was a type error\")\n",
    "except OSError:\n",
    "    print('Hey you have an OS Error')\n",
    "finally:\n",
    "    print(\"I always run\")\n",
    "    "
   ]
  },
  {
   "cell_type": "code",
   "execution_count": null,
   "id": "a8e23a6a",
   "metadata": {},
   "outputs": [],
   "source": [
    "#-----------------------------------------------------------------------------\n",
    "# MODOULE 10 END HERE\n",
    "#-----------------------------------------------------------------------------"
   ]
  },
  {
   "cell_type": "code",
   "execution_count": null,
   "id": "7bd64ef2",
   "metadata": {},
   "outputs": [],
   "source": [
    "#-----------------------------------------------------------------------------\n",
    "# MODULE NO 11: [MILESTONE PROJECT - 1]\n",
    "# MDOULE 11 START FROM HERE\n",
    "#-----------------------------------------------------------------------------"
   ]
  },
  {
   "cell_type": "code",
   "execution_count": 10,
   "id": "4887e024",
   "metadata": {},
   "outputs": [],
   "source": [
    "import random\n",
    "suits=(\"Hearts\",\"Diamonds\",\"Spades\",\"Clubs\")\n",
    "ranks=(\"Two\",\"Three\",\"Four\",\"Five\",\"Six\",\n",
    "        \"Seven\",\"Eight\",\"Nine\",\"Ten\",\"Jack\",\"Queen\",\"king\",\"Ace\")\n",
    "\n",
    "values={\"Two\":2,\"Three\":3,\"Four\":4,\"Five\":5,\"Six\":6,\"Seven\":7,\"Eight\":8,\"Nine\":9,\n",
    "        \"Ten\":10,\"Jack\":11,\"Queen\":12,\"king\":13,\"Ace\":14}"
   ]
  },
  {
   "cell_type": "code",
   "execution_count": 11,
   "id": "362ab824",
   "metadata": {},
   "outputs": [],
   "source": [
    "# Milestone project -1 \n",
    "# Suit,Rank,Value \n",
    "\n",
    "# Card Class\n",
    "class Card():\n",
    "    \n",
    "    \n",
    "    def __init__(self,suit,rank):\n",
    "        self.suit=suit\n",
    "        self.rank=rank\n",
    "        self.value=values[rank]\n",
    "        \n",
    "        \n",
    "    def __str__(self):\n",
    "        return self.rank + \" of \" +self.suit\n",
    "        "
   ]
  },
  {
   "cell_type": "code",
   "execution_count": 34,
   "id": "6628cc18",
   "metadata": {},
   "outputs": [],
   "source": [
    "# two_hearts=Card(\"Hearts\",\"Two\")"
   ]
  },
  {
   "cell_type": "code",
   "execution_count": 202,
   "id": "60728241",
   "metadata": {},
   "outputs": [],
   "source": [
    "# two_hearts.value"
   ]
  },
  {
   "cell_type": "code",
   "execution_count": 12,
   "id": "11085896",
   "metadata": {},
   "outputs": [],
   "source": [
    " # DECK class \n",
    "class Deck():\n",
    "    def __init__(self):\n",
    "        self.all_cards = []\n",
    "        \n",
    "        for suit in suits:\n",
    "            for rank in ranks:\n",
    "                #create the card object \n",
    "                created_card=Card(suit,rank)\n",
    "                \n",
    "                self.all_cards.append(created_card)\n",
    "                \n",
    "    def shuffle(self):\n",
    "        random.shuffle(self.all_cards)\n",
    "    def deal_one(self):\n",
    "        return self.all_cards.pop()\n",
    "        "
   ]
  },
  {
   "cell_type": "code",
   "execution_count": 225,
   "id": "194619b9",
   "metadata": {},
   "outputs": [],
   "source": [
    "# Now this new instance makes the cards object for every suit and ranks \n",
    "# new_deck=Deck()"
   ]
  },
  {
   "cell_type": "code",
   "execution_count": 227,
   "id": "8794a88a",
   "metadata": {},
   "outputs": [],
   "source": [
    "# mycard=new_deck.deal_one()"
   ]
  },
  {
   "cell_type": "code",
   "execution_count": 228,
   "id": "10e11dbe",
   "metadata": {},
   "outputs": [],
   "source": [
    "# Using Deck class we make an instances of card for every suit and rank\n",
    "# bottom_card=new_deck.all_cards[-1]"
   ]
  },
  {
   "cell_type": "code",
   "execution_count": 229,
   "id": "73cba70a",
   "metadata": {},
   "outputs": [
    {
     "name": "stdout",
     "output_type": "stream",
     "text": [
      "king of Clubs\n"
     ]
    }
   ],
   "source": [
    "# print(bottom_card)"
   ]
  },
  {
   "cell_type": "code",
   "execution_count": 116,
   "id": "236bdf37",
   "metadata": {},
   "outputs": [],
   "source": [
    "# for card_object in new_deck.all_cards:\n",
    "#     print(card_object)\n",
    "    "
   ]
  },
  {
   "cell_type": "code",
   "execution_count": 230,
   "id": "26517f79",
   "metadata": {},
   "outputs": [],
   "source": [
    "# new_deck.shuffle()"
   ]
  },
  {
   "cell_type": "code",
   "execution_count": 231,
   "id": "db166ec8",
   "metadata": {},
   "outputs": [
    {
     "name": "stdout",
     "output_type": "stream",
     "text": [
      "Four of Spades\n"
     ]
    }
   ],
   "source": [
    "# print(new_deck.all_cards[-1])"
   ]
  },
  {
   "cell_type": "code",
   "execution_count": 21,
   "id": "69acddf1",
   "metadata": {},
   "outputs": [],
   "source": [
    "# Player Class\n",
    "\n",
    "class Player:\n",
    "    \n",
    "    def __init__(self,name):\n",
    "        self.name=name\n",
    "        self.all_cards=[]\n",
    "        \n",
    "    def remove_one(self):\n",
    "        return self.all_cards.pop(0)\n",
    "    \n",
    "    def add_cards(self,new_cards):\n",
    "        if type(new_cards)==type([]):\n",
    "#             list of multiple Card Objects \n",
    "            self.all_cards.extend(new_cards)\n",
    "        else:\n",
    "#             for single card object\n",
    "            self.all_cards.append(new_cards)\n",
    "    \n",
    "    def __str__(self):\n",
    "        return f\"Player {self.name} has {len(self.all_cards)} cards\"\n",
    "        "
   ]
  },
  {
   "cell_type": "code",
   "execution_count": 280,
   "id": "5b63705a",
   "metadata": {},
   "outputs": [],
   "source": [
    "# new_player=Player(\"Jose\")"
   ]
  },
  {
   "cell_type": "code",
   "execution_count": 264,
   "id": "3de7b1b0",
   "metadata": {},
   "outputs": [
    {
     "name": "stdout",
     "output_type": "stream",
     "text": [
      "Player Jose has 0 cards\n"
     ]
    }
   ],
   "source": [
    "# print(new_player)"
   ]
  },
  {
   "cell_type": "code",
   "execution_count": 265,
   "id": "b97d3fa0",
   "metadata": {},
   "outputs": [],
   "source": [
    "# new_player.add_cards(mycard)"
   ]
  },
  {
   "cell_type": "code",
   "execution_count": 266,
   "id": "9cb499b9",
   "metadata": {},
   "outputs": [
    {
     "name": "stdout",
     "output_type": "stream",
     "text": [
      "Ace of Clubs\n"
     ]
    }
   ],
   "source": [
    "# print(new_player.all_cards[0])"
   ]
  },
  {
   "cell_type": "code",
   "execution_count": 267,
   "id": "3178dc74",
   "metadata": {},
   "outputs": [
    {
     "name": "stdout",
     "output_type": "stream",
     "text": [
      "Player Jose has 1 cards\n"
     ]
    }
   ],
   "source": [
    "# print(new_player)"
   ]
  },
  {
   "cell_type": "code",
   "execution_count": 268,
   "id": "2b8d1590",
   "metadata": {},
   "outputs": [
    {
     "data": {
      "text/plain": [
       "<__main__.Card at 0x22f1aa08110>"
      ]
     },
     "execution_count": 268,
     "metadata": {},
     "output_type": "execute_result"
    }
   ],
   "source": [
    "# new_player.remove_one()"
   ]
  },
  {
   "cell_type": "code",
   "execution_count": 269,
   "id": "c01af1f3",
   "metadata": {},
   "outputs": [
    {
     "name": "stdout",
     "output_type": "stream",
     "text": [
      "Player Jose has 0 cards\n"
     ]
    }
   ],
   "source": [
    "# print(new_player)"
   ]
  },
  {
   "cell_type": "code",
   "execution_count": 22,
   "id": "a9544625",
   "metadata": {},
   "outputs": [],
   "source": [
    "# GAME SETUP \n",
    "player_one=Player(\"One\")\n",
    "player_two=Player(\"Two\")\n",
    "\n",
    "\n",
    "# it Created the instance of Deck Class (in which cards are kept)\n",
    "new_deck=Deck()\n",
    "# it shuffles all the cards to divide into both players\n",
    "new_deck.shuffle()\n",
    "\n",
    "\n",
    "for x in range(26):\n",
    "    player_one.add_cards(new_deck.deal_one())\n",
    "    player_two.add_cards(new_deck.deal_one())"
   ]
  },
  {
   "cell_type": "code",
   "execution_count": 318,
   "id": "cf7b4400",
   "metadata": {},
   "outputs": [
    {
     "data": {
      "text/plain": [
       "26"
      ]
     },
     "execution_count": 318,
     "metadata": {},
     "output_type": "execute_result"
    }
   ],
   "source": [
    "len(player_one.all_cards)"
   ]
  },
  {
   "cell_type": "code",
   "execution_count": 23,
   "id": "6ceb2a47",
   "metadata": {},
   "outputs": [
    {
     "name": "stdout",
     "output_type": "stream",
     "text": [
      "Round 1\n",
      "Round 2\n",
      "Round 3\n",
      "Round 4\n",
      "Round 5\n",
      "Round 6\n",
      "Round 7\n",
      "Round 8\n",
      "Round 9\n",
      "Round 10\n",
      "Round 11\n",
      "Round 12\n",
      "WAR!\n",
      "Round 13\n",
      "Round 14\n",
      "Round 15\n",
      "Round 16\n",
      "WAR!\n",
      "Round 17\n",
      "Round 18\n",
      "Round 19\n",
      "Round 20\n",
      "Round 21\n",
      "Round 22\n",
      "Round 23\n",
      "Round 24\n",
      "Round 25\n",
      "Round 26\n",
      "Round 27\n",
      "Round 28\n",
      "Round 29\n",
      "Round 30\n",
      "Round 31\n",
      "Round 32\n",
      "Round 33\n",
      "Round 34\n",
      "Round 35\n",
      "Round 36\n",
      "Round 37\n",
      "Round 38\n",
      "Round 39\n",
      "Round 40\n",
      "Round 41\n",
      "Round 42\n",
      "Round 43\n",
      "Round 44\n",
      "Round 45\n",
      "Round 46\n",
      "WAR!\n",
      "Round 47\n",
      "Round 48\n",
      "Round 49\n",
      "Round 50\n",
      "Round 51\n",
      "Round 52\n",
      "Round 53\n",
      "Round 54\n",
      "Round 55\n",
      "Round 56\n",
      "Round 57\n",
      "Round 58\n",
      "Round 59\n",
      "Round 60\n",
      "Round 61\n",
      "Round 62\n",
      "Round 63\n",
      "Round 64\n",
      "Round 65\n",
      "WAR!\n",
      "Round 66\n",
      "Round 67\n",
      "Round 68\n",
      "Round 69\n",
      "Round 70\n",
      "Round 71\n",
      "Round 72\n",
      "Round 73\n",
      "Round 74\n",
      "Round 75\n",
      "Round 76\n",
      "WAR!\n",
      "Round 77\n",
      "Round 78\n",
      "Round 79\n",
      "Round 80\n",
      "Round 81\n",
      "Round 82\n",
      "Round 83\n",
      "Round 84\n",
      "Round 85\n",
      "Round 86\n",
      "Round 87\n",
      "Round 88\n",
      "Round 89\n",
      "Round 90\n",
      "Round 91\n",
      "Round 92\n",
      "Round 93\n",
      "Round 94\n",
      "Round 95\n",
      "Round 96\n",
      "Round 97\n",
      "Round 98\n",
      "Round 99\n",
      "Round 100\n",
      "Round 101\n",
      "Round 102\n",
      "Round 103\n",
      "Round 104\n",
      "Round 105\n",
      "Round 106\n",
      "Round 107\n",
      "Round 108\n",
      "Round 109\n",
      "Round 110\n",
      "Round 111\n",
      "Round 112\n",
      "Round 113\n",
      "Round 114\n",
      "Round 115\n",
      "Round 116\n",
      "Round 117\n",
      "Round 118\n",
      "Round 119\n",
      "Round 120\n",
      "Round 121\n",
      "Round 122\n",
      "Round 123\n",
      "Round 124\n",
      "Round 125\n",
      "Round 126\n",
      "Round 127\n",
      "Round 128\n",
      "Round 129\n",
      "Round 130\n",
      "Round 131\n",
      "Round 132\n",
      "Round 133\n",
      "Round 134\n",
      "Round 135\n",
      "Round 136\n",
      "Round 137\n",
      "Round 138\n",
      "Round 139\n",
      "Round 140\n",
      "Round 141\n",
      "Round 142\n",
      "Round 143\n",
      "Round 144\n",
      "Round 145\n",
      "Round 146\n",
      "Round 147\n",
      "Round 148\n",
      "Round 149\n",
      "Round 150\n",
      "Round 151\n",
      "Round 152\n",
      "Round 153\n",
      "Round 154\n",
      "Round 155\n",
      "Round 156\n",
      "Round 157\n",
      "Round 158\n",
      "Round 159\n",
      "Round 160\n",
      "Round 161\n",
      "Round 162\n",
      "Round 163\n",
      "Round 164\n",
      "Round 165\n",
      "Round 166\n",
      "Round 167\n",
      "Round 168\n",
      "Round 169\n",
      "Round 170\n",
      "Round 171\n",
      "Round 172\n",
      "Round 173\n",
      "Round 174\n",
      "Round 175\n",
      "Round 176\n",
      "Round 177\n",
      "Round 178\n",
      "Round 179\n",
      "Round 180\n",
      "Round 181\n",
      "Round 182\n",
      "Round 183\n",
      "Round 184\n",
      "Round 185\n",
      "Round 186\n",
      "Round 187\n",
      "Round 188\n",
      "Round 189\n",
      "Round 190\n",
      "Round 191\n",
      "Round 192\n",
      "Round 193\n",
      "Round 194\n",
      "Round 195\n",
      "Round 196\n",
      "Round 197\n",
      "Round 198\n",
      "Round 199\n",
      "Round 200\n",
      "Round 201\n",
      "Round 202\n",
      "Round 203\n",
      "Round 204\n",
      "Round 205\n",
      "Round 206\n",
      "Round 207\n",
      "Round 208\n",
      "Round 209\n",
      "Round 210\n",
      "Round 211\n",
      "Round 212\n",
      "Round 213\n",
      "Round 214\n",
      "Round 215\n",
      "Round 216\n",
      "Round 217\n",
      "Round 218\n",
      "Round 219\n",
      "Round 220\n",
      "Round 221\n",
      "Round 222\n",
      "Round 223\n",
      "Round 224\n",
      "Round 225\n",
      "Round 226\n",
      "WAR!\n",
      "Round 227\n",
      "Round 228\n",
      "Round 229\n",
      "Round 230\n",
      "Round 231\n",
      "WAR!\n",
      "WAR!\n",
      "Round 232\n",
      "Round 233\n",
      "Round 234\n",
      "Round 235\n",
      "Round 236\n",
      "Round 237\n",
      "Round 238\n",
      "Round 239\n",
      "Round 240\n",
      "Round 241\n",
      "Round 242\n",
      "Round 243\n",
      "Round 244\n",
      "Round 245\n",
      "Round 246\n",
      "Round 247\n",
      "Round 248\n",
      "Round 249\n",
      "Round 250\n",
      "Round 251\n",
      "Round 252\n",
      "Round 253\n",
      "Round 254\n",
      "Round 255\n",
      "Round 256\n",
      "Round 257\n",
      "Round 258\n",
      "Round 259\n",
      "Round 260\n",
      "Round 261\n",
      "WAR!\n",
      "Round 262\n",
      "Round 263\n",
      "Round 264\n",
      "Round 265\n",
      "Round 266\n",
      "Round 267\n",
      "Round 268\n",
      "Round 269\n",
      "WAR!\n",
      "Round 270\n",
      "Round 271\n",
      "Player One, out of cards! Player Two Wins!\n"
     ]
    }
   ],
   "source": [
    "#while game_on\n",
    "game_on=True\n",
    "round_num=0\n",
    "while game_on:\n",
    "    round_num +=1\n",
    "    print(f\"Round {round_num}\")\n",
    "    \n",
    "    if len(player_one.all_cards)==0:\n",
    "        print('Player One, out of cards! Player Two Wins!')\n",
    "        game_on=False\n",
    "        break\n",
    "    if len(player_two.all_cards)==0:\n",
    "        print('Player Two, out of cards! Player One Wins!')\n",
    "        game_on=False\n",
    "        break\n",
    "#     Start a New Round\n",
    "    player_one_cards=[]\n",
    "    player_one_cards.append(player_one.remove_one())\n",
    "    player_two_cards=[]\n",
    "    player_two_cards.append(player_two.remove_one())\n",
    "    \n",
    " \n",
    "    \n",
    "    # while at_war\n",
    "    at_war=True\n",
    "    \n",
    "    while at_war:\n",
    "        if player_one_cards[-1].value > player_two_cards[-1].value:\n",
    "            player_one.add_cards(player_one_cards)\n",
    "            player_one.add_cards(player_two_cards)\n",
    "            \n",
    "            at_war=False\n",
    "        elif player_one_cards[-1].value < player_two_cards[-1].value:\n",
    "            player_two.add_cards(player_one_cards)\n",
    "            player_two.add_cards(player_two_cards)\n",
    "            \n",
    "            at_war=False\n",
    "        else:\n",
    "            print('WAR!')\n",
    "            \n",
    "            if len(player_one.all_cards) < 3:\n",
    "                print(\"Player One Unable to declare war\")\n",
    "                print(\"PLAYER TWO WINS!\")\n",
    "                game_on=False\n",
    "                break\n",
    "            elif len(player_two.all_cards) < 3:\n",
    "                print(\"Player Two Unable to declare war\")\n",
    "                print(\"PLAYER ONE WINS!\")\n",
    "                game_on=False\n",
    "                break\n",
    "            else:\n",
    "                for num in range(3):\n",
    "                    player_one_cards.append(player_one.remove_one())\n",
    "                    player_one_cards.append(player_two.remove_one())\n",
    "                 \n",
    "        \n",
    "        "
   ]
  },
  {
   "cell_type": "code",
   "execution_count": 24,
   "id": "0c77bfbb",
   "metadata": {},
   "outputs": [
    {
     "data": {
      "text/plain": [
       "0"
      ]
     },
     "execution_count": 24,
     "metadata": {},
     "output_type": "execute_result"
    }
   ],
   "source": [
    "len(player_one.all_cards)"
   ]
  },
  {
   "cell_type": "code",
   "execution_count": 25,
   "id": "aba4579c",
   "metadata": {},
   "outputs": [
    {
     "data": {
      "text/plain": [
       "52"
      ]
     },
     "execution_count": 25,
     "metadata": {},
     "output_type": "execute_result"
    }
   ],
   "source": [
    "len(player_two.all_cards)"
   ]
  },
  {
   "cell_type": "code",
   "execution_count": null,
   "id": "0f12c356",
   "metadata": {},
   "outputs": [],
   "source": [
    "# MODULE 11 IS STILL UNCOMPLETED THE SECOND MILESTONE PROJECT IS PEDNING"
   ]
  },
  {
   "cell_type": "code",
   "execution_count": 26,
   "id": "3780ce25",
   "metadata": {},
   "outputs": [],
   "source": [
    "#-----------------------------------------------------------------------------\n",
    "# MODOULE 11 END HERE\n",
    "#-----------------------------------------------------------------------------"
   ]
  },
  {
   "cell_type": "code",
   "execution_count": 37,
   "id": "549b5a77",
   "metadata": {},
   "outputs": [],
   "source": [
    "#-----------------------------------------------------------------------------\n",
    "# MODULE NO 12: [PYTHON DECORATORS]\n",
    "# MDOULE 12 START FROM HERE\n",
    "#-----------------------------------------------------------------------------"
   ]
  },
  {
   "cell_type": "code",
   "execution_count": 93,
   "id": "b87ee4dd",
   "metadata": {},
   "outputs": [],
   "source": [
    "# DECORATORS IN PYTHON  \n",
    "\n",
    "\n",
    "def hello(name='Jose'):\n",
    "    print('The hello() function has been executed!')\n",
    "    \n",
    "    def greet():\n",
    "        return '\\t This is the greet() func inside hello!'\n",
    "    \n",
    "    \n",
    "    def welcome():\n",
    "        return '\\t This is welcome() inside hello!'\n",
    "    \n",
    "#     print(greet())\n",
    "#     print(welcome())\n",
    "#     print('This is the enf of the hello function!')\n",
    "    \n",
    "    \n",
    "    if name=='Jose':\n",
    "        return greet\n",
    "    else:\n",
    "        return welcome\n",
    "        \n",
    "#     if name=='One':\n",
    "#         return innerFuncOne\n",
    "#     else:\n",
    "#         return innerFuncTwo"
   ]
  },
  {
   "cell_type": "code",
   "execution_count": 94,
   "id": "c4d20aea",
   "metadata": {},
   "outputs": [
    {
     "name": "stdout",
     "output_type": "stream",
     "text": [
      "The hello() function has been executed!\n"
     ]
    }
   ],
   "source": [
    "greet=hello('Jose')"
   ]
  },
  {
   "cell_type": "code",
   "execution_count": 95,
   "id": "e4419593",
   "metadata": {},
   "outputs": [
    {
     "data": {
      "text/plain": [
       "'\\t This is the greet() func inside hello!'"
      ]
     },
     "execution_count": 95,
     "metadata": {},
     "output_type": "execute_result"
    }
   ],
   "source": [
    "greet()"
   ]
  },
  {
   "cell_type": "code",
   "execution_count": 36,
   "id": "cfa61ca8",
   "metadata": {},
   "outputs": [
    {
     "name": "stdout",
     "output_type": "stream",
     "text": [
      "Other Code runs here!\n",
      "My name is Shahid\n"
     ]
    }
   ],
   "source": [
    "\n",
    "def shahid():\n",
    "    return 'My name is Shahid'\n",
    "def name(new_func):\n",
    "    print('Other Code runs here!')\n",
    "    print(new_func())\n",
    "\n",
    "name(shahid)\n",
    "#"
   ]
  },
  {
   "cell_type": "code",
   "execution_count": 32,
   "id": "f8de6ef8",
   "metadata": {},
   "outputs": [],
   "source": [
    "\n"
   ]
  },
  {
   "cell_type": "code",
   "execution_count": null,
   "id": "cea648f8",
   "metadata": {},
   "outputs": [],
   "source": []
  },
  {
   "cell_type": "code",
   "execution_count": null,
   "id": "b2099e6e",
   "metadata": {},
   "outputs": [],
   "source": []
  },
  {
   "cell_type": "code",
   "execution_count": null,
   "id": "f56e6356",
   "metadata": {},
   "outputs": [],
   "source": []
  },
  {
   "cell_type": "code",
   "execution_count": null,
   "id": "8a72346c",
   "metadata": {},
   "outputs": [],
   "source": [
    "#-----------------------------------------------------------------------------\n",
    "# MODOULE 12 END HERE\n",
    "#-----------------------------------------------------------------------------"
   ]
  }
 ],
 "metadata": {
  "kernelspec": {
   "display_name": "Python 3 (ipykernel)",
   "language": "python",
   "name": "python3"
  },
  "language_info": {
   "codemirror_mode": {
    "name": "ipython",
    "version": 3
   },
   "file_extension": ".py",
   "mimetype": "text/x-python",
   "name": "python",
   "nbconvert_exporter": "python",
   "pygments_lexer": "ipython3",
   "version": "3.11.4"
  }
 },
 "nbformat": 4,
 "nbformat_minor": 5
}
