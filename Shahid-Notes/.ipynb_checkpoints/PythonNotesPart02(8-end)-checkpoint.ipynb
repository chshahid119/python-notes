{
 "cells": [
  {
   "cell_type": "code",
   "execution_count": null,
   "id": "9f291ef9",
   "metadata": {},
   "outputs": [],
   "source": [
    "#-----------------------------------------------------------------------------\n",
    "# MODULE NO 8: [OOP]\n",
    "# MDOULE 8 START FROM HERE\n",
    "#-----------------------------------------------------------------------------"
   ]
  },
  {
   "cell_type": "code",
   "execution_count": null,
   "id": "f18fdc73",
   "metadata": {},
   "outputs": [],
   "source": [
    "# Introduction about Object Oriented Programming (00P)\n",
    "\"\"\"\n",
    "class NameOfClass():\n",
    "    \n",
    "    def __init__(self,param1,param2):\n",
    "        self.param1=param1\n",
    "        self.param2=param2\n",
    "        \n",
    "        \n",
    "    def some_method(self):\n",
    "        #Perform some action\n",
    "        \n",
    "        print(self.param1)\n",
    "\"\"\""
   ]
  },
  {
   "cell_type": "code",
   "execution_count": 1,
   "id": "210331d7",
   "metadata": {},
   "outputs": [],
   "source": [
    "# OOP ATTRIBUTES AND CLASS KEYWORDS \n",
    "\n",
    "class DogAnimal():\n",
    "    \n",
    "    def __init__(self,breed,name,spots):\n",
    "        \n",
    "        # Attributes\n",
    "        # We take in the Arguments\n",
    "        # Assign it using self.attribute_name\n",
    "        self.breed=breed\n",
    "        self.name=name\n",
    "        \n",
    "        # Expect Boolean True/False\n",
    "        self.spots=spots\n",
    "        "
   ]
  },
  {
   "cell_type": "code",
   "execution_count": 2,
   "id": "ed06e42b",
   "metadata": {},
   "outputs": [],
   "source": [
    "my_dog=DogAnimal(breed='Huskie',name='Sammy',spots=False)"
   ]
  },
  {
   "cell_type": "code",
   "execution_count": 3,
   "id": "52db7bb9",
   "metadata": {},
   "outputs": [
    {
     "name": "stdout",
     "output_type": "stream",
     "text": [
      "Huskie\n",
      "Sammy\n",
      "False\n"
     ]
    }
   ],
   "source": [
    "print(my_dog.breed)\n",
    "print(my_dog.name)\n",
    "print(my_dog.spots)\n"
   ]
  },
  {
   "cell_type": "code",
   "execution_count": 6,
   "id": "db439c9b",
   "metadata": {},
   "outputs": [],
   "source": [
    "#Inheritance and Polymorphism\n",
    "\n",
    "class Animal():\n",
    "    \n",
    "    def __init__(self):\n",
    "        print('ANIMAL CREATED')\n",
    "        \n",
    "    def who_am_i(self):\n",
    "        print('I am an animal')\n",
    "        \n",
    "    def eat(self):\n",
    "        print(\"I am eating\")"
   ]
  },
  {
   "cell_type": "code",
   "execution_count": 10,
   "id": "e5d44ac7",
   "metadata": {},
   "outputs": [],
   "source": [
    "# Inheritance in Python \n",
    "class Dog(Animal):\n",
    "    \n",
    "    def __init__(self):\n",
    "        Animal.__init__(self)\n",
    "        print(\"Dog created\")\n",
    "        \n",
    "        \n",
    "    def who_am_i(self):\n",
    "        print(\"I am a dog!\")\n",
    "        \n",
    "    def bark(self):\n",
    "        print(\"WOOF!\")"
   ]
  },
  {
   "cell_type": "code",
   "execution_count": 17,
   "id": "f5a20140",
   "metadata": {},
   "outputs": [
    {
     "name": "stdout",
     "output_type": "stream",
     "text": [
      "ANIMAL CREATED\n",
      "Dog created\n"
     ]
    }
   ],
   "source": [
    "mydog=Dog()"
   ]
  },
  {
   "cell_type": "code",
   "execution_count": 16,
   "id": "64ac8451",
   "metadata": {},
   "outputs": [
    {
     "name": "stdout",
     "output_type": "stream",
     "text": [
      "1876750867664\n"
     ]
    }
   ],
   "source": [
    "# Polymoprphism \n",
    "# use one class methods and objects for different attributes and entities is polymorphism "
   ]
  },
  {
   "cell_type": "code",
   "execution_count": 57,
   "id": "9a6e922b",
   "metadata": {},
   "outputs": [],
   "source": [
    "# Special Methods \n",
    "class Book():\n",
    "    \n",
    "    def __init__(self,title,author,pages):\n",
    "        \n",
    "        self.title=title\n",
    "        self.author=author\n",
    "        self.pages=pages\n",
    "    \n",
    "    \n",
    "    #string representation of class\n",
    "    def __str__(self):\n",
    "        return f\"{self.title} by {self.author}\"\n",
    "    \n",
    "    # to check length of pages outside of class use like len() method\n",
    "    def __len__(self):\n",
    "        return self.pages\n",
    "    \n",
    "    def __del__(self):\n",
    "        print(\"A object has been deleted\")\n",
    "        "
   ]
  },
  {
   "cell_type": "code",
   "execution_count": 58,
   "id": "ddd36b49",
   "metadata": {},
   "outputs": [],
   "source": [
    "b=Book('Python rocks','Jose',200)"
   ]
  },
  {
   "cell_type": "code",
   "execution_count": 59,
   "id": "c6bf344e",
   "metadata": {},
   "outputs": [
    {
     "name": "stdout",
     "output_type": "stream",
     "text": [
      "Python rocks by Jose\n"
     ]
    }
   ],
   "source": [
    "print(b)  # it tells what is the string representation of b so to avoid all of this we use special method in class __str__"
   ]
  },
  {
   "cell_type": "code",
   "execution_count": 60,
   "id": "ea074951",
   "metadata": {},
   "outputs": [
    {
     "name": "stdout",
     "output_type": "stream",
     "text": [
      "Python rocks by Jose\n"
     ]
    }
   ],
   "source": [
    "# Now it prints that string just because of string representation of class \n",
    "print(b)"
   ]
  },
  {
   "cell_type": "code",
   "execution_count": 61,
   "id": "9e4931dd",
   "metadata": {},
   "outputs": [
    {
     "data": {
      "text/plain": [
       "'Python rocks by Jose'"
      ]
     },
     "execution_count": 61,
     "metadata": {},
     "output_type": "execute_result"
    }
   ],
   "source": [
    "str(b)"
   ]
  },
  {
   "cell_type": "code",
   "execution_count": 62,
   "id": "a98edc2c",
   "metadata": {},
   "outputs": [
    {
     "data": {
      "text/plain": [
       "200"
      ]
     },
     "execution_count": 62,
     "metadata": {},
     "output_type": "execute_result"
    }
   ],
   "source": [
    "len(b)"
   ]
  },
  {
   "cell_type": "code",
   "execution_count": 63,
   "id": "41518707",
   "metadata": {},
   "outputs": [
    {
     "name": "stdout",
     "output_type": "stream",
     "text": [
      "A object has been deleted\n"
     ]
    }
   ],
   "source": [
    "# Now b instance is deleted \n",
    "del b"
   ]
  },
  {
   "cell_type": "markdown",
   "id": "cb6c9728",
   "metadata": {},
   "source": [
    "#-----------------------------------------------------------------------------\n",
    "# MODOULE 8 END HERE\n",
    "#-----------------------------------------------------------------------------"
   ]
  },
  {
   "cell_type": "code",
   "execution_count": null,
   "id": "73201810",
   "metadata": {},
   "outputs": [],
   "source": [
    "#-----------------------------------------------------------------------------\n",
    "# MODULE NO 9: [MODULES AND PACKAGES]\n",
    "# MDOULE 9 START FROM HERE\n",
    "#-----------------------------------------------------------------------------"
   ]
  },
  {
   "cell_type": "code",
   "execution_count": null,
   "id": "7bf3b302",
   "metadata": {},
   "outputs": [],
   "source": [
    "# Pip install and PyPi "
   ]
  },
  {
   "cell_type": "code",
   "execution_count": null,
   "id": "d698c1a7",
   "metadata": {},
   "outputs": [],
   "source": []
  },
  {
   "cell_type": "code",
   "execution_count": null,
   "id": "a7169d5b",
   "metadata": {},
   "outputs": [],
   "source": []
  },
  {
   "cell_type": "code",
   "execution_count": null,
   "id": "26a2ea77",
   "metadata": {},
   "outputs": [],
   "source": []
  },
  {
   "cell_type": "code",
   "execution_count": null,
   "id": "1a2b0401",
   "metadata": {},
   "outputs": [],
   "source": [
    "#-----------------------------------------------------------------------------\n",
    "# MODOULE 9 END HERE\n",
    "#-----------------------------------------------------------------------------"
   ]
  }
 ],
 "metadata": {
  "kernelspec": {
   "display_name": "Python 3 (ipykernel)",
   "language": "python",
   "name": "python3"
  },
  "language_info": {
   "codemirror_mode": {
    "name": "ipython",
    "version": 3
   },
   "file_extension": ".py",
   "mimetype": "text/x-python",
   "name": "python",
   "nbconvert_exporter": "python",
   "pygments_lexer": "ipython3",
   "version": "3.11.4"
  }
 },
 "nbformat": 4,
 "nbformat_minor": 5
}
