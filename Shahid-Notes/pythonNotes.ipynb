{
 "cells": [
  {
   "cell_type": "markdown",
   "id": "17786de8",
   "metadata": {},
   "source": [
    "COURSE INTRODUCTION\n",
    "#COURSE TITLE: The Complete Python Bootcamp From Zero to Hero in Python\n",
    "#DESCRIPTION: Learn Python like a Professional Start from the basics and\n",
    "    #go all the way to creating your own applications and games\n",
    "#CREATED BY JOSE PORTILLA\n",
    "\n",
    "##ALL MODULES\n",
    "1)COURSE OVERVIEW\n",
    "2)PYTHON SETUP\n",
    "3)PYTHON OBJECT AND DATA STRUCTURE BASICS\n",
    "4)PYTHON COMPARISON OPERATORS\n",
    "5)PYTHON STATEMENTS"
   ]
  },
  {
   "cell_type": "markdown",
   "id": "fdd53f1e",
   "metadata": {},
   "source": [
    "#-----------------------------------------------------------------------------\n",
    "# MODULE NO 1: [COURSE OVERVIEW]\n",
    "MDOULE 1 START FROM HERE\n",
    "#-----------------------------------------------------------------------------"
   ]
  },
  {
   "cell_type": "markdown",
   "id": "19fb6bc0",
   "metadata": {},
   "source": [
    "HERE WE DISCUSS USEFULL TIPS HOW TO ACCESS THE SOURCE CODE\n",
    "HOW TO ACCESS COURSE NOTES AND SLIDES\n",
    "COURSE CURRICULAM OVERVIEW ->DISCUSSION ABOUT ALL MODULES\n",
    "WHAT YOU CAN DO WITH PYTHON? explore"
   ]
  },
  {
   "cell_type": "markdown",
   "id": "b1d245dc",
   "metadata": {},
   "source": [
    "WHY PYTHON? \n",
    "PURPOSES TO LEARN PYTHON \n",
    "1) DESIGNED FOR CLEAR LOGICAL CODE THAT IS EASY TO READ AND LEARN\n",
    "2) LOTS OF EXISTING LIBRARIES AND FRAMEWORKS WRITTEN IN PYTHON ALLOWING USERS TO APPLY PYTHON TO A WIDE VARIETY OF TASKS\n",
    "3) FOCUSES ON OPTIMIZING DEVELOPER TIME, RATHER THAN A COMPUTER'S PROCESSING TIME\n",
    "4) GREAT DOCUMENTATION ONLINE: https://docs.python.org/3 "
   ]
  },
  {
   "cell_type": "code",
   "execution_count": null,
   "id": "aed32511",
   "metadata": {},
   "outputs": [],
   "source": [
    "#-----------------------------------------------------------------------------\n",
    "MODOULE 1 END HERE\n",
    "#-----------------------------------------------------------------------------"
   ]
  },
  {
   "cell_type": "markdown",
   "id": "40032878",
   "metadata": {},
   "source": [
    "#-----------------------------------------------------------------------------\n",
    "# MODULE NO 2: [PYTHON SETUP]\n",
    "MDOULE 2 START FROM HERE\n",
    "#-----------------------------------------------------------------------------"
   ]
  },
  {
   "cell_type": "markdown",
   "id": "e407d1fc",
   "metadata": {},
   "source": [
    "COMMAND LINE BASICS\n",
    "+before we install anything, its important to have a very quick overview of how to work at the command line.\n",
    "+This allows you to programmtically move through your computer's directories\n",
    "\n",
    "WINDOW COMMAND LINE COMMANDS (open command prompt)\n",
    ">cd (gives directory where you are currently in)\n",
    ">dir (gives content of the current directory)\n",
    "cd Desktop (Now the working directory becomes Desktop)\n",
    "cd .. (Now we came back one step in previous directory)\n",
    "\n",
    "MAC-OS AND LINUX COMMANDS (open terminal)\n",
    "~pwd (gives present working directory\n",
    "~ls (gives the list of all directories in present working directory)\n",
    "~cd Desktop (Now jumps to Desktop directory)\n",
    "~cd .. (to move back directory)"
   ]
  },
  {
   "cell_type": "code",
   "execution_count": 42,
   "id": "2d0e011e",
   "metadata": {},
   "outputs": [
    {
     "data": {
      "text/plain": [
       "4"
      ]
     },
     "execution_count": 42,
     "metadata": {},
     "output_type": "execute_result"
    }
   ],
   "source": [
    "##INSTALLING PYTHON\n",
    "# Install anaconda distribution for python\n",
    "3+1 #to run the cell===> shift + Enter\n",
    "\n",
    "# No instalation options for Python Execution\n",
    "# 1 jupyter.org/try\n",
    "# 2 Google Collab Online Notebooks\n",
    "# 3 Repl.it\n",
    "# 4 Google Search: \"Python Interpreter Online\""
   ]
  },
  {
   "cell_type": "code",
   "execution_count": 49,
   "id": "f9e203b7",
   "metadata": {},
   "outputs": [
    {
     "name": "stdout",
     "output_type": "stream",
     "text": [
      "Hello World! Shahid is Here\n"
     ]
    }
   ],
   "source": [
    "# Running Python Code \n",
    "# Types of Python Environments\n",
    "# -->Full IDEs\n",
    "# + Development environments designed specifically for Python\n",
    "# Larger Programms\n",
    "# Only Community editions are free\n",
    "# Designed Specifically for Python, lots of extra functionality\n",
    "# Most Popular IDE's : Pycharm and Spider\n",
    "\n",
    "# --->Notebook Environments\n",
    "# +Great for Learning\n",
    "# +See input and output next to each other\n",
    "# +Support in-line markdown notes, visulizations, videos and more\n",
    "# +Special file formats that are not .py\n",
    "\n",
    "# Most Important Note:\n",
    "# + DEvelopments Environments are a personal choice highly dependent on personal preferance \n",
    "\n",
    "\n",
    "#Downloading Sublime text editor\n",
    "# Running PYTHON CODE\n",
    "print('Hello World! Shahid is Here')"
   ]
  },
  {
   "cell_type": "markdown",
   "id": "00d82699",
   "metadata": {},
   "source": [
    "GETTING THE NOTEBOOKS AND THE COURSE MATERIAL \n",
    " RESOURCE LINK: https://github.com/Pierian-Data/Complete-Python-3-Bootcamp\n",
    " All well ordered material of Sir present in my Repository with Link:- https://github.com/chshahid119/python-notes"
   ]
  },
  {
   "cell_type": "markdown",
   "id": "e550b2eb",
   "metadata": {},
   "source": [
    "Git and Github OverView Lecture\n",
    "-->Check the Github Documentation to Learn about Github"
   ]
  },
  {
   "cell_type": "markdown",
   "id": "ef6ffd3c",
   "metadata": {},
   "source": [
    "#-----------------------------------------------------------------------------\n",
    "M0DOULE 2 END HERE\n",
    "#-----------------------------------------------------------------------------"
   ]
  },
  {
   "cell_type": "markdown",
   "id": "01e4990b",
   "metadata": {},
   "source": [
    "#-----------------------------------------------------------------------------\n",
    "# MODULE NO 3: [PYTHON OBJECTS AND DATA STRUCTURE BASICS]\n",
    "MDOULE 3 START FROM HERE\n",
    "#-----------------------------------------------------------------------------"
   ]
  },
  {
   "cell_type": "markdown",
   "id": "e458817d",
   "metadata": {},
   "source": [
    "##Data Types Introduction\n",
    "integers\n",
    "floating point\n",
    "strings\n",
    "Lists\n",
    "Dictionaries\n",
    "Tuples\n",
    "Sets\n",
    "Booleans"
   ]
  },
  {
   "cell_type": "code",
   "execution_count": null,
   "id": "0ee3c2a8",
   "metadata": {},
   "outputs": [],
   "source": [
    "##Python Numbers\n",
    "# Addition\n",
    "2+1\n",
    "# Subtraction\n",
    "2-1\n",
    "# Multiplication\n",
    "2*2\n",
    "# Division\n",
    "3/2\n",
    "# Floor Division\n",
    "7//4\n",
    "# Modulo\n",
    "7%4\n",
    "# Powers\n",
    "2**3"
   ]
  },
  {
   "cell_type": "code",
   "execution_count": 23,
   "id": "1c888a9d",
   "metadata": {},
   "outputs": [
    {
     "data": {
      "text/plain": [
       "'Shahid'"
      ]
     },
     "execution_count": 23,
     "metadata": {},
     "output_type": "execute_result"
    }
   ],
   "source": [
    "#varibales in Python\n",
    "name='Shahid'\n",
    "secondName='Rasool'\n",
    "#capitalize method in Python\n",
    "name.capitalize()"
   ]
  },
  {
   "cell_type": "code",
   "execution_count": 9,
   "id": "dd433f67",
   "metadata": {},
   "outputs": [
    {
     "data": {
      "text/plain": [
       "['My', 'name', 'is', 'Shahid']"
      ]
     },
     "execution_count": 9,
     "metadata": {},
     "output_type": "execute_result"
    }
   ],
   "source": [
    "# All About Strings in Python\n",
    "intro='My name is Shahid '\n",
    "intro.split()\n",
    "intro.split('i')"
   ]
  },
  {
   "cell_type": "code",
   "execution_count": 6,
   "id": "fa673f3a",
   "metadata": {},
   "outputs": [
    {
     "name": "stdout",
     "output_type": "stream",
     "text": [
      "indexing/slicing start from the index 4 : efghijkl\n",
      "Indexing/slicing start from the index 3 and end at 7:  defg\n",
      "Indexing/slicing start from 3 and ends at 9 with jump of 2:  dfh\n",
      "acegik\n",
      "lkjihgfedcba\n"
     ]
    }
   ],
   "source": [
    "# indexing and slicing in Python\n",
    "mystring='abcdefghijkl'\n",
    "# mystring[where to start indexing:where to end:how many steps it should jumps]\n",
    "print(\"indexing/slicing start from the index 4 :\",mystring[4:]) #Here the indexing start from index no 4 \n",
    "print(\"Indexing/slicing start from the index 3 and end at 7: \",mystring[3:7]) #start from index 3 and end at index 7 but 7th index value not included\n",
    "print(\"Indexing/slicing start from 3 and ends at 9 with jump of 2: \",mystring[3:9:2]) #here third parameter in indexing is jumping of indexes\n",
    "print(mystring[::2]) #slicing all string with jump of 2\n",
    "print(mystring[::-1]) # it reverses the string"
   ]
  },
  {
   "cell_type": "code",
   "execution_count": 31,
   "id": "2fe99f5b",
   "metadata": {},
   "outputs": [
    {
     "name": "stdout",
     "output_type": "stream",
     "text": [
      "Sam\n",
      "Pam\n",
      "Sam\n",
      "SAM\n",
      "sam\n",
      "shahid\n"
     ]
    },
    {
     "data": {
      "text/plain": [
       "20"
      ]
     },
     "execution_count": 31,
     "metadata": {},
     "output_type": "execute_result"
    }
   ],
   "source": [
    "# Immutablity\n",
    "# Lecture String Properties and Methods\n",
    "name='Sam'\n",
    "#name[0]='P' # string are immuteable and we cannot change string by doing this\n",
    "print(name)\n",
    "# We can Immute the string by making a brand new string like this\n",
    "newName=name[1:]\n",
    "print('P'+newName) # this is called string concatenation\n",
    "print(name.title())\n",
    "print(name.upper())\n",
    "print(name.lower())\n",
    "#to remove extra space from the string we use method rstrip()\n",
    "string1='  shahid   ' #[rstrip() for removing left side extra space ] #[lstrip() to remove right side space]\n",
    "print(string1.strip()) #it removes the extra spaces from left and right side of string\n",
    "\n",
    "\n",
    "#to remove this passing arguments from string\n",
    "nostarch_url = 'https://nostarch.com'\n",
    "nostarch_url.removeprefix('https://')\n",
    "len(nostarch_url) #check no of letters in nostarch_url\n"
   ]
  },
  {
   "cell_type": "code",
   "execution_count": 15,
   "id": "596e4e0a",
   "metadata": {},
   "outputs": [
    {
     "name": "stdout",
     "output_type": "stream",
     "text": [
      "This is a string INSERTED\n",
      "A quick brown fox jumps over the lazy dog\n",
      "A quick brown fox jumps over the lazy dog\n"
     ]
    }
   ],
   "source": [
    "# String formating with .format() Method\n",
    "print('This is a string {}'.format('INSERTED'))\n",
    "print('A {2} {1} {0} jumps over the lazy dog'.format('fox','brown','quick')) #using index numbers\n",
    "print('A {q} {b} {f} {j} over the lazy dog'.format(f='fox',b='brown',q='quick',j='jumps' )) #using varibles"
   ]
  },
  {
   "cell_type": "code",
   "execution_count": 30,
   "id": "884316aa",
   "metadata": {},
   "outputs": [
    {
     "name": "stdout",
     "output_type": "stream",
     "text": [
      "0.1287001287001287\n",
      "the result was           0.129\n",
      "Hello, My name is Shahid Chaudhary\n"
     ]
    }
   ],
   "source": [
    "#float formating using format method\n",
    "result=100/777\n",
    "print(result)\n",
    "#Float Formating follows \"{value(variable):width.prescesion}\"\n",
    "#[r=result]:[10=created empty space after (was)].[3f= numbers after decimal] \n",
    "print(\"the result was {r:15.3f}\".format(r=result)) \n",
    "myName='Shahid Chaudhary'\n",
    "#f string formated Method\n",
    "print(f'Hello, My name is {myName}')"
   ]
  },
  {
   "cell_type": "code",
   "execution_count": 46,
   "id": "6c63208c",
   "metadata": {},
   "outputs": [
    {
     "name": "stdout",
     "output_type": "stream",
     "text": [
      "[1, 2, 3, 4, 'Shahid']\n",
      "[3, 4, 'Shahid']\n",
      "[1, 2, 3, 4, 'Shahid', 5, 6, 7, 8, 9, 10]\n",
      "['Ali', 6, 7, 8, 9, 10]\n",
      "[1, 2, 3, 4, 'Shahid', 'Jerry']\n",
      "[1, 2, 3, 4, 'Shahid']\n",
      "[1, 2, 3, 4]\n",
      "1\n",
      "['a', 'b', 'c', 'e', 'x', 'z']\n",
      "None\n",
      "[7, 6, 5, 4, 3, 2, 1]\n"
     ]
    }
   ],
   "source": [
    "# Lists in Python\n",
    "my_list=[1,2,3,4]\n",
    "my_list=[1,2,3,4,'Shahid']\n",
    "print(my_list)\n",
    "len(my_list) #to check length of list\n",
    "#slicing in lists\n",
    "print(my_list[2:])\n",
    "# Concatenation of two strings\n",
    "another_list=[5,6,7,8,9,10]\n",
    "new_list=my_list+another_list\n",
    "print(new_list)\n",
    "another_list[0]='Ali' #on 0th index of another_list is reassigned by 'Ali' so the lists are immuteable\n",
    "print(another_list)\n",
    "\n",
    "#.append() method add one more value in list in the last\n",
    "my_list.append('Jerry') #'jerry' added in the last index\n",
    "print(my_list)\n",
    "#.pop() method remove value from the last\n",
    "my_list.pop() #newly added 'jerry' is removed from the my_list\n",
    "print(my_list)\n",
    "one_more_poped_item=my_list.pop() # the last element 'Shahid' of my_list is poped from the my_list\n",
    "print(my_list)\n",
    "print(my_list.pop(0)) #it removes the value from given passing index as parameter\n",
    "#sorting of lists\n",
    "#Ascending sort\n",
    "unordered_letters_list=['a','e','c','b','z','x']\n",
    "unordered_numbers_list=[9,7,5,10,1,2,4,3]\n",
    "sorted_list=unordered_letters_list.sort() # it return None but sort the original lists\n",
    "print(unordered_letters_list) #now the unorderedlist is changes into sorted list\n",
    "type(sorted_list)\n",
    "print(sorted_list) #it return None bcz it return NoneType\n",
    "#Descending Sort\n",
    "num_list=[1,2,3,4,5,6,7]\n",
    "num_list.reverse() #it reverses the list\n",
    "print(num_list)\n",
    "\n"
   ]
  },
  {
   "cell_type": "code",
   "execution_count": 2,
   "id": "f20735dc",
   "metadata": {},
   "outputs": [
    {
     "name": "stdout",
     "output_type": "stream",
     "text": [
      "{'key1': 'value1', 'key2': 'value2'}\n",
      "value1\n",
      "The price of apple is:  2.99\n",
      "123\n",
      "1\n",
      "100\n",
      "Lahore\n",
      "{'k1': 'Shahid is My Name', 'k2': [0, 1, 2], 'k3': {'insideKey': 100, 'address': 'Lahore'}, 'k4': 'lpc'}\n",
      "Keys : dict_keys(['k1', 'k2', 'k3', 'k4'])\n",
      "Values : dict_values(['Shahid is My Name', [0, 1, 2], {'insideKey': 100, 'address': 'Lahore'}, 'lpc'])\n",
      "pairings : dict_items([('k1', 'Shahid is My Name'), ('k2', [0, 1, 2]), ('k3', {'insideKey': 100, 'address': 'Lahore'}), ('k4', 'lpc')])\n"
     ]
    }
   ],
   "source": [
    "# Dictionaries in Python\n",
    "my_dict={\n",
    "    'key1':'value1','key2':'value2'}\n",
    "print(my_dict)\n",
    "print(my_dict['key1']) #get values using the Keys\n",
    "\n",
    "prices_lookup={'apple':2.99,'oranges':1.99,'milk':5.80}\n",
    "print('The price of apple is: ',prices_lookup['apple'])\n",
    "\n",
    "#Dictionary list_in_dict\n",
    "list_in_dict={'k1':123,'k2':[0,1,2],'k3':{'insideKey':100, 'address':'Lahore'},'k4':'lpc'}\n",
    "print(list_in_dict['k1']) #gives 123\n",
    "print(list_in_dict['k2'][1]) # gives 1 as output\n",
    "print(list_in_dict['k3']['insideKey']) # gives 100\n",
    "print(list_in_dict['k3']['address']) # gives Lahore\n",
    "#We also mutates the Values of any keys in dictionaries like that\n",
    "list_in_dict['k1']='Shahid is My Name' # Now the value against the key1 is changed to 'Shahid is My Name'\n",
    "print(list_in_dict)\n",
    "\n",
    "# To get all the keys of Dictionaries\n",
    "print(\"Keys :\",list_in_dict.keys()) #return only keys\n",
    "# To get all the Values of Dictionaries\n",
    "print(\"Values :\",list_in_dict.values()) #return only values\n",
    "\n",
    "print(\"pairings :\",list_in_dict.items()) #gives pairings of keys and Values Together\n",
    " \n",
    "\n"
   ]
  },
  {
   "cell_type": "code",
   "execution_count": 24,
   "id": "b2789515",
   "metadata": {},
   "outputs": [
    {
     "name": "stdout",
     "output_type": "stream",
     "text": [
      "Type of tupple using type method:  <class 'tuple'>\n",
      "Type of list using type method:  <class 'list'>\n",
      "Length of tupple is:  3\n",
      "1\n",
      "3\n",
      "(2, 3)\n",
      "Total counts of passing parameter is: Like here passing parameter is a====> 2\n",
      "2\n"
     ]
    }
   ],
   "source": [
    "#Tuples in Python\n",
    "# Tuples are very similar to lists.However they have one key difference - immutability\n",
    "# Thats means we cannot change the tuple after initialization\n",
    "# Means Once an element is inside a tupples it cannot be reassigned and Tupples uses Parenthesis: (1,2,3)\n",
    "tupple=(1,2,3)\n",
    "for_compare_with_tupple_list=[1,2,3,'a','a','b']\n",
    "# Now type() method in Python tells the type of both tupple and list\n",
    "print(\"Type of tupple using type method: \",type(tupple))\n",
    "print(\"Type of list using type method: \",type(for_compare_with_tupple_list))\n",
    "\n",
    "#check the length of tupple\n",
    "print(\"Length of tupple is: \", len(tupple))\n",
    "\n",
    "#indexing in tupples\n",
    "print(tupple[0])\n",
    "print(tupple[-1])\n",
    "#slicing in tupples\n",
    "print(tupple[1:3])\n",
    "\n",
    "# Methods on tuple\n",
    "another_tupple=('a','a','b')\n",
    "# .count() method is used to count the characters in tupples \n",
    "# another_tupple.count('Which word you want to pass as parameter to check the counts of that letter')\n",
    "print(\"Total counts of passing parameter is: Like here passing parameter is a====>\",another_tupple.count('a'))\n",
    "# .index(kis cheez ka index check krna hai wo pass kro) this method checks passing parameter index and tell it\n",
    "print(another_tupple.index('b')) \n"
   ]
  },
  {
   "cell_type": "code",
   "execution_count": 40,
   "id": "d05c7ceb",
   "metadata": {},
   "outputs": [
    {
     "name": "stdout",
     "output_type": "stream",
     "text": [
      "{1, 2}\n",
      "{1, 2, 3, 4, 5, 6, 7, 9}\n"
     ]
    }
   ],
   "source": [
    "# Sets in Python \n",
    "# Sets are unordered collections of unique Elements\n",
    "# Meaning there can only be one representative of the same object Lets see some examples \n",
    "myset=set()\n",
    "myset.add(1)\n",
    "myset.add(2) \n",
    "print(myset)\n",
    "# Use Case Example: Here we have list with bunch of different values Now I want to remove all duplicate values then we can use sets in this way \n",
    "to_make_unique_list=[1,7,7,1,1,1,1,2,3,4,2,3,4,5,5,6,9,9,9]\n",
    "print(set(to_make_unique_list))"
   ]
  },
  {
   "cell_type": "code",
   "execution_count": 56,
   "id": "f48c9c11",
   "metadata": {},
   "outputs": [
    {
     "name": "stdout",
     "output_type": "stream",
     "text": [
      "<class 'bool'>\n",
      "<class 'bool'>\n",
      "False\n",
      "True\n",
      "True\n"
     ]
    }
   ],
   "source": [
    "# Booleans in Python\n",
    "# Booleans are operators that allow you to convey True or False Statements. \n",
    "print(type(True))\n",
    "print(type(False))\n",
    "print(1>2)\n",
    "print(1<2)\n",
    "print(1==1)"
   ]
  },
  {
   "cell_type": "code",
   "execution_count": 33,
   "id": "3186c22d",
   "metadata": {},
   "outputs": [
    {
     "ename": "SyntaxError",
     "evalue": "invalid syntax (4145025019.py, line 4)",
     "output_type": "error",
     "traceback": [
      "\u001b[1;36m  Cell \u001b[1;32mIn[33], line 4\u001b[1;36m\u001b[0m\n\u001b[1;33m    Hello this is a text file\u001b[0m\n\u001b[1;37m          ^\u001b[0m\n\u001b[1;31mSyntaxError\u001b[0m\u001b[1;31m:\u001b[0m invalid syntax\n"
     ]
    }
   ],
   "source": [
    "# IO with Basic Files in Python \n",
    "# We can use this functionality to write in file using Jupyter Notebook\n",
    "%%writefile test.txt\n",
    "Hello this is a text file\n",
    "this is the second line\n",
    "this is the third line"
   ]
  },
  {
   "cell_type": "code",
   "execution_count": 54,
   "id": "df68b83b",
   "metadata": {},
   "outputs": [
    {
     "name": "stdout",
     "output_type": "stream",
     "text": [
      "Now the file has more content!Now the file has more content!Now the file has more content!\n"
     ]
    }
   ],
   "source": [
    "# How to write in file using Python Script\n",
    "# it checks if file is here then write in it if not available then it make the file with same name and write in it\n",
    "shahid_file = open(\"demofile2.txt\", \"a\")\n",
    "shahid_file.write(\"Now the file has more content!\")\n",
    "shahid_file.close()\n",
    "#open and read the file after the appending:\n",
    "f = open(\"demofile2.txt\", \"r\")\n",
    "print(f.read())"
   ]
  },
  {
   "cell_type": "code",
   "execution_count": 31,
   "id": "6068fb73",
   "metadata": {},
   "outputs": [
    {
     "ename": "FileNotFoundError",
     "evalue": "[Errno 2] No such file or directory: 'no_available_file.txt'",
     "output_type": "error",
     "traceback": [
      "\u001b[1;31m---------------------------------------------------------------------------\u001b[0m",
      "\u001b[1;31mFileNotFoundError\u001b[0m                         Traceback (most recent call last)",
      "Cell \u001b[1;32mIn[31], line 1\u001b[0m\n\u001b[1;32m----> 1\u001b[0m myfile\u001b[38;5;241m=\u001b[39m\u001b[38;5;28mopen\u001b[39m(\u001b[38;5;124m'\u001b[39m\u001b[38;5;124mno_available_file.txt\u001b[39m\u001b[38;5;124m'\u001b[39m)\n",
      "File \u001b[1;32m~\\anaconda3\\Lib\\site-packages\\IPython\\core\\interactiveshell.py:284\u001b[0m, in \u001b[0;36m_modified_open\u001b[1;34m(file, *args, **kwargs)\u001b[0m\n\u001b[0;32m    277\u001b[0m \u001b[38;5;28;01mif\u001b[39;00m file \u001b[38;5;129;01min\u001b[39;00m {\u001b[38;5;241m0\u001b[39m, \u001b[38;5;241m1\u001b[39m, \u001b[38;5;241m2\u001b[39m}:\n\u001b[0;32m    278\u001b[0m     \u001b[38;5;28;01mraise\u001b[39;00m \u001b[38;5;167;01mValueError\u001b[39;00m(\n\u001b[0;32m    279\u001b[0m         \u001b[38;5;124mf\u001b[39m\u001b[38;5;124m\"\u001b[39m\u001b[38;5;124mIPython won\u001b[39m\u001b[38;5;124m'\u001b[39m\u001b[38;5;124mt let you open fd=\u001b[39m\u001b[38;5;132;01m{\u001b[39;00mfile\u001b[38;5;132;01m}\u001b[39;00m\u001b[38;5;124m by default \u001b[39m\u001b[38;5;124m\"\u001b[39m\n\u001b[0;32m    280\u001b[0m         \u001b[38;5;124m\"\u001b[39m\u001b[38;5;124mas it is likely to crash IPython. If you know what you are doing, \u001b[39m\u001b[38;5;124m\"\u001b[39m\n\u001b[0;32m    281\u001b[0m         \u001b[38;5;124m\"\u001b[39m\u001b[38;5;124myou can use builtins\u001b[39m\u001b[38;5;124m'\u001b[39m\u001b[38;5;124m open.\u001b[39m\u001b[38;5;124m\"\u001b[39m\n\u001b[0;32m    282\u001b[0m     )\n\u001b[1;32m--> 284\u001b[0m \u001b[38;5;28;01mreturn\u001b[39;00m io_open(file, \u001b[38;5;241m*\u001b[39margs, \u001b[38;5;241m*\u001b[39m\u001b[38;5;241m*\u001b[39mkwargs)\n",
      "\u001b[1;31mFileNotFoundError\u001b[0m: [Errno 2] No such file or directory: 'no_available_file.txt'"
     ]
    }
   ],
   "source": [
    "myfile=open('no_available_file.txt') #As this file is not present so it gives error"
   ]
  },
  {
   "cell_type": "code",
   "execution_count": 34,
   "id": "6c7b7ffd",
   "metadata": {},
   "outputs": [
    {
     "data": {
      "text/plain": [
       "'C:\\\\Users\\\\Shahid\\\\Documents\\\\GitHub\\\\python-notes\\\\Shahid-Notes'"
      ]
     },
     "execution_count": 34,
     "metadata": {},
     "output_type": "execute_result"
    }
   ],
   "source": [
    "#File Location\n",
    "pwd #it will give present working directory of our file"
   ]
  },
  {
   "cell_type": "code",
   "execution_count": 47,
   "id": "1518947d",
   "metadata": {},
   "outputs": [
    {
     "name": "stdout",
     "output_type": "stream",
     "text": [
      "Hello My Name is Shahid\n",
      "I am Computer Science Student\n",
      "I am final year student\n",
      "Currently I am working on my Final year Project\n",
      "Thanks!\n",
      "\n",
      "0\n"
     ]
    },
    {
     "data": {
      "text/plain": [
       "'Hello My Name is Shahid\\nI am Computer Science Student\\nI am final year student\\nCurrently I am working on my Final year Project\\nThanks!'"
      ]
     },
     "execution_count": 47,
     "metadata": {},
     "output_type": "execute_result"
    }
   ],
   "source": [
    "myfile=open('test.txt') #As this file is present in the directory if it is not present than this will be the error\n",
    "print(myfile.read()) #it will give all content which is saved in the file\n",
    "print(myfile.read()) # this will give empty bcz the cursor now in the last so we use SEEK() method to get back to index Zero Like in next Example\n",
    "print(myfile.seek(0)) #this method gives back the cursor on zero index of file\n",
    "myfile.read()"
   ]
  },
  {
   "cell_type": "code",
   "execution_count": 51,
   "id": "b3e46427",
   "metadata": {},
   "outputs": [
    {
     "data": {
      "text/plain": [
       "['Hello My Name is Shahid\\n',\n",
       " 'I am Computer Science Student\\n',\n",
       " 'I am final year student\\n',\n",
       " 'Currently I am working on my Final year Project\\n',\n",
       " 'Thanks!']"
      ]
     },
     "execution_count": 51,
     "metadata": {},
     "output_type": "execute_result"
    }
   ],
   "source": [
    "myfile.seek(0)\n",
    "myfile.readlines() #it makes the List of every line of file's content"
   ]
  },
  {
   "cell_type": "code",
   "execution_count": null,
   "id": "ca36b859",
   "metadata": {},
   "outputs": [],
   "source": [
    "#File Locations\n",
    "#if we want to open files at another location on your computer, simply pass in the entire file path.\n",
    "#For Windows you need to use double \\ so python doesn't treat the second \\ as an escape character, a file path is in the form:\n",
    "#myfile=open(\"C:\\\\Users\\\\UserName\\\\Folder\\\\test.txt\")\n",
    "#For MacOs and Linux you use Slashes in the opposite direction:\n",
    "#myfile=open(\"/Users/YouUserName/Folder/myFile.txt\")\n",
    "\n",
    "myfile.close() #its important to close the file to avoid errors"
   ]
  },
  {
   "cell_type": "code",
   "execution_count": 69,
   "id": "041fa9f8",
   "metadata": {},
   "outputs": [],
   "source": [
    "with open('myfile.txt') as my_new_file:\n",
    "    contents=my_new_file.read()"
   ]
  },
  {
   "cell_type": "code",
   "execution_count": 75,
   "id": "71e3811e",
   "metadata": {},
   "outputs": [
    {
     "data": {
      "text/plain": [
       "'Hello My Name is Khan\\nand I am not a terrorist'"
      ]
     },
     "execution_count": 75,
     "metadata": {},
     "output_type": "execute_result"
    }
   ],
   "source": [
    "contents"
   ]
  },
  {
   "cell_type": "code",
   "execution_count": 84,
   "id": "6c0382e0",
   "metadata": {},
   "outputs": [],
   "source": [
    "# WE can set the modes using press SHIFT+TAB (is trha hum file ka mode set kar sakty hain ky for read='r' and for write='w')\n",
    "# for more info check check it from Sir Jose Portilla Lectures Notes present in Repository\n",
    "with open('myfile.txt',mode='r') as myfile:  #modes r,w,a,r+,w+\n",
    "    contents=myfile.read()"
   ]
  },
  {
   "cell_type": "code",
   "execution_count": 85,
   "id": "3ac0ce79",
   "metadata": {},
   "outputs": [
    {
     "data": {
      "text/plain": [
       "'Shahid'"
      ]
     },
     "execution_count": 85,
     "metadata": {},
     "output_type": "execute_result"
    }
   ],
   "source": [
    "contents"
   ]
  },
  {
   "cell_type": "markdown",
   "id": "ca906481",
   "metadata": {},
   "source": [
    "#-----------------------------------------------------------------------------\n",
    "M0DOULE 3 END HERE\n",
    "#-----------------------------------------------------------------------------"
   ]
  },
  {
   "cell_type": "markdown",
   "id": "adbdd285",
   "metadata": {},
   "source": [
    "#-----------------------------------------------------------------------------\n",
    "# MODULE NO 4: [PYTHON COMPARISON OPERATORS]\n",
    "MDOULE 4 START FROM HERE\n",
    "#-----------------------------------------------------------------------------"
   ]
  }
 ],
 "metadata": {
  "kernelspec": {
   "display_name": "Python 3 (ipykernel)",
   "language": "python",
   "name": "python3"
  },
  "language_info": {
   "codemirror_mode": {
    "name": "ipython",
    "version": 3
   },
   "file_extension": ".py",
   "mimetype": "text/x-python",
   "name": "python",
   "nbconvert_exporter": "python",
   "pygments_lexer": "ipython3",
   "version": "3.11.4"
  }
 },
 "nbformat": 4,
 "nbformat_minor": 5
}
