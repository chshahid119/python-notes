{
 "cells": [
  {
   "cell_type": "markdown",
   "id": "17786de8",
   "metadata": {},
   "source": [
    "COURSE INTRODUCTION\n",
    "#COURSE TITLE: The Complete Python Bootcamp From Zero to Hero in Python\n",
    "#DESCRIPTION: Learn Python like a Professional Start from the basics and\n",
    "    #go all the way to creating your own applications and games\n",
    "#CREATED BY JOSE PORTILLA\n",
    "\n",
    "##ALL MODULES\n",
    "1)COURSE OVERVIEW\n",
    "2)PYTHON SETUP\n",
    "3)PYTHON OBJECT AND DATA STRUCTURE BASICS\n",
    "4)PYTHON COMPARISON OPERATORS\n",
    "5)PYTHON STATEMENTS"
   ]
  },
  {
   "cell_type": "markdown",
   "id": "fdd53f1e",
   "metadata": {},
   "source": [
    "#-----------------------------------------------------------------------------\n",
    "# MODULE NO 1: [COURSE OVERVIEW]\n",
    "MDOULE 1 START FROM HERE\n",
    "#-----------------------------------------------------------------------------"
   ]
  },
  {
   "cell_type": "markdown",
   "id": "19fb6bc0",
   "metadata": {},
   "source": [
    "HERE WE DISCUSS USEFULL TIPS HOW TO ACCESS THE SOURCE CODE\n",
    "HOW TO ACCESS COURSE NOTES AND SLIDES\n",
    "COURSE CURRICULAM OVERVIEW ->DISCUSSION ABOUT ALL MODULES\n",
    "WHAT YOU CAN DO WITH PYTHON? explore"
   ]
  },
  {
   "cell_type": "markdown",
   "id": "b1d245dc",
   "metadata": {},
   "source": [
    "WHY PYTHON? \n",
    "PURPOSES TO LEARN PYTHON \n",
    "1) DESIGNED FOR CLEAR LOGICAL CODE THAT IS EASY TO READ AND LEARN\n",
    "2) LOTS OF EXISTING LIBRARIES AND FRAMEWORKS WRITTEN IN PYTHON ALLOWING USERS TO APPLY PYTHON TO A WIDE VARIETY OF TASKS\n",
    "3) FOCUSES ON OPTIMIZING DEVELOPER TIME, RATHER THAN A COMPUTER'S PROCESSING TIME\n",
    "4) GREAT DOCUMENTATION ONLINE: https://docs.python.org/3 "
   ]
  },
  {
   "cell_type": "code",
   "execution_count": 16,
   "id": "aed32511",
   "metadata": {},
   "outputs": [
    {
     "ename": "SyntaxError",
     "evalue": "invalid syntax (3173955210.py, line 2)",
     "output_type": "error",
     "traceback": [
      "\u001b[1;36m  Cell \u001b[1;32mIn[16], line 2\u001b[1;36m\u001b[0m\n\u001b[1;33m    MODOULE 1 END HERE\u001b[0m\n\u001b[1;37m            ^\u001b[0m\n\u001b[1;31mSyntaxError\u001b[0m\u001b[1;31m:\u001b[0m invalid syntax\n"
     ]
    }
   ],
   "source": [
    "#-----------------------------------------------------------------------------\n",
    "MODOULE 1 END HERE\n",
    "#-----------------------------------------------------------------------------"
   ]
  },
  {
   "cell_type": "markdown",
   "id": "40032878",
   "metadata": {},
   "source": [
    "#-----------------------------------------------------------------------------\n",
    "# MODULE NO 2: [PYTHON SETUP]\n",
    "MDOULE 2 START FROM HERE\n",
    "#-----------------------------------------------------------------------------"
   ]
  },
  {
   "cell_type": "markdown",
   "id": "e407d1fc",
   "metadata": {},
   "source": [
    "COMMAND LINE BASICS\n",
    "+before we install anything, its important to have a very quick overview of how to work at the command line.\n",
    "+This allows you to programmtically move through your computer's directories\n",
    "\n",
    "WINDOW COMMAND LINE COMMANDS (open command prompt)\n",
    ">cd (gives directory where you are currently in)\n",
    ">dir (gives content of the current directory)\n",
    "cd Desktop (Now the working directory becomes Desktop)\n",
    "cd .. (Now we came back one step in previous directory)\n",
    "\n",
    "MAC-OS AND LINUX COMMANDS (open terminal)\n",
    "~pwd (gives present working directory\n",
    "~ls (gives the list of all directories in present working directory)\n",
    "~cd Desktop (Now jumps to Desktop directory)\n",
    "~cd .. (to move back directory)"
   ]
  },
  {
   "cell_type": "code",
   "execution_count": null,
   "id": "2d0e011e",
   "metadata": {},
   "outputs": [],
   "source": [
    "##INSTALLING PYTHON\n",
    "# Install anaconda distribution for python\n",
    "3+1 #to run the cell===> shift + Enter\n",
    "\n",
    "# No instalation options for Python Execution\n",
    "# 1 jupyter.org/try\n",
    "# 2 Google Collab Online Notebooks\n",
    "# 3 Repl.it\n",
    "# 4 Google Search: \"Python Interpreter Online\""
   ]
  },
  {
   "cell_type": "code",
   "execution_count": null,
   "id": "f9e203b7",
   "metadata": {},
   "outputs": [],
   "source": [
    "# Running Python Code \n",
    "# Types of Python Environments\n",
    "# -->Full IDEs\n",
    "# + Development environments designed specifically for Python\n",
    "# Larger Programms\n",
    "# Only Community editions are free\n",
    "# Designed Specifically for Python, lots of extra functionality\n",
    "# Most Popular IDE's : Pycharm and Spider\n",
    "\n",
    "# --->Notebook Environments\n",
    "# +Great for Learning\n",
    "# +See input and output next to each other\n",
    "# +Support in-line markdown notes, visulizations, videos and more\n",
    "# +Special file formats that are not .py\n",
    "\n",
    "# Most Important Note:\n",
    "# + DEvelopments Environments are a personal choice highly dependent on personal preferance \n",
    "\n",
    "\n",
    "#Downloading Sublime text editor\n",
    "# Running PYTHON CODE\n",
    "print('Hello World! Shahid is Here')"
   ]
  },
  {
   "cell_type": "markdown",
   "id": "00d82699",
   "metadata": {},
   "source": [
    "GETTING THE NOTEBOOKS AND THE COURSE MATERIAL \n",
    " RESOURCE LINK: https://github.com/Pierian-Data/Complete-Python-3-Bootcamp\n",
    " All well ordered material of Sir present in my Repository with Link:- https://github.com/chshahid119/python-notes"
   ]
  },
  {
   "cell_type": "markdown",
   "id": "e550b2eb",
   "metadata": {},
   "source": [
    "Git and Github OverView Lecture\n",
    "-->Check the Github Documentation to Learn about Github"
   ]
  },
  {
   "cell_type": "markdown",
   "id": "ef6ffd3c",
   "metadata": {},
   "source": [
    "#-----------------------------------------------------------------------------\n",
    "M0DOULE 2 END HERE\n",
    "#-----------------------------------------------------------------------------"
   ]
  },
  {
   "cell_type": "markdown",
   "id": "01e4990b",
   "metadata": {},
   "source": [
    "#-----------------------------------------------------------------------------\n",
    "# MODULE NO 3: [PYTHON OBJECTS AND DATA STRUCTURE BASICS]\n",
    "MDOULE 3 START FROM HERE\n",
    "#-----------------------------------------------------------------------------"
   ]
  },
  {
   "cell_type": "markdown",
   "id": "e458817d",
   "metadata": {},
   "source": [
    "##Data Types Introduction\n",
    "integers\n",
    "floating point\n",
    "strings\n",
    "Lists\n",
    "Dictionaries\n",
    "Tuples\n",
    "Sets\n",
    "Booleans"
   ]
  },
  {
   "cell_type": "code",
   "execution_count": 17,
   "id": "0ee3c2a8",
   "metadata": {},
   "outputs": [
    {
     "data": {
      "text/plain": [
       "8"
      ]
     },
     "execution_count": 17,
     "metadata": {},
     "output_type": "execute_result"
    }
   ],
   "source": [
    "##Python Numbers\n",
    "# Addition\n",
    "2+1\n",
    "# Subtraction\n",
    "2-1\n",
    "# Multiplication\n",
    "2*2\n",
    "# Division\n",
    "3/2\n",
    "# Floor Division\n",
    "7//4\n",
    "# Modulo\n",
    "7%4\n",
    "# Powers\n",
    "2**3"
   ]
  },
  {
   "cell_type": "code",
   "execution_count": 18,
   "id": "1c888a9d",
   "metadata": {},
   "outputs": [
    {
     "data": {
      "text/plain": [
       "'Shahid'"
      ]
     },
     "execution_count": 18,
     "metadata": {},
     "output_type": "execute_result"
    }
   ],
   "source": [
    "#varibales in Python\n",
    "name='Shahid'\n",
    "secondName='Rasool'\n",
    "#capitalize method in Python\n",
    "name.capitalize()"
   ]
  },
  {
   "cell_type": "code",
   "execution_count": 19,
   "id": "dd433f67",
   "metadata": {},
   "outputs": [
    {
     "data": {
      "text/plain": [
       "['My name ', 's Shah', 'd ']"
      ]
     },
     "execution_count": 19,
     "metadata": {},
     "output_type": "execute_result"
    }
   ],
   "source": [
    "# All About Strings in Python\n",
    "intro='My name is Shahid '\n",
    "intro.split()\n",
    "intro.split('i')"
   ]
  },
  {
   "cell_type": "code",
   "execution_count": 20,
   "id": "fa673f3a",
   "metadata": {},
   "outputs": [
    {
     "name": "stdout",
     "output_type": "stream",
     "text": [
      "indexing/slicing start from the index 4 : efghijkl\n",
      "Indexing/slicing start from the index 3 and end at 7:  defg\n",
      "Indexing/slicing start from 3 and ends at 9 with jump of 2:  dfh\n",
      "acegik\n",
      "lkjihgfedcba\n"
     ]
    }
   ],
   "source": [
    "# indexing and slicing in Python\n",
    "mystring='abcdefghijkl'\n",
    "# mystring[where to start indexing:where to end:how many steps it should jumps]\n",
    "print(\"indexing/slicing start from the index 4 :\",mystring[4:]) #Here the indexing start from index no 4 \n",
    "print(\"Indexing/slicing start from the index 3 and end at 7: \",mystring[3:7]) #start from index 3 and end at index 7 but 7th index value not included\n",
    "print(\"Indexing/slicing start from 3 and ends at 9 with jump of 2: \",mystring[3:9:2]) #here third parameter in indexing is jumping of indexes\n",
    "print(mystring[::2]) #slicing all string with jump of 2\n",
    "print(mystring[::-1]) # it reverses the string"
   ]
  },
  {
   "cell_type": "code",
   "execution_count": 21,
   "id": "2fe99f5b",
   "metadata": {},
   "outputs": [
    {
     "name": "stdout",
     "output_type": "stream",
     "text": [
      "Sam\n",
      "Pam\n",
      "Sam\n",
      "SAM\n",
      "sam\n",
      "shahid\n"
     ]
    },
    {
     "data": {
      "text/plain": [
       "20"
      ]
     },
     "execution_count": 21,
     "metadata": {},
     "output_type": "execute_result"
    }
   ],
   "source": [
    "# Immutablity\n",
    "# Lecture String Properties and Methods\n",
    "name='Sam'\n",
    "#name[0]='P' # string are immuteable and we cannot change string by doing this\n",
    "print(name)\n",
    "# We can Immute the string by making a brand new string like this\n",
    "newName=name[1:]\n",
    "print('P'+newName) # this is called string concatenation\n",
    "print(name.title())\n",
    "print(name.upper())\n",
    "print(name.lower())\n",
    "#to remove extra space from the string we use method rstrip()\n",
    "string1='  shahid   ' #[rstrip() for removing left side extra space ] #[lstrip() to remove right side space]\n",
    "print(string1.strip()) #it removes the extra spaces from left and right side of string\n",
    "\n",
    "\n",
    "#to remove this passing arguments from string\n",
    "nostarch_url = 'https://nostarch.com'\n",
    "nostarch_url.removeprefix('https://')\n",
    "len(nostarch_url) #check no of letters in nostarch_url\n"
   ]
  },
  {
   "cell_type": "code",
   "execution_count": 22,
   "id": "596e4e0a",
   "metadata": {},
   "outputs": [
    {
     "name": "stdout",
     "output_type": "stream",
     "text": [
      "This is a string INSERTED\n",
      "A quick brown fox jumps over the lazy dog\n",
      "A quick brown fox jumps over the lazy dog\n"
     ]
    }
   ],
   "source": [
    "# String formating with .format() Method\n",
    "print('This is a string {}'.format('INSERTED'))\n",
    "print('A {2} {1} {0} jumps over the lazy dog'.format('fox','brown','quick')) #using index numbers\n",
    "print('A {q} {b} {f} {j} over the lazy dog'.format(f='fox',b='brown',q='quick',j='jumps' )) #using varibles"
   ]
  },
  {
   "cell_type": "code",
   "execution_count": 23,
   "id": "884316aa",
   "metadata": {},
   "outputs": [
    {
     "name": "stdout",
     "output_type": "stream",
     "text": [
      "0.1287001287001287\n",
      "the result was           0.129\n",
      "Hello, My name is Shahid Chaudhary\n"
     ]
    }
   ],
   "source": [
    "#float formating using format method\n",
    "result=100/777\n",
    "print(result)\n",
    "#Float Formating follows \"{value(variable):width.prescesion}\"\n",
    "#[r=result]:[10=created empty space after (was)].[3f= numbers after decimal] \n",
    "print(\"the result was {r:15.3f}\".format(r=result)) \n",
    "myName='Shahid Chaudhary'\n",
    "#f string formated Method\n",
    "print(f'Hello, My name is {myName}')"
   ]
  },
  {
   "cell_type": "code",
   "execution_count": 24,
   "id": "6c63208c",
   "metadata": {},
   "outputs": [
    {
     "name": "stdout",
     "output_type": "stream",
     "text": [
      "[1, 2, 3, 4, 'Shahid']\n",
      "[3, 4, 'Shahid']\n",
      "[1, 2, 3, 4, 'Shahid', 5, 6, 7, 8, 9, 10]\n",
      "['Ali', 6, 7, 8, 9, 10]\n",
      "[1, 2, 3, 4, 'Shahid', 'Jerry']\n",
      "[1, 2, 3, 4, 'Shahid']\n",
      "[1, 2, 3, 4]\n",
      "1\n",
      "['a', 'b', 'c', 'e', 'x', 'z']\n",
      "None\n",
      "[7, 6, 5, 4, 3, 2, 1]\n"
     ]
    }
   ],
   "source": [
    "# Lists in Python\n",
    "my_list=[1,2,3,4]\n",
    "my_list=[1,2,3,4,'Shahid']\n",
    "print(my_list)\n",
    "len(my_list) #to check length of list\n",
    "#slicing in lists\n",
    "print(my_list[2:])\n",
    "# Concatenation of two strings\n",
    "another_list=[5,6,7,8,9,10]\n",
    "new_list=my_list+another_list\n",
    "print(new_list)\n",
    "another_list[0]='Ali' #on 0th index of another_list is reassigned by 'Ali' so the lists are immuteable\n",
    "print(another_list)\n",
    "\n",
    "#.append() method add one more value in list in the last\n",
    "my_list.append('Jerry') #'jerry' added in the last index\n",
    "print(my_list)\n",
    "#.pop() method remove value from the last\n",
    "my_list.pop() #newly added 'jerry' is removed from the my_list\n",
    "print(my_list)\n",
    "one_more_poped_item=my_list.pop() # the last element 'Shahid' of my_list is poped from the my_list\n",
    "print(my_list)\n",
    "print(my_list.pop(0)) #it removes the value from given passing index as parameter\n",
    "#sorting of lists\n",
    "#Ascending sort\n",
    "unordered_letters_list=['a','e','c','b','z','x']\n",
    "unordered_numbers_list=[9,7,5,10,1,2,4,3]\n",
    "sorted_list=unordered_letters_list.sort() # it return None but sort the original lists\n",
    "print(unordered_letters_list) #now the unorderedlist is changes into sorted list\n",
    "type(sorted_list)\n",
    "print(sorted_list) #it return None bcz it return NoneType\n",
    "#Descending Sort\n",
    "num_list=[1,2,3,4,5,6,7]\n",
    "num_list.reverse() #it reverses the list\n",
    "print(num_list)\n",
    "\n"
   ]
  },
  {
   "cell_type": "code",
   "execution_count": 25,
   "id": "f20735dc",
   "metadata": {},
   "outputs": [
    {
     "name": "stdout",
     "output_type": "stream",
     "text": [
      "{'key1': 'value1', 'key2': 'value2'}\n",
      "value1\n",
      "The price of apple is:  2.99\n",
      "123\n",
      "1\n",
      "100\n",
      "Lahore\n",
      "{'k1': 'Shahid is My Name', 'k2': [0, 1, 2], 'k3': {'insideKey': 100, 'address': 'Lahore'}, 'k4': 'lpc'}\n",
      "Keys : dict_keys(['k1', 'k2', 'k3', 'k4'])\n",
      "Values : dict_values(['Shahid is My Name', [0, 1, 2], {'insideKey': 100, 'address': 'Lahore'}, 'lpc'])\n",
      "pairings : dict_items([('k1', 'Shahid is My Name'), ('k2', [0, 1, 2]), ('k3', {'insideKey': 100, 'address': 'Lahore'}), ('k4', 'lpc')])\n"
     ]
    }
   ],
   "source": [
    "# Introduction to Dictionaries in Python\n",
    "my_dict={\n",
    "    'key1':'value1','key2':'value2'}\n",
    "print(my_dict)\n",
    "print(my_dict['key1']) #get values using the Keys\n",
    "\n",
    "prices_lookup={'apple':2.99,'oranges':1.99,'milk':5.80}\n",
    "print('The price of apple is: ',prices_lookup['apple'])\n",
    "\n",
    "#Dictionary list_in_dict\n",
    "list_in_dict={'k1':123,'k2':[0,1,2],'k3':{'insideKey':100, 'address':'Lahore'},'k4':'lpc'}\n",
    "print(list_in_dict['k1']) #gives 123\n",
    "print(list_in_dict['k2'][1]) # gives 1 as output\n",
    "print(list_in_dict['k3']['insideKey']) # gives 100\n",
    "print(list_in_dict['k3']['address']) # gives Lahore\n",
    "#We also mutates the Values of any keys in dictionaries like that\n",
    "list_in_dict['k1']='Shahid is My Name' # Now the value against the key1 is changed to 'Shahid is My Name'\n",
    "print(list_in_dict)\n",
    "\n",
    "# To get all the keys of Dictionaries\n",
    "print(\"Keys :\",list_in_dict.keys()) #return only keys\n",
    "# To get all the Values of Dictionaries\n",
    "print(\"Values :\",list_in_dict.values()) #return only values\n",
    "\n",
    "print(\"pairings :\",list_in_dict.items()) #gives pairings of keys and Values Together\n",
    " \n",
    "\n"
   ]
  },
  {
   "cell_type": "code",
   "execution_count": 26,
   "id": "b2789515",
   "metadata": {},
   "outputs": [
    {
     "name": "stdout",
     "output_type": "stream",
     "text": [
      "Type of tupple using type method:  <class 'tuple'>\n",
      "Type of list using type method:  <class 'list'>\n",
      "Length of tupple is:  3\n",
      "1\n",
      "3\n",
      "(2, 3)\n",
      "Total counts of passing parameter is: Like here passing parameter is a====> 2\n",
      "2\n"
     ]
    }
   ],
   "source": [
    "#Tuples in Python\n",
    "# Tuples are very similar to lists.However they have one key difference - immutability\n",
    "# Thats means we cannot change the tuple after initialization\n",
    "# Means Once an element is inside a tupples it cannot be reassigned and Tupples uses Parenthesis: (1,2,3)\n",
    "tupple=(1,2,3)\n",
    "for_compare_with_tupple_list=[1,2,3,'a','a','b']\n",
    "# Now type() method in Python tells the type of both tupple and list\n",
    "print(\"Type of tupple using type method: \",type(tupple))\n",
    "print(\"Type of list using type method: \",type(for_compare_with_tupple_list))\n",
    "\n",
    "#check the length of tupple\n",
    "print(\"Length of tupple is: \", len(tupple))\n",
    "\n",
    "#indexing in tupples\n",
    "print(tupple[0])\n",
    "print(tupple[-1])\n",
    "#slicing in tupples\n",
    "print(tupple[1:3])\n",
    "\n",
    "# Methods on tuple\n",
    "another_tupple=('a','a','b')\n",
    "# .count() method is used to count the characters in tupples \n",
    "# another_tupple.count('Which word you want to pass as parameter to check the counts of that letter')\n",
    "print(\"Total counts of passing parameter is: Like here passing parameter is a====>\",another_tupple.count('a'))\n",
    "# .index(kis cheez ka index check krna hai wo pass kro) this method checks passing parameter index and tell it\n",
    "print(another_tupple.index('b')) \n"
   ]
  },
  {
   "cell_type": "code",
   "execution_count": 27,
   "id": "d05c7ceb",
   "metadata": {},
   "outputs": [
    {
     "name": "stdout",
     "output_type": "stream",
     "text": [
      "{1, 2}\n",
      "{1, 2, 3, 4, 5, 6, 7, 9}\n"
     ]
    }
   ],
   "source": [
    "# Sets in Python \n",
    "# Sets are unordered collections of unique Elements\n",
    "# Meaning there can only be one representative of the same object Lets see some examples \n",
    "myset=set()\n",
    "myset.add(1)\n",
    "myset.add(2) \n",
    "print(myset)\n",
    "# Use Case Example: Here we have list with bunch of different values Now I want to remove all duplicate values then we can use sets in this way \n",
    "to_make_unique_list=[1,7,7,1,1,1,1,2,3,4,2,3,4,5,5,6,9,9,9]\n",
    "print(set(to_make_unique_list))"
   ]
  },
  {
   "cell_type": "code",
   "execution_count": 28,
   "id": "f48c9c11",
   "metadata": {},
   "outputs": [
    {
     "name": "stdout",
     "output_type": "stream",
     "text": [
      "<class 'bool'>\n",
      "<class 'bool'>\n",
      "False\n",
      "True\n",
      "True\n"
     ]
    }
   ],
   "source": [
    "# Booleans in Python\n",
    "# Booleans are operators that allow you to convey True or False Statements. \n",
    "print(type(True))\n",
    "print(type(False))\n",
    "print(1>2)\n",
    "print(1<2)\n",
    "print(1==1)"
   ]
  },
  {
   "cell_type": "code",
   "execution_count": 29,
   "id": "3186c22d",
   "metadata": {},
   "outputs": [
    {
     "ename": "SyntaxError",
     "evalue": "invalid syntax (4145025019.py, line 4)",
     "output_type": "error",
     "traceback": [
      "\u001b[1;36m  Cell \u001b[1;32mIn[29], line 4\u001b[1;36m\u001b[0m\n\u001b[1;33m    Hello this is a text file\u001b[0m\n\u001b[1;37m          ^\u001b[0m\n\u001b[1;31mSyntaxError\u001b[0m\u001b[1;31m:\u001b[0m invalid syntax\n"
     ]
    }
   ],
   "source": [
    "# IO with Basic Files in Python \n",
    "# We can use this functionality to write in file using Jupyter Notebook\n",
    "%%writefile test.txt\n",
    "Hello this is a text file\n",
    "this is the second line\n",
    "this is the third line"
   ]
  },
  {
   "cell_type": "code",
   "execution_count": null,
   "id": "df68b83b",
   "metadata": {},
   "outputs": [],
   "source": [
    "# How to write in file using Python Script\n",
    "# it checks if file is here then write in it if not available then it make the file with same name and write in it\n",
    "shahid_file = open(\"demofile2.txt\", \"a\")\n",
    "shahid_file.write(\"Now the file has more content!\")\n",
    "shahid_file.close()\n",
    "#open and read the file after the appending:\n",
    "f = open(\"demofile2.txt\", \"r\")\n",
    "print(f.read())"
   ]
  },
  {
   "cell_type": "code",
   "execution_count": null,
   "id": "6068fb73",
   "metadata": {},
   "outputs": [],
   "source": [
    "myfile=open('no_available_file.txt') #As this file is not present so it gives error"
   ]
  },
  {
   "cell_type": "code",
   "execution_count": null,
   "id": "6c7b7ffd",
   "metadata": {},
   "outputs": [],
   "source": [
    "#File Location\n",
    "pwd #it will give present working directory of our file"
   ]
  },
  {
   "cell_type": "code",
   "execution_count": null,
   "id": "1518947d",
   "metadata": {},
   "outputs": [],
   "source": [
    "myfile=open('test.txt') #As this file is present in the directory if it is not present than this will be the error\n",
    "print(myfile.read()) #it will give all content which is saved in the file\n",
    "print(myfile.read()) # this will give empty bcz the cursor now in the last so we use SEEK() method to get back to index Zero Like in next Example\n",
    "print(myfile.seek(0)) #this method gives back the cursor on zero index of file\n",
    "myfile.read()"
   ]
  },
  {
   "cell_type": "code",
   "execution_count": null,
   "id": "b3e46427",
   "metadata": {},
   "outputs": [],
   "source": [
    "myfile.seek(0)\n",
    "myfile.readlines() #it makes the List of every line of file's content"
   ]
  },
  {
   "cell_type": "code",
   "execution_count": null,
   "id": "ca36b859",
   "metadata": {},
   "outputs": [],
   "source": [
    "#File Locations\n",
    "#if we want to open files at another location on your computer, simply pass in the entire file path.\n",
    "#For Windows you need to use double \\ so python doesn't treat the second \\ as an escape character, a file path is in the form:\n",
    "#myfile=open(\"C:\\\\Users\\\\UserName\\\\Folder\\\\test.txt\")\n",
    "#For MacOs and Linux you use Slashes in the opposite direction:\n",
    "#myfile=open(\"/Users/YouUserName/Folder/myFile.txt\")\n",
    "\n",
    "myfile.close() #its important to close the file to avoid errors"
   ]
  },
  {
   "cell_type": "code",
   "execution_count": null,
   "id": "041fa9f8",
   "metadata": {},
   "outputs": [],
   "source": [
    "with open('myfile.txt') as my_new_file:\n",
    "    contents=my_new_file.read()"
   ]
  },
  {
   "cell_type": "code",
   "execution_count": null,
   "id": "71e3811e",
   "metadata": {},
   "outputs": [],
   "source": [
    "contents"
   ]
  },
  {
   "cell_type": "code",
   "execution_count": null,
   "id": "6c0382e0",
   "metadata": {},
   "outputs": [],
   "source": [
    "# WE can set the modes using press SHIFT+TAB (is trha hum file ka mode set kar sakty hain ky for read='r' and for write='w')\n",
    "# for more info check check it from Sir Jose Portilla Lectures Notes present in Repository\n",
    "\n",
    "with open('myfile.txt',mode='r') as myfile:  #modes r,w,a,r+,w+\n",
    "    contents=myfile.read()"
   ]
  },
  {
   "cell_type": "code",
   "execution_count": null,
   "id": "3ac0ce79",
   "metadata": {},
   "outputs": [],
   "source": [
    "contents"
   ]
  },
  {
   "cell_type": "markdown",
   "id": "a7c938fb",
   "metadata": {},
   "source": [
    "#Python Data Strucutre Problems for practice and many resources\n",
    "\n",
    "Before you begin your assessment, I wanted to point out some helpful links for practice (don't worry about being able to do these exercises, I just want you to be aware of the links so you can visit them later, since we still haven't discussed functions, you won't be able to utilize a lot of these resources yet!):\n",
    "\n",
    "Basic Practice:\n",
    "\n",
    "http://codingbat.com/python\n",
    "\n",
    "More Mathematical (and Harder) Practice:\n",
    "\n",
    "https://projecteuler.net/archives\n",
    "\n",
    "List of Practice Problems:\n",
    "\n",
    "http://www.codeabbey.com/index/task_list\n",
    "\n",
    "A SubReddit Devoted to Daily Practice Problems:\n",
    "\n",
    "https://www.reddit.com/r/dailyprogrammer\n",
    "\n",
    "A very tricky website with very few hints and touch problems (Not for beginners but still interesting)\n",
    "\n",
    "http://www.pythonchallenge.com/"
   ]
  },
  {
   "cell_type": "code",
   "execution_count": null,
   "id": "232da4a2",
   "metadata": {},
   "outputs": [],
   "source": [
    "type((60+(10**2)/4*7)-134.75)"
   ]
  },
  {
   "cell_type": "markdown",
   "id": "ca906481",
   "metadata": {},
   "source": [
    "#-----------------------------------------------------------------------------\n",
    "M0DOULE 3 END HERE\n",
    "#-----------------------------------------------------------------------------"
   ]
  },
  {
   "cell_type": "markdown",
   "id": "adbdd285",
   "metadata": {},
   "source": [
    "#-----------------------------------------------------------------------------\n",
    "# MODULE NO 4: [PYTHON COMPARISON OPERATORS]\n",
    "MDOULE 4 START FROM HERE\n",
    "#-----------------------------------------------------------------------------"
   ]
  },
  {
   "cell_type": "code",
   "execution_count": null,
   "id": "6f526f1d",
   "metadata": {},
   "outputs": [],
   "source": [
    "#Comparison Operators in Python\n",
    "print(3==2)\n",
    "print(2!=3)"
   ]
  },
  {
   "cell_type": "code",
   "execution_count": null,
   "id": "ec929077",
   "metadata": {},
   "outputs": [],
   "source": [
    "#Chaining Comaprison Operators in Python\n",
    "print(3==3 and 2==2 )\n",
    "print(3==3 or 2==3 )\n",
    "print(not 3==2)"
   ]
  },
  {
   "cell_type": "code",
   "execution_count": null,
   "id": "2d36fa9e",
   "metadata": {},
   "outputs": [],
   "source": [
    "#-----------------------------------------------------------------------------\n",
    "M0DOULE 4 END HERE\n",
    "#-----------------------------------------------------------------------------"
   ]
  },
  {
   "cell_type": "markdown",
   "id": "57d04cb8",
   "metadata": {},
   "source": [
    "#-----------------------------------------------------------------------------\n",
    "# MODULE NO 5: [PYTHON STATEMENTS]\n",
    "MDOULE 5 START FROM HERE\n",
    "#-----------------------------------------------------------------------------"
   ]
  },
  {
   "cell_type": "code",
   "execution_count": null,
   "id": "56c4fb66",
   "metadata": {},
   "outputs": [],
   "source": [
    "# IF ELIF AND ELSE STATEMENTS IN PYTHON\n",
    "if False:\n",
    "    print('Shahid is Good Boy')\n",
    "elif False:\n",
    "    print('Shahid is not Good Boy')\n",
    "else:\n",
    "    print('Shahid is not Good and also not bad. He is amazing Boy')"
   ]
  },
  {
   "cell_type": "code",
   "execution_count": null,
   "id": "1fa43a0d",
   "metadata": {},
   "outputs": [],
   "source": [
    "## FOR LOOPS IN PYTHON \n",
    "my_iterable=[1,2,3,4,5,6,7,8,9,10]\n",
    "for item_name in my_iterable:\n",
    "    print(f'Hello {item_name} times')\n",
    "\n",
    "#Sum all numbers of my_iterable list using for Loop\n",
    "list_sum=0\n",
    "for num in my_iterable:\n",
    "    list_sum=list_sum+num\n",
    "print('The Sum of my_iterable List is :',list_sum)"
   ]
  },
  {
   "cell_type": "code",
   "execution_count": null,
   "id": "4ce3e076",
   "metadata": {},
   "outputs": [],
   "source": [
    "# For Loop with Tupples in Lists\n",
    "myList=[(1,2),(3,4),(5,6),(7,8)]\n",
    "print('Length of myList :', len(myList))\n",
    "# Tupples Unpacking \n",
    "for (a,b) in myList:\n",
    "    print(a)\n",
    "    print(b)\n",
    "\n",
    "# For Loops with Dictionaries \n",
    "dictionary_new={'k1':1,'K2':2,'k3':3}\n",
    "\n",
    "for key,value in dictionary_new.items():\n",
    "    print(key,value)"
   ]
  },
  {
   "cell_type": "code",
   "execution_count": null,
   "id": "10cbc23e",
   "metadata": {},
   "outputs": [],
   "source": [
    "# WHILE LOOP IN PYTHON\n",
    "x=0\n",
    "while x<5:\n",
    "    print(f'The current Value of x is {x}')\n",
    "    x=x+1\n",
    "else:\n",
    "    print('x is not less than 5')"
   ]
  },
  {
   "cell_type": "markdown",
   "id": "8427f97e",
   "metadata": {},
   "source": [
    "######break,continue,pass\n",
    "We can use break,continue, and pass statements in\n",
    "our loops to add additional functionaliry for various cases. \n",
    "The three statements are defined by:\n",
    "break: Breaks out fo the current closest enclosing loop.\n",
    "continue: Goes to the top of the closest enclosing loop.\n",
    "pass: Does nothing at all"
   ]
  },
  {
   "cell_type": "code",
   "execution_count": null,
   "id": "5e74e670",
   "metadata": {},
   "outputs": [],
   "source": [
    "### Break, continue and Pass\n",
    "\n",
    "##Pass\n",
    "x=[1,2,3]\n",
    "for item in x:\n",
    "    #comment\n",
    "    pass\n",
    "print('end of my script')"
   ]
  },
  {
   "cell_type": "code",
   "execution_count": null,
   "id": "a39e653a",
   "metadata": {},
   "outputs": [],
   "source": [
    "##Continue\n",
    "mystring_for_continue='Sammy'\n",
    "for letter in mystring_for_continue:\n",
    "    if letter == 'a':\n",
    "        break\n",
    "    print(letter)\n",
    "        "
   ]
  },
  {
   "cell_type": "code",
   "execution_count": null,
   "id": "789c2b9c",
   "metadata": {},
   "outputs": [],
   "source": [
    "##Break\n",
    "mystring_for_continue='Sammy'\n",
    "for letter in mystring_for_continue:\n",
    "    if letter == 'a':\n",
    "        break\n",
    "    print(letter)"
   ]
  },
  {
   "cell_type": "code",
   "execution_count": null,
   "id": "712b1233",
   "metadata": {},
   "outputs": [],
   "source": [
    "## Usefull Operators in Python\n",
    "print('The number with only range(10) method')\n",
    "for num in range(10):\n",
    "    print(num)\n",
    "print('The number with only range(5,10) method')\n",
    "for num in range(5,10):\n",
    "    print(num)"
   ]
  },
  {
   "cell_type": "code",
   "execution_count": null,
   "id": "27c95467",
   "metadata": {},
   "outputs": [],
   "source": [
    "#first argument: where to start\n",
    "#second argument: where to end (excluded that one)\n",
    "#third argument: How many steps should it jump\n",
    "for num in range(0,11,2):\n",
    "    print(num)"
   ]
  },
  {
   "cell_type": "code",
   "execution_count": null,
   "id": "6caae7d3",
   "metadata": {},
   "outputs": [],
   "source": [
    "list(range(0,11,2))"
   ]
  },
  {
   "cell_type": "code",
   "execution_count": null,
   "id": "942a6ef2",
   "metadata": {},
   "outputs": [],
   "source": [
    "index_count=0\n",
    "\n",
    "# Without Enumerate Method\n",
    "print('Without Enumerator Method')\n",
    "for letter in 'abcde':\n",
    "    print('{} {}'.format(index_count,letter))\n",
    "    index_count +=1\n",
    "# Same work we can do with Enumerate() method \n",
    "#With Enumerate Method\n",
    "print('With Enumerator Method without tupple unpacking')\n",
    "word='abcde'\n",
    "for values in enumerate(word): #Basically enumerate() gives tupple packing so we unpack this\n",
    "    print(values)\n",
    "print('With Enumerator Method with tupple unpacking')\n",
    "for index,values in enumerate(word): #Basically enumerate() gives tupple packing so we unpack this\n",
    "    print(index,values)"
   ]
  },
  {
   "cell_type": "code",
   "execution_count": null,
   "id": "1233021a",
   "metadata": {},
   "outputs": [],
   "source": [
    "#Zip method in Python\n",
    "mylist1=[1,2,3]\n",
    "mylist2=['a','b','c','d']\n",
    "mylist3=['Shahid','Jerry','Zubair']\n",
    "zipped_two_lists=zip(mylist1,mylist2,mylist3)\n",
    "zipped_two_lists"
   ]
  },
  {
   "cell_type": "code",
   "execution_count": null,
   "id": "2780dbd3",
   "metadata": {},
   "outputs": [],
   "source": [
    "print(set(zipped_two_lists))"
   ]
  },
  {
   "cell_type": "code",
   "execution_count": null,
   "id": "f5a8a1d3",
   "metadata": {},
   "outputs": [],
   "source": [
    "for item in zip(mylist1,mylist2,mylist3):\n",
    "    print(item)"
   ]
  },
  {
   "cell_type": "code",
   "execution_count": null,
   "id": "06eac114",
   "metadata": {},
   "outputs": [],
   "source": [
    "# check availability of any thing in list\n",
    "2 in [1,2,3] # it tells is 2 is available in that list"
   ]
  },
  {
   "cell_type": "code",
   "execution_count": null,
   "id": "5e62ee2d",
   "metadata": {},
   "outputs": [],
   "source": [
    "# check availability of any thing in string\n",
    "quick_brown_string='A quick brown fox jumps over the lazy dog'\n",
    "'x' in quick_brown_string #it tells is x is available in that string"
   ]
  },
  {
   "cell_type": "code",
   "execution_count": null,
   "id": "ba881573",
   "metadata": {},
   "outputs": [],
   "source": [
    "# check availability of any thing in dictionary\n",
    "d={'mykey':345}\n",
    "# to check in values only\n",
    "print(345 in d.values())\n",
    "# to check in Keys only\n",
    "print('mykey' in d.keys())\n"
   ]
  },
  {
   "cell_type": "code",
   "execution_count": null,
   "id": "19e405c4",
   "metadata": {},
   "outputs": [],
   "source": [
    "# min(),max() methods in Python\n",
    "check_min_max=list(range(0,102,2))\n",
    "print('The check_min_max List is: ',check_min_max)\n",
    "print('The minimum Value in check_min_max list is: ',min(check_min_max))\n",
    "print('The maximum Value in check_min_max list is: ',max(check_min_max))"
   ]
  },
  {
   "cell_type": "code",
   "execution_count": null,
   "id": "d69b8b60",
   "metadata": {},
   "outputs": [],
   "source": [
    "# Random Library in Python\n",
    "from random import shuffle\n",
    "random_list=list(range(0,11))\n",
    "shuffle(random_list) # it does not return anything and it always shuffle the original list\n",
    "print(random_list)"
   ]
  },
  {
   "cell_type": "code",
   "execution_count": null,
   "id": "a64dda62",
   "metadata": {},
   "outputs": [],
   "source": [
    "from random import randint #randint gives the random integer from given range as parameters\n",
    "random_number_generated_by_randint_method=randint(1,100)\n",
    "print(random_number_generated_by_randint_method)"
   ]
  },
  {
   "cell_type": "code",
   "execution_count": null,
   "id": "6407193e",
   "metadata": {},
   "outputs": [],
   "source": [
    "# Get Inputs from the User Using Python \n",
    "entered_number=input('Enter a number here: ') # The data type of entered_number is String so we have to change data type befor implement operations on that\n",
    "print(entered_number)\n",
    "print(type(entered_number))\n",
    "print(type(int(entered_number)))"
   ]
  },
  {
   "cell_type": "code",
   "execution_count": null,
   "id": "7d8e6ec2",
   "metadata": {},
   "outputs": [],
   "source": [
    "# List Comprehensions in Python\n",
    "# What is List Comprehension: List comprehension offers a shorter syntax when you want to create a new list based on the values of an existing list.\n",
    "# Same work without list Comprehension \n",
    "fruits = [\"apple\", \"banana\", \"cherry\", \"kiwi\", \"mango\"]\n",
    "\n",
    "newlist = [x for x in fruits if \"a\" in x]\n",
    "\n",
    "print('without list Comprehension: ',newlist)\n",
    "# Same work with list Comprehension \n",
    "fruits = [\"apple\", \"banana\", \"cherry\", \"kiwi\", \"mango\"]\n",
    "\n",
    "newlist = [x for x in fruits if \"a\" in x]\n",
    "\n",
    "print('with list Comprehension: ',newlist)"
   ]
  },
  {
   "cell_type": "code",
   "execution_count": null,
   "id": "52320703",
   "metadata": {},
   "outputs": [],
   "source": [
    "names=['ali','ahmad','muzammil']\n",
    "print(names)"
   ]
  },
  {
   "cell_type": "code",
   "execution_count": null,
   "id": "ecf42c5d",
   "metadata": {},
   "outputs": [],
   "source": [
    "# Next 2 videos was about quiz about Module 5 and solutin "
   ]
  },
  {
   "cell_type": "code",
   "execution_count": null,
   "id": "7c9073c2",
   "metadata": {},
   "outputs": [],
   "source": [
    "#-----------------------------------------------------------------------------\n",
    "M0DOULE 5 END HERE\n",
    "#-----------------------------------------------------------------------------"
   ]
  },
  {
   "cell_type": "markdown",
   "id": "56690857",
   "metadata": {},
   "source": [
    "#-----------------------------------------------------------------------------\n",
    "# MODULE NO 6: [METHODS AND FUNCTIONS]\n",
    "MDOULE 5 START FROM HERE\n",
    "#-----------------------------------------------------------------------------"
   ]
  },
  {
   "cell_type": "code",
   "execution_count": null,
   "id": "069f66f8",
   "metadata": {},
   "outputs": [],
   "source": [
    "# Methods and Python Documentation \n",
    "listitem=[1,2,3]\n",
    "help(listitem.pop())\n",
    "# or for short help press Shift+tab to get hint but it only works in jupyter notebook"
   ]
  },
  {
   "cell_type": "code",
   "execution_count": null,
   "id": "e7fcc7b2",
   "metadata": {},
   "outputs": [],
   "source": [
    "# Introduction to Functions \n",
    "def print_name():\n",
    "    print('Shahid here')\n",
    "print_name()"
   ]
  },
  {
   "cell_type": "code",
   "execution_count": null,
   "id": "02fd2388",
   "metadata": {},
   "outputs": [],
   "source": [
    "# *args and **kwargs \n",
    "def myfunc(*args):\n",
    "    print(args) #it gives all the passing parameters as Tupples\n",
    "    return sum(args) * 0.05\n",
    "# Calling the function\n",
    "myfunc(1,2,3,4)"
   ]
  },
  {
   "cell_type": "code",
   "execution_count": null,
   "id": "693c9c05",
   "metadata": {},
   "outputs": [],
   "source": [
    "def giveFruit(**kwargs):\n",
    "    print(kwargs) # it returns all the passing parameters as Dictionary\n",
    "    if 'fruit' in kwargs:\n",
    "        print('My fruit of choice is {}'.format(kwargs['fruit']))\n",
    "    else:\n",
    "        print('I did not find any fruit here')\n",
    "# Calling the funtion \n",
    "giveFruit(fruit='Mango',veggie='lettuce')"
   ]
  },
  {
   "cell_type": "code",
   "execution_count": null,
   "id": "80d7af0f",
   "metadata": {},
   "outputs": [],
   "source": [
    "# Now we use *args and **kwargs in one example in One Function\n",
    "def args_kwargs(*args,**kwargs):\n",
    "    print(args)\n",
    "    print(kwargs)\n",
    "    print(kwargs.get('jerry','no value is assigned')) #it will give you the value and if it is not assigned then it tells you second argument\n",
    "    print('I would like {} and {}'.format(args[1],kwargs['food']))\n",
    "    \n",
    "# Calling the funtion \n",
    "args_kwargs(10,20,30,food='Chicken Biryani')"
   ]
  },
  {
   "cell_type": "code",
   "execution_count": null,
   "id": "2959f43a",
   "metadata": {},
   "outputs": [],
   "source": [
    "def check_both_words_same_or_not(*args):\n",
    "    checkList=args[0].split(' ');\n",
    "    if(checkList[0][0]==checkList[1][0]):\n",
    "        print('Both words first letters are same')\n",
    "    else:\n",
    "        print('Both words first Letters are not same')\n",
    "    \n",
    "\n",
    "    \n",
    "#     Calling the funtions\n",
    "check_both_words_same_or_not('Shahid Rasool')\n",
    "check_both_words_same_or_not('Levelheaded Llama')"
   ]
  },
  {
   "cell_type": "code",
   "execution_count": null,
   "id": "a4fe486f",
   "metadata": {},
   "outputs": [],
   "source": [
    "# Given a string, return a string where for every character in the original there are three characters\n",
    "def paper_doll(text):\n",
    "    result=''\n",
    "    \n",
    "    for char in text:\n",
    "        result +=char*3\n",
    "    return result\n",
    "        \n",
    "     \n",
    "# Calling the funtion\n",
    "paper_doll('Shahid is here')"
   ]
  },
  {
   "cell_type": "code",
   "execution_count": null,
   "id": "79b86bc1",
   "metadata": {},
   "outputs": [],
   "source": [
    "# Write a funtion that takes in a list of integers and returns True if it contains 007 in order \n",
    "# One Way to Solve that Problem\n",
    "def spy_game(*args):\n",
    "    code=[0,0,7,'x']\n",
    "    for number in args:\n",
    "        if number==code[0]:\n",
    "            code.pop(0)\n",
    "    return len(code)==1\n",
    "\n",
    "# Calling the funtion \n",
    "spy_game(7,2,4,0,0,7,0,0,5)"
   ]
  },
  {
   "cell_type": "code",
   "execution_count": null,
   "id": "50c9aa5a",
   "metadata": {},
   "outputs": [],
   "source": [
    "# Write a funtion that takes in a list of integers and returns True if it contains 007 in order \n",
    "# Other Way to Solve that Problem\n",
    "def contains_007(lst):\n",
    "    # Initialize variables to keep track of the progress\n",
    "    found_0 = False\n",
    "    found_0_0 = False\n",
    "\n",
    "    # Iterate through the list\n",
    "    for num in lst:\n",
    "        if num == 0 and not found_0:\n",
    "            found_0 = True\n",
    "        elif num == 0 and found_0 and not found_0_0:\n",
    "            found_0_0 = True\n",
    "        elif num == 7 and found_0_0:\n",
    "            return True\n",
    "\n",
    "    # If the loop completes without finding \"007\", return False\n",
    "    return False\n",
    "\n",
    "# Test the function\n",
    "my_list = [1, 2, 0, 0, 7, 8]\n",
    "print(contains_007(my_list))  # This will return True\n"
   ]
  },
  {
   "cell_type": "code",
   "execution_count": null,
   "id": "d9963df5",
   "metadata": {},
   "outputs": [],
   "source": [
    "# Write the code to give prime numbers\n",
    "def count_primes(num):\n",
    "    #check for 0 or 1 input\n",
    "    if num <2:\n",
    "        return 0\n",
    "    \n",
    "    #2 or greater\n",
    "    \n",
    "#     Store our prime numbers\n",
    "    primes=[2]\n",
    "#     Counter going up to the input num\n",
    "    x=3\n",
    "    \n",
    "#     x is going through every number up to input number\n",
    "    while x <= num:\n",
    "#         Check if x is prime \n",
    "        for y in range(3,x,2):\n",
    "            if x%y ==0:\n",
    "                x +=2\n",
    "                break\n",
    "        else:\n",
    "            primes.append(x)\n",
    "            x +=2\n",
    "    print(primes)\n",
    "    print(len(primes))\n",
    "    \n",
    "    \n",
    "# Calling the function \n",
    "count_primes(100)"
   ]
  },
  {
   "cell_type": "code",
   "execution_count": null,
   "id": "14dfa764",
   "metadata": {},
   "outputs": [],
   "source": [
    "# Lambda Expressions, Map and Filter \n",
    "def square(num):\n",
    "    return num**2\n",
    "my_nums=[1,2,3,4,5]\n",
    "\n",
    "\n",
    "# Map method in Python\n",
    "# it is method to apply methods on all items of any list (iterables)\n",
    "for item in map(square,my_nums): # here it apply square function on my_nums list all items\n",
    "    print(list(item)"
   ]
  },
  {
   "cell_type": "code",
   "execution_count": null,
   "id": "75a4a17e",
   "metadata": {},
   "outputs": [],
   "source": [
    "# Filter method in Python\n",
    "def check_even(num):\n",
    "    return num%2 == 0\n",
    "\n",
    "mynums=[1,2,3,4,5,6]\n",
    "for n in filter(check_even,mynums):\n",
    "    print(n)\n"
   ]
  },
  {
   "cell_type": "code",
   "execution_count": null,
   "id": "55119bef",
   "metadata": {},
   "outputs": [],
   "source": [
    "# lambda Expression\n",
    "# This function is without lambda expression --->Same work we can do with an Lambda function \n",
    "def square_func(num):\n",
    "    result=num**2\n",
    "    return result\n",
    "\n",
    "\n",
    "print('Without Lambda Function :',square_func(5))\n",
    "\n",
    "# Same working of square_func using Lambda function \n",
    "square=lambda num: num ** 2\n",
    "sq=square(5)\n",
    "print('With lambda Function :',sq)"
   ]
  },
  {
   "cell_type": "code",
   "execution_count": null,
   "id": "6b187f0c",
   "metadata": {},
   "outputs": [],
   "source": [
    "# More Use cases about lambda function \n",
    "list_to_check_lamda_in_maps=[1,2,3,4,5]\n",
    "list(map(lambda num:num**2,list_to_check_lamda_in_maps))"
   ]
  },
  {
   "cell_type": "code",
   "execution_count": null,
   "id": "c68f563f",
   "metadata": {},
   "outputs": [],
   "source": [
    "# Fetch only the First letters of all names in the list names using Lambda function\n",
    "names=['Andy','Eve','Saly','Shahid']\n",
    "# Give First letter of all names\n",
    "print(list(map(lambda name: name[0],names)))\n",
    "# Give the reverse of all names \n",
    "print(list(map(lambda name: name[::-1],names)))"
   ]
  },
  {
   "cell_type": "code",
   "execution_count": null,
   "id": "93ce9eb4",
   "metadata": {},
   "outputs": [],
   "source": [
    "# Nested Statements and Scope \n",
    "# LEGB Rule in Python \n",
    "# L: Local\n",
    "# E: Enclosing functions\n",
    "# G: Global module\n",
    "# B: Built in Python \n",
    "\n",
    "# GLOBAL \n",
    "name='THIS IS A GLOBAL STRING'\n",
    "\n",
    "\n",
    "def greet():\n",
    "    \n",
    "    #ENCLOSING FUNCTIONS\n",
    "    name='Shahid'\n",
    "    \n",
    "    def hello():\n",
    "        #LOCAL \n",
    "        name=\"I'M A LOCAL\"\n",
    "        print('Hello '+ name)\n",
    "    \n",
    "    hello()\n",
    "greet()"
   ]
  },
  {
   "cell_type": "code",
   "execution_count": null,
   "id": "e8d5c553",
   "metadata": {},
   "outputs": [],
   "source": [
    "# Functions and Methods HomeWork \n",
    "# Write a function that computes the volume of a sphere given its radius:\n",
    "def vol(rad):\n",
    "    total_volume=(4/3)*(3.14)*(rad**3)\n",
    "    return total_volume\n",
    "\n",
    "vol(2)"
   ]
  },
  {
   "cell_type": "code",
   "execution_count": null,
   "id": "82f4d27a",
   "metadata": {},
   "outputs": [],
   "source": [
    "# Write a function that checks whether a number is in a given range (inclusive of high and low) \n",
    "def range_check(num,low,high):\n",
    "    if num in range(low,high+1):\n",
    "        print(f'{num} is in range of {low} and {high}')\n",
    "    else:\n",
    "        print('not in range')\n",
    "        \n",
    "# Call the range check method \n",
    "range_check(5,1,8)"
   ]
  },
  {
   "cell_type": "code",
   "execution_count": null,
   "id": "706647ad",
   "metadata": {},
   "outputs": [],
   "source": [
    "# Write a Python function that accpets a string and calculates the number of upper case letters and lower case letters \n",
    "def count_string_upper_lower(str):\n",
    "    upperCaseLetters=0\n",
    "    lowerCaseLetters=0\n",
    "    for letter in str:\n",
    "        if letter.isupper():\n",
    "            upperCaseLetters+=1\n",
    "        elif letter.islower():\n",
    "            lowerCaseLetters+=1\n",
    "        else:\n",
    "            pass\n",
    "    print(f'The Number of UpperCase Letters in that string is: {upperCaseLetters}')\n",
    "    print(f'The Number of LowerCase Letters in that string is: {lowerCaseLetters}')\n",
    "            \n",
    "        \n",
    "    \n",
    "# Calling the function \n",
    "count_string_upper_lower('Hello Mr. Rogers, how are you this fine Tuesday?')"
   ]
  },
  {
   "cell_type": "raw",
   "id": "3d1fe797",
   "metadata": {},
   "source": []
  },
  {
   "cell_type": "code",
   "execution_count": null,
   "id": "dae8f797",
   "metadata": {},
   "outputs": [],
   "source": [
    "# Write a Python function that takes a list and returns a new list with unique elements of the first list \n",
    "\n",
    "def give_unique_oneWay(blurList):\n",
    "    unique_list=[]\n",
    "    for number in blurList:\n",
    "        if number not in unique_list:\n",
    "            unique_list.append(number)\n",
    "    return unique_list\n",
    "    \n",
    "            \n",
    "        \n",
    "# This also gives a unique list but using the built in set method\n",
    "def give_unique_2ndWay(blurList):\n",
    "    newFilteredList=set(blurList)\n",
    "    print('The Original Passed List is: ', blurList)\n",
    "    print('The new Filtered (Unique) List is: ', newFilteredList)\n",
    "    \n",
    "\n",
    "    \n",
    "passedList=[1,1,1,1,2,2,3,3,3,3,3,4,5]\n",
    "print('The List make unique using pure Logic: ', give_unique_oneWay(passedList))\n",
    "give_unique_2ndWay(passedList)"
   ]
  },
  {
   "cell_type": "code",
   "execution_count": null,
   "id": "aa61790b",
   "metadata": {},
   "outputs": [],
   "source": [
    "# Write a Python function to multiply all the numbers in a list \n",
    "def multiply(numbers):\n",
    "    total=1\n",
    "    for num in numbers:\n",
    "        total *=num\n",
    "    return total\n",
    "\n",
    "# Calling the function \n",
    "multiply([1,2,3,-4,10])"
   ]
  },
  {
   "cell_type": "code",
   "execution_count": 32,
   "id": "06353afa",
   "metadata": {},
   "outputs": [
    {
     "name": "stdout",
     "output_type": "stream",
     "text": [
      "thisisshahiddihahssisiht\n",
      "The word is palindrome\n"
     ]
    }
   ],
   "source": [
    "# Write a Python function that checks whether a word or pharase is palindrom or not? \n",
    "def is_palindrome(word):\n",
    "    word=word.lower()\n",
    "    word=word.replace(' ','')\n",
    "    print(word)\n",
    "    if (word==word[::-1]):\n",
    "        print('The word is palindrome')\n",
    "    else:\n",
    "        print('The world is not palindrome')\n",
    "        \n",
    "# Calling the function \n",
    "is_palindrome('This is Shahid  dihahS si siht')"
   ]
  },
  {
   "cell_type": "code",
   "execution_count": 33,
   "id": "15885d76",
   "metadata": {},
   "outputs": [
    {
     "name": "stdout",
     "output_type": "stream",
     "text": [
      "The String is not Pangram\n"
     ]
    }
   ],
   "source": [
    "# Multi Lines comment in Python \n",
    "\"\"\"Write a Python function that checks whether \n",
    "a string have repeating alphabets or not?\"\"\"\n",
    "def check_string_freq(string):\n",
    "    string=string.lower()\n",
    "    string=string.replace(' ','')\n",
    "    unique_list=[]\n",
    "    repeated_list=[]\n",
    "    for letter in string:\n",
    "        if letter in unique_list:\n",
    "            repeated_list.append(letter)\n",
    "           \n",
    "        elif letter not in unique_list:\n",
    "            unique_list.append(letter)\n",
    "            \n",
    "#     print('unique',unique_list)\n",
    "#     print('repeated',repeated_list)\n",
    "    if len(repeated_list) > 0:\n",
    "        print('The String is not Pangram')\n",
    "    else:\n",
    "        print('The String is Pangram')\n",
    "   \n",
    "\n",
    "check_string_freq('A quick brown fox jumps over the lazy dog')"
   ]
  },
  {
   "cell_type": "code",
   "execution_count": 34,
   "id": "4159f586",
   "metadata": {},
   "outputs": [
    {
     "name": "stdout",
     "output_type": "stream",
     "text": [
      "The quick brown fox jumps over the lazy dog\n",
      "abcdefghijklmnopqrstuvwxyz\n"
     ]
    },
    {
     "data": {
      "text/plain": [
       "False"
      ]
     },
     "execution_count": 34,
     "metadata": {},
     "output_type": "execute_result"
    }
   ],
   "source": [
    "# Check the string is Pangram \n",
    "import string\n",
    "def isPangram(str1,alphabet=string.ascii_lowercase):\n",
    "    print(str1)\n",
    "    print(alphabet)\n",
    "    #Create a set of the alphabet\n",
    "    alphaset=set(alphabet)\n",
    "    #Remove any spaces from the input string\n",
    "    str=str1.replace(' ','')\n",
    "    #Convert into all lowercase\n",
    "    str1=str1.lower()\n",
    "    #Grab all unique letters from the string set()\n",
    "    str1=set(str1)\n",
    "    #alphabet set == string set input\n",
    "    return str1 == alphaset\n",
    "        \n",
    "         \n",
    "        \n",
    "        \n",
    "        \n",
    "# Calling the function \n",
    "isPangram('The quick brown fox jumps over the lazy dog')"
   ]
  },
  {
   "cell_type": "code",
   "execution_count": null,
   "id": "3cc61ca8",
   "metadata": {},
   "outputs": [],
   "source": [
    "#-----------------------------------------------------------------------------\n",
    "# M0DOULE 6 END HERE\n",
    "#-----------------------------------------------------------------------------"
   ]
  },
  {
   "cell_type": "code",
   "execution_count": null,
   "id": "868ec7f9",
   "metadata": {},
   "outputs": [],
   "source": [
    "# -----------------------------------------------------------------------------\n",
    "# MODULE NO 7: [MileStone Project - 1]\n",
    "# MODULE 7 START FROM HERE\n",
    "#-----------------------------------------------------------------------------"
   ]
  },
  {
   "cell_type": "code",
   "execution_count": null,
   "id": "6cbeef81",
   "metadata": {},
   "outputs": [],
   "source": [
    "#### Making a Tic Toe Game using Python"
   ]
  },
  {
   "cell_type": "code",
   "execution_count": 1,
   "id": "2c6f496b",
   "metadata": {},
   "outputs": [],
   "source": [
    "# Display Function to display tic tac toe board\n",
    "def display(row1,row2,row3):\n",
    "    print(row1)\n",
    "    print(row2)\n",
    "    print(row3)"
   ]
  },
  {
   "cell_type": "code",
   "execution_count": 2,
   "id": "6efd720c",
   "metadata": {},
   "outputs": [],
   "source": [
    "row1=[' ',' ',' ']\n",
    "row2=[' ',' ',' ']\n",
    "row3=[' ',' ',' ']"
   ]
  },
  {
   "cell_type": "code",
   "execution_count": 3,
   "id": "9afa7cc9",
   "metadata": {},
   "outputs": [
    {
     "name": "stdout",
     "output_type": "stream",
     "text": [
      "[' ', ' ', ' ']\n",
      "[' ', ' ', ' ']\n",
      "[' ', ' ', ' ']\n"
     ]
    }
   ],
   "source": [
    "display(row1,row2,row3)"
   ]
  },
  {
   "cell_type": "code",
   "execution_count": 4,
   "id": "f43e154a",
   "metadata": {},
   "outputs": [
    {
     "name": "stdout",
     "output_type": "stream",
     "text": [
      "[' ', ' ', ' ']\n",
      "[' ', ' ', ' ']\n",
      "[' ', ' ', ' ']\n"
     ]
    }
   ],
   "source": [
    "display(row1,row2,row3)"
   ]
  },
  {
   "cell_type": "code",
   "execution_count": 5,
   "id": "94772d12",
   "metadata": {},
   "outputs": [
    {
     "name": "stdout",
     "output_type": "stream",
     "text": [
      "Please enter a value: 2\n"
     ]
    }
   ],
   "source": [
    "#  Accepting User Input \n",
    "userInput=int(input(\"Please enter a value: \"))"
   ]
  },
  {
   "cell_type": "code",
   "execution_count": 6,
   "id": "d33c3796",
   "metadata": {},
   "outputs": [
    {
     "name": "stdout",
     "output_type": "stream",
     "text": [
      "[' ', ' ', 'X']\n",
      "[' ', ' ', ' ']\n",
      "[' ', ' ', ' ']\n"
     ]
    }
   ],
   "source": [
    "row1[userInput]='X'\n",
    "\n",
    "display(row1,row2,row3)"
   ]
  },
  {
   "cell_type": "code",
   "execution_count": 3,
   "id": "083a385c",
   "metadata": {},
   "outputs": [],
   "source": [
    "# validating User Input \n",
    "\n",
    "def user_choice():\n",
    "    \n",
    "#     VARIABLES \n",
    "\n",
    "#   Initial \n",
    "    choice='WRONG'\n",
    "    acceptable_range=range(0,10)\n",
    "    within_range=False\n",
    "    \n",
    "    #TWO CONDITIONS TO CHECK\n",
    "    #DIGIT OR WITHIN_RANGE=False\n",
    "    while choice.isdigit()==False or within_range==False:\n",
    "        choice =input(\"Please Enter a number (0-10): \")\n",
    "        \n",
    "        #DIGIT CHECK\n",
    "        if choice.isdigit()==False:\n",
    "            print('Sorry that is not a digit')\n",
    "        #RANGE CHECK\n",
    "        if choice.isdigit()==True:\n",
    "            if int(choice) in acceptable_range:\n",
    "                within_range=True\n",
    "            else:\n",
    "                print('Sorry! Your out of Acceptable Range (0-10)')\n",
    "                within_range=False\n",
    "        \n",
    "\n",
    "        \n",
    "    \n",
    "    return int(choice) "
   ]
  },
  {
   "cell_type": "code",
   "execution_count": 4,
   "id": "04d9179f",
   "metadata": {},
   "outputs": [
    {
     "name": "stdout",
     "output_type": "stream",
     "text": [
      "Please Enter a number (0-10): 2\n"
     ]
    },
    {
     "data": {
      "text/plain": [
       "2"
      ]
     },
     "execution_count": 4,
     "metadata": {},
     "output_type": "execute_result"
    }
   ],
   "source": [
    "user_choice()"
   ]
  },
  {
   "cell_type": "code",
   "execution_count": 34,
   "id": "73d9d2c2",
   "metadata": {},
   "outputs": [],
   "source": [
    "### TIC TAC TOE GAME\n",
    "from IPython.display import clear_output\n",
    "\n",
    "def display_board(board):\n",
    "    clear_output()  # Remember, this only works in jupyter!\n",
    "    \n",
    "    print('   |   |')\n",
    "    print(' ' + board[7] + ' | ' + board[8] + ' | ' + board[9])\n",
    "    print('   |   |')\n",
    "    print('-----------')\n",
    "    print('   |   |')\n",
    "    print(' ' + board[4] + ' | ' + board[5] + ' | ' + board[6])\n",
    "    print('   |   |')\n",
    "    print('-----------')\n",
    "    print('   |   |')\n",
    "    print(' ' + board[1] + ' | ' + board[2] + ' | ' + board[3])\n",
    "    print('   |   |')"
   ]
  },
  {
   "cell_type": "code",
   "execution_count": 36,
   "id": "9b86f821",
   "metadata": {},
   "outputs": [
    {
     "name": "stdout",
     "output_type": "stream",
     "text": [
      "   |   |\n",
      " X | O | X\n",
      "   |   |\n",
      "-----------\n",
      "   |   |\n",
      " O | X | O\n",
      "   |   |\n",
      "-----------\n",
      "   |   |\n",
      " X | O | X\n",
      "   |   |\n"
     ]
    }
   ],
   "source": [
    "test_board = ['#','X','O','X','O','X','O','X','O','X']\n",
    "display_board(test_board)"
   ]
  },
  {
   "cell_type": "code",
   "execution_count": null,
   "id": "2d9c8d1c",
   "metadata": {},
   "outputs": [],
   "source": [
    "def player_input():\n",
    "    \n",
    "    marker=''\n",
    "    \n",
    "    while not (marker == 'X' or marker =='O'):\n",
    "        marker=input('Player1: Choose X or O: ').upper()\n",
    "        \n",
    "    if marker == 'X':\n",
    "        return ('X','O')\n",
    "    else:\n",
    "        return ('O','X')"
   ]
  },
  {
   "cell_type": "code",
   "execution_count": 40,
   "id": "31b226c1",
   "metadata": {},
   "outputs": [],
   "source": [
    "def place_marker(board,marker,position):\n",
    "    \n",
    "    board[position]=marker"
   ]
  },
  {
   "cell_type": "code",
   "execution_count": 41,
   "id": "457e275a",
   "metadata": {},
   "outputs": [
    {
     "name": "stdout",
     "output_type": "stream",
     "text": [
      "   |   |\n",
      " X | $ | X\n",
      "   |   |\n",
      "-----------\n",
      "   |   |\n",
      " O | X | O\n",
      "   |   |\n",
      "-----------\n",
      "   |   |\n",
      " X | O | X\n",
      "   |   |\n"
     ]
    }
   ],
   "source": [
    "place_marker(test_board,'$',8)\n",
    "display_board(test_board)"
   ]
  },
  {
   "cell_type": "code",
   "execution_count": null,
   "id": "54e91bb4",
   "metadata": {},
   "outputs": [],
   "source": [
    "def win_check(board,mark):\n",
    "    \n",
    "    return ((board[7] == mark and board[8] == mark and board[9] == mark) or # across the top\n",
    "    (board[4] == mark and board[5] == mark and board[6] == mark) or # across the middle\n",
    "    (board[1] == mark and board[2] == mark and board[3] == mark) or # across the bottom\n",
    "    (board[7] == mark and board[4] == mark and board[1] == mark) or # down the middle\n",
    "    (board[8] == mark and board[5] == mark and board[2] == mark) or # down the middle\n",
    "    (board[9] == mark and board[6] == mark and board[3] == mark) or # down the right side\n",
    "    (board[7] == mark and board[5] == mark and board[3] == mark) or # diagonal\n",
    "    (board[9] == mark and board[5] == mark and board[1] == mark)) # diagonal"
   ]
  },
  {
   "cell_type": "code",
   "execution_count": null,
   "id": "085fe132",
   "metadata": {},
   "outputs": [],
   "source": []
  },
  {
   "cell_type": "code",
   "execution_count": null,
   "id": "35d9aad8",
   "metadata": {},
   "outputs": [],
   "source": []
  },
  {
   "cell_type": "code",
   "execution_count": null,
   "id": "22a53c87",
   "metadata": {},
   "outputs": [],
   "source": [
    "#-----------------------------------------------------------------------------\n",
    "# M0DOULE 7 END HERE\n",
    "#-----------------------------------------------------------------------------"
   ]
  }
 ],
 "metadata": {
  "kernelspec": {
   "display_name": "Python 3 (ipykernel)",
   "language": "python",
   "name": "python3"
  },
  "language_info": {
   "codemirror_mode": {
    "name": "ipython",
    "version": 3
   },
   "file_extension": ".py",
   "mimetype": "text/x-python",
   "name": "python",
   "nbconvert_exporter": "python",
   "pygments_lexer": "ipython3",
   "version": "3.11.4"
  }
 },
 "nbformat": 4,
 "nbformat_minor": 5
}
