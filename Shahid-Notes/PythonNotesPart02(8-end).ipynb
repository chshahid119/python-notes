{
 "cells": [
  {
   "cell_type": "code",
   "execution_count": null,
   "id": "9f291ef9",
   "metadata": {},
   "outputs": [],
   "source": [
    "#-----------------------------------------------------------------------------\n",
    "# MODULE NO 8: [OOP]\n",
    "# MDOULE 8 START FROM HERE\n",
    "#-----------------------------------------------------------------------------"
   ]
  },
  {
   "cell_type": "code",
   "execution_count": null,
   "id": "f18fdc73",
   "metadata": {},
   "outputs": [],
   "source": [
    "# Introduction about Object Oriented Programming (00P)\n",
    "\"\"\"\n",
    "class NameOfClass():\n",
    "    \n",
    "    def __init__(self,param1,param2):\n",
    "        self.param1=param1\n",
    "        self.param2=param2\n",
    "        \n",
    "        \n",
    "    def some_method(self):\n",
    "        #Perform some action\n",
    "        \n",
    "        print(self.param1)\n",
    "\"\"\""
   ]
  },
  {
   "cell_type": "code",
   "execution_count": 1,
   "id": "210331d7",
   "metadata": {},
   "outputs": [],
   "source": [
    "# OOP ATTRIBUTES AND CLASS KEYWORDS \n",
    "\n",
    "class DogAnimal():\n",
    "    \n",
    "    def __init__(self,breed,name,spots):\n",
    "        \n",
    "        # Attributes\n",
    "        # We take in the Arguments\n",
    "        # Assign it using self.attribute_name\n",
    "        self.breed=breed\n",
    "        self.name=name\n",
    "        \n",
    "        # Expect Boolean True/False\n",
    "        self.spots=spots\n",
    "        "
   ]
  },
  {
   "cell_type": "code",
   "execution_count": 2,
   "id": "ed06e42b",
   "metadata": {},
   "outputs": [],
   "source": [
    "my_dog=DogAnimal(breed='Huskie',name='Sammy',spots=False)"
   ]
  },
  {
   "cell_type": "code",
   "execution_count": 3,
   "id": "52db7bb9",
   "metadata": {},
   "outputs": [
    {
     "name": "stdout",
     "output_type": "stream",
     "text": [
      "Huskie\n",
      "Sammy\n",
      "False\n"
     ]
    }
   ],
   "source": [
    "print(my_dog.breed)\n",
    "print(my_dog.name)\n",
    "print(my_dog.spots)\n"
   ]
  },
  {
   "cell_type": "code",
   "execution_count": 6,
   "id": "3c2e5571",
   "metadata": {},
   "outputs": [],
   "source": [
    "#Inheritance and Polymorphism\n",
    "\n",
    "class Animal():\n",
    "    \n",
    "    def __init__(self):\n",
    "        print('ANIMAL CREATED')\n",
    "        \n",
    "    def who_am_i(self):\n",
    "        print('I am an animal')\n",
    "        \n",
    "    def eat(self):\n",
    "        print(\"I am eating\")"
   ]
  },
  {
   "cell_type": "code",
   "execution_count": 10,
   "id": "7fb2adb7",
   "metadata": {},
   "outputs": [],
   "source": [
    "# Inheritance in Python \n",
    "class Dog(Animal):\n",
    "    \n",
    "    def __init__(self):\n",
    "        Animal.__init__(self)\n",
    "        print(\"Dog created\")\n",
    "        \n",
    "        \n",
    "    def who_am_i(self):\n",
    "        print(\"I am a dog!\")\n",
    "        \n",
    "    def bark(self):\n",
    "        print(\"WOOF!\")"
   ]
  },
  {
   "cell_type": "code",
   "execution_count": 17,
   "id": "4041e20b",
   "metadata": {},
   "outputs": [
    {
     "name": "stdout",
     "output_type": "stream",
     "text": [
      "ANIMAL CREATED\n",
      "Dog created\n"
     ]
    }
   ],
   "source": [
    "mydog=Dog()"
   ]
  },
  {
   "cell_type": "code",
   "execution_count": 16,
   "id": "7dc33195",
   "metadata": {},
   "outputs": [
    {
     "name": "stdout",
     "output_type": "stream",
     "text": [
      "1876750867664\n"
     ]
    }
   ],
   "source": [
    "# Polymoprphism \n",
    "# use one class methods and objects for different attributes and entities is polymorphism "
   ]
  },
  {
   "cell_type": "code",
   "execution_count": 57,
   "id": "1e8d325e",
   "metadata": {},
   "outputs": [],
   "source": [
    "# Special Methods \n",
    "class Book():\n",
    "    \n",
    "    def __init__(self,title,author,pages):\n",
    "        \n",
    "        self.title=title\n",
    "        self.author=author\n",
    "        self.pages=pages\n",
    "    \n",
    "    \n",
    "    #string representation of class\n",
    "    def __str__(self):\n",
    "        return f\"{self.title} by {self.author}\"\n",
    "    \n",
    "    # to check length of pages outside of class use like len() method\n",
    "    def __len__(self):\n",
    "        return self.pages\n",
    "    \n",
    "    def __del__(self):\n",
    "        print(\"A object has been deleted\")\n",
    "        "
   ]
  },
  {
   "cell_type": "code",
   "execution_count": 58,
   "id": "751669b0",
   "metadata": {},
   "outputs": [],
   "source": [
    "b=Book('Python rocks','Jose',200)"
   ]
  },
  {
   "cell_type": "code",
   "execution_count": 59,
   "id": "b06ec381",
   "metadata": {},
   "outputs": [
    {
     "name": "stdout",
     "output_type": "stream",
     "text": [
      "Python rocks by Jose\n"
     ]
    }
   ],
   "source": [
    "print(b)  # it tells what is the string representation of b so to avoid all of this we use special method in class __str__"
   ]
  },
  {
   "cell_type": "code",
   "execution_count": 60,
   "id": "9fb041d7",
   "metadata": {},
   "outputs": [
    {
     "name": "stdout",
     "output_type": "stream",
     "text": [
      "Python rocks by Jose\n"
     ]
    }
   ],
   "source": [
    "# Now it prints that string just because of string representation of class \n",
    "print(b)"
   ]
  },
  {
   "cell_type": "code",
   "execution_count": 61,
   "id": "a293d2b3",
   "metadata": {},
   "outputs": [
    {
     "data": {
      "text/plain": [
       "'Python rocks by Jose'"
      ]
     },
     "execution_count": 61,
     "metadata": {},
     "output_type": "execute_result"
    }
   ],
   "source": [
    "str(b)"
   ]
  },
  {
   "cell_type": "code",
   "execution_count": 62,
   "id": "00248605",
   "metadata": {},
   "outputs": [
    {
     "data": {
      "text/plain": [
       "200"
      ]
     },
     "execution_count": 62,
     "metadata": {},
     "output_type": "execute_result"
    }
   ],
   "source": [
    "len(b)"
   ]
  },
  {
   "cell_type": "code",
   "execution_count": 63,
   "id": "0220f22c",
   "metadata": {},
   "outputs": [
    {
     "name": "stdout",
     "output_type": "stream",
     "text": [
      "A object has been deleted\n"
     ]
    }
   ],
   "source": [
    "# Now b instance is deleted \n",
    "del b"
   ]
  },
  {
   "cell_type": "code",
   "execution_count": null,
   "id": "5bb64051",
   "metadata": {},
   "outputs": [],
   "source": [
    "#-----------------------------------------------------------------------------\n",
    "# MODOULE 8 END HERE\n",
    "#-----------------------------------------------------------------------------"
   ]
  },
  {
   "cell_type": "code",
   "execution_count": null,
   "id": "04cbaf35",
   "metadata": {},
   "outputs": [],
   "source": [
    "#-----------------------------------------------------------------------------\n",
    "# MODULE NO 9: [MODULES AND PACKAGES]\n",
    "# MDOULE 9 START FROM HERE\n",
    "#-----------------------------------------------------------------------------"
   ]
  },
  {
   "cell_type": "code",
   "execution_count": 65,
   "id": "f9b22e36",
   "metadata": {},
   "outputs": [],
   "source": [
    "# Pip install and PyPi \n",
    "# Colorama library for python for change of colors of lines of code of python on command promopt"
   ]
  },
  {
   "cell_type": "code",
   "execution_count": null,
   "id": "568436af",
   "metadata": {},
   "outputs": [],
   "source": [
    "# How to create packages and subpackages in python and how we can use them in code"
   ]
  },
  {
   "cell_type": "code",
   "execution_count": null,
   "id": "cee510b3",
   "metadata": {},
   "outputs": [],
   "source": [
    "# __name__ and __main__ useage here "
   ]
  },
  {
   "cell_type": "code",
   "execution_count": null,
   "id": "14a52f68",
   "metadata": {},
   "outputs": [],
   "source": [
    "#-----------------------------------------------------------------------------\n",
    "# MODOULE 9 END HERE\n",
    "#-----------------------------------------------------------------------------"
   ]
  },
  {
   "cell_type": "code",
   "execution_count": null,
   "id": "b989bdef",
   "metadata": {},
   "outputs": [],
   "source": [
    "#-----------------------------------------------------------------------------\n",
    "# MODULE NO 10: [ERROR AND EXCEPTION HANDLING]\n",
    "# MDOULE 10 START FROM HERE\n",
    "#-----------------------------------------------------------------------------"
   ]
  },
  {
   "cell_type": "code",
   "execution_count": 70,
   "id": "0476af53",
   "metadata": {},
   "outputs": [
    {
     "name": "stdout",
     "output_type": "stream",
     "text": [
      "Hey! it looks like you aren't adding correctly!\n"
     ]
    }
   ],
   "source": [
    "#ERRORS AND EXCEPTION HANDLING IN PYTHON\n",
    "# TRY,  EXCEPT AND FINALLY CODE BLOCKS\n",
    "try:\n",
    "    # WANT TO ATTEPT THIS CODE\n",
    "    # MAY HAVE AN ERROR\n",
    "    result=10+'10'\n",
    "except:\n",
    "    print(\"Hey! it looks like you aren't adding correctly!\")\n",
    "else:\n",
    "    print(\"Add went well!\")\n",
    "    print(result)\n",
    "    "
   ]
  },
  {
   "cell_type": "code",
   "execution_count": 71,
   "id": "c71b0536",
   "metadata": {},
   "outputs": [
    {
     "data": {
      "text/plain": [
       "'1010'"
      ]
     },
     "execution_count": 71,
     "metadata": {},
     "output_type": "execute_result"
    }
   ],
   "source": [
    "result"
   ]
  },
  {
   "cell_type": "code",
   "execution_count": null,
   "id": "1f07b750",
   "metadata": {},
   "outputs": [],
   "source": []
  },
  {
   "cell_type": "code",
   "execution_count": 78,
   "id": "61db2171",
   "metadata": {},
   "outputs": [
    {
     "name": "stdout",
     "output_type": "stream",
     "text": [
      "Hey you have an OS Error\n",
      "I always run\n"
     ]
    }
   ],
   "source": [
    "try:\n",
    "    f=open('testfile','r')\n",
    "    f.write(\"Write a test line\")\n",
    "except TypeError:\n",
    "    print(\"There was a type error\")\n",
    "except OSError:\n",
    "    print('Hey you have an OS Error')\n",
    "finally:\n",
    "    print(\"I always run\")\n",
    "    "
   ]
  },
  {
   "cell_type": "code",
   "execution_count": null,
   "id": "a8e23a6a",
   "metadata": {},
   "outputs": [],
   "source": [
    "#-----------------------------------------------------------------------------\n",
    "# MODOULE 10 END HERE\n",
    "#-----------------------------------------------------------------------------"
   ]
  },
  {
   "cell_type": "code",
   "execution_count": null,
   "id": "7bd64ef2",
   "metadata": {},
   "outputs": [],
   "source": [
    "#-----------------------------------------------------------------------------\n",
    "# MODULE NO 11: [MILESTONE PROJECT - 1]\n",
    "# MDOULE 11 START FROM HERE\n",
    "#-----------------------------------------------------------------------------"
   ]
  },
  {
   "cell_type": "code",
   "execution_count": 287,
   "id": "4887e024",
   "metadata": {},
   "outputs": [],
   "source": [
    "import random\n",
    "suits=(\"Hearts\",\"Diamonds\",\"Spades\",\"Clubs\")\n",
    "ranks=(\"Two\",\"Three\",\"Four\",\"Five\",\"Six\",\n",
    "        \"Seven\",\"Eight\",\"Nine\",\"Ten\",\"Jack\",\"Queen\",\"king\",\"Ace\")\n",
    "\n",
    "values={\"Two\":2,\"Three\":3,\"Four\":4,\"Five\":5,\"Six\":6,\"Seven\":7,\"Eight\":8,\"Nine\":9,\n",
    "        \"Ten\":10,\"Jack\":11,\"Queen\":12,\"king\":13,\"Ace\":14}"
   ]
  },
  {
   "cell_type": "code",
   "execution_count": 288,
   "id": "362ab824",
   "metadata": {},
   "outputs": [],
   "source": [
    "# Milestone project -1 \n",
    "# Suit,Rank,Value \n",
    "\n",
    "# Card Class\n",
    "class Card():\n",
    "    \n",
    "    \n",
    "    def __init__(self,suit,rank):\n",
    "        self.suit=suit\n",
    "        self.rank=rank\n",
    "        self.value=values[rank]\n",
    "        \n",
    "        \n",
    "    def __str__(self):\n",
    "        return self.rank + \" of \" +self.suit\n",
    "        "
   ]
  },
  {
   "cell_type": "code",
   "execution_count": 34,
   "id": "6628cc18",
   "metadata": {},
   "outputs": [],
   "source": [
    "# two_hearts=Card(\"Hearts\",\"Two\")"
   ]
  },
  {
   "cell_type": "code",
   "execution_count": 202,
   "id": "60728241",
   "metadata": {},
   "outputs": [],
   "source": [
    "# two_hearts.value"
   ]
  },
  {
   "cell_type": "code",
   "execution_count": 308,
   "id": "350100d0",
   "metadata": {},
   "outputs": [],
   "source": [
    " # DECK class \n",
    "class Deck():\n",
    "    def __init__(self):\n",
    "        self.all_cards = []\n",
    "        \n",
    "        for suit in suits:\n",
    "            for rank in ranks:\n",
    "                #create the card object \n",
    "                created_card=Card(suit,rank)\n",
    "                \n",
    "                self.all_cards.append(created_card)\n",
    "                \n",
    "    def shuffle(self):\n",
    "        random.shuffle(self.all_cards)\n",
    "    def deal_one(self):\n",
    "        return self.all_cards.pop()\n",
    "        "
   ]
  },
  {
   "cell_type": "code",
   "execution_count": 225,
   "id": "b2657493",
   "metadata": {},
   "outputs": [],
   "source": [
    "# Now this new instance makes the cards object for every suit and ranks \n",
    "# new_deck=Deck()"
   ]
  },
  {
   "cell_type": "code",
   "execution_count": 227,
   "id": "c9c1e03e",
   "metadata": {},
   "outputs": [],
   "source": [
    "# mycard=new_deck.deal_one()"
   ]
  },
  {
   "cell_type": "code",
   "execution_count": 228,
   "id": "e10ac74b",
   "metadata": {},
   "outputs": [],
   "source": [
    "# Using Deck class we make an instances of card for every suit and rank\n",
    "# bottom_card=new_deck.all_cards[-1]"
   ]
  },
  {
   "cell_type": "code",
   "execution_count": 229,
   "id": "c0a0baee",
   "metadata": {},
   "outputs": [
    {
     "name": "stdout",
     "output_type": "stream",
     "text": [
      "king of Clubs\n"
     ]
    }
   ],
   "source": [
    "# print(bottom_card)"
   ]
  },
  {
   "cell_type": "code",
   "execution_count": 116,
   "id": "c981c926",
   "metadata": {},
   "outputs": [],
   "source": [
    "# for card_object in new_deck.all_cards:\n",
    "#     print(card_object)\n",
    "    "
   ]
  },
  {
   "cell_type": "code",
   "execution_count": 230,
   "id": "2828e7fe",
   "metadata": {},
   "outputs": [],
   "source": [
    "# new_deck.shuffle()"
   ]
  },
  {
   "cell_type": "code",
   "execution_count": 231,
   "id": "6e58784b",
   "metadata": {},
   "outputs": [
    {
     "name": "stdout",
     "output_type": "stream",
     "text": [
      "Four of Spades\n"
     ]
    }
   ],
   "source": [
    "# print(new_deck.all_cards[-1])"
   ]
  },
  {
   "cell_type": "code",
   "execution_count": 302,
   "id": "9d6ac7a0",
   "metadata": {},
   "outputs": [],
   "source": [
    "# Player Class\n",
    "\n",
    "class Player:\n",
    "    \n",
    "    def __init__(self,name):\n",
    "        self.name=name\n",
    "        self.all_cards=[]\n",
    "        \n",
    "    def remove_one(self):\n",
    "        return self.all_cards.pop(0)\n",
    "    \n",
    "    def add_cards(self,new_cards):\n",
    "        if type(new_cards)==type([]):\n",
    "#             list of multiple Card Objects \n",
    "            self.all_cards.extend(new_cards)\n",
    "        else:\n",
    "#             for single card object\n",
    "            self.all_cards.append(new_cards)\n",
    "    \n",
    "    def __str__(self):\n",
    "        return f\"Player {self.name} has {len(self.all_cards)} cards\"\n",
    "        "
   ]
  },
  {
   "cell_type": "code",
   "execution_count": 280,
   "id": "222f52d4",
   "metadata": {},
   "outputs": [],
   "source": [
    "# new_player=Player(\"Jose\")"
   ]
  },
  {
   "cell_type": "code",
   "execution_count": 264,
   "id": "dc940e67",
   "metadata": {},
   "outputs": [
    {
     "name": "stdout",
     "output_type": "stream",
     "text": [
      "Player Jose has 0 cards\n"
     ]
    }
   ],
   "source": [
    "# print(new_player)"
   ]
  },
  {
   "cell_type": "code",
   "execution_count": 265,
   "id": "03dff861",
   "metadata": {},
   "outputs": [],
   "source": [
    "# new_player.add_cards(mycard)"
   ]
  },
  {
   "cell_type": "code",
   "execution_count": 266,
   "id": "ce3e4cee",
   "metadata": {},
   "outputs": [
    {
     "name": "stdout",
     "output_type": "stream",
     "text": [
      "Ace of Clubs\n"
     ]
    }
   ],
   "source": [
    "# print(new_player.all_cards[0])"
   ]
  },
  {
   "cell_type": "code",
   "execution_count": 267,
   "id": "9c6bdf80",
   "metadata": {},
   "outputs": [
    {
     "name": "stdout",
     "output_type": "stream",
     "text": [
      "Player Jose has 1 cards\n"
     ]
    }
   ],
   "source": [
    "# print(new_player)"
   ]
  },
  {
   "cell_type": "code",
   "execution_count": 268,
   "id": "e013a9a4",
   "metadata": {},
   "outputs": [
    {
     "data": {
      "text/plain": [
       "<__main__.Card at 0x22f1aa08110>"
      ]
     },
     "execution_count": 268,
     "metadata": {},
     "output_type": "execute_result"
    }
   ],
   "source": [
    "# new_player.remove_one()"
   ]
  },
  {
   "cell_type": "code",
   "execution_count": 269,
   "id": "00c7fa94",
   "metadata": {},
   "outputs": [
    {
     "name": "stdout",
     "output_type": "stream",
     "text": [
      "Player Jose has 0 cards\n"
     ]
    }
   ],
   "source": [
    "# print(new_player)"
   ]
  },
  {
   "cell_type": "code",
   "execution_count": 310,
   "id": "aa0bbf92",
   "metadata": {},
   "outputs": [],
   "source": [
    "# GAME SETUP \n",
    "player_one=Player(\"One\")\n",
    "player_two=Player(\"Two\")\n",
    "\n",
    "\n",
    "# it Created the instance of Deck Class (in which cards are kept)\n",
    "new_deck=Deck()\n",
    "# it shuffles all the cards to divide into both players\n",
    "new_deck.shuffle()\n",
    "\n",
    "\n",
    "for x in range(26):\n",
    "    player_one.add_cards(new_deck.deal_one())\n",
    "    player_two.add_cards(new_deck.deal_one())"
   ]
  },
  {
   "cell_type": "code",
   "execution_count": 311,
   "id": "e4e41d06",
   "metadata": {},
   "outputs": [
    {
     "data": {
      "text/plain": [
       "26"
      ]
     },
     "execution_count": 311,
     "metadata": {},
     "output_type": "execute_result"
    }
   ],
   "source": [
    "len(player_one.all_cards)"
   ]
  },
  {
   "cell_type": "code",
   "execution_count": null,
   "id": "344fec12",
   "metadata": {},
   "outputs": [],
   "source": [
    "\n"
   ]
  },
  {
   "cell_type": "code",
   "execution_count": null,
   "id": "ddb80c31",
   "metadata": {},
   "outputs": [],
   "source": [
    "#while game_on\n",
    "    # while at_war"
   ]
  },
  {
   "cell_type": "code",
   "execution_count": null,
   "id": "52103d85",
   "metadata": {},
   "outputs": [],
   "source": [
    "print(new_player)"
   ]
  },
  {
   "cell_type": "code",
   "execution_count": null,
   "id": "de824f23",
   "metadata": {},
   "outputs": [],
   "source": []
  },
  {
   "cell_type": "code",
   "execution_count": null,
   "id": "4d43038f",
   "metadata": {},
   "outputs": [],
   "source": []
  },
  {
   "cell_type": "code",
   "execution_count": null,
   "id": "3780ce25",
   "metadata": {},
   "outputs": [],
   "source": [
    "#-----------------------------------------------------------------------------\n",
    "# MODOULE 11 END HERE\n",
    "#-----------------------------------------------------------------------------"
   ]
  }
 ],
 "metadata": {
  "kernelspec": {
   "display_name": "Python 3 (ipykernel)",
   "language": "python",
   "name": "python3"
  },
  "language_info": {
   "codemirror_mode": {
    "name": "ipython",
    "version": 3
   },
   "file_extension": ".py",
   "mimetype": "text/x-python",
   "name": "python",
   "nbconvert_exporter": "python",
   "pygments_lexer": "ipython3",
   "version": "3.11.4"
  }
 },
 "nbformat": 4,
 "nbformat_minor": 5
}
