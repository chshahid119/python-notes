{
 "cells": [
  {
   "cell_type": "code",
   "execution_count": null,
   "id": "9f291ef9",
   "metadata": {},
   "outputs": [],
   "source": [
    "#-----------------------------------------------------------------------------\n",
    "# MODULE NO 8: [OOP]\n",
    "# MDOULE 8 START FROM HERE\n",
    "#-----------------------------------------------------------------------------"
   ]
  },
  {
   "cell_type": "code",
   "execution_count": null,
   "id": "f18fdc73",
   "metadata": {},
   "outputs": [],
   "source": [
    "# Introduction about Object Oriented Programming (00P)\n",
    "\"\"\"\n",
    "class NameOfClass():\n",
    "    \n",
    "    def __init__(self,param1,param2):\n",
    "        self.param1=param1\n",
    "        self.param2=param2\n",
    "        \n",
    "        \n",
    "    def some_method(self):\n",
    "        #Perform some action\n",
    "        \n",
    "        print(self.param1)\n",
    "\"\"\""
   ]
  },
  {
   "cell_type": "code",
   "execution_count": 29,
   "id": "210331d7",
   "metadata": {},
   "outputs": [],
   "source": [
    "# OOP ATTRIBUTES AND CLASS KEYWORDS \n",
    "\n",
    "class Dog():\n",
    "    \n",
    "    def __init__(self,breed,name,spots):\n",
    "        \n",
    "        # Attributes\n",
    "        # We take in the Arguments\n",
    "        # Assign it using self.attribute_name\n",
    "        self.breed=breed\n",
    "        self.name=name\n",
    "        \n",
    "        # Expect Boolean True/False\n",
    "        self.spots=spots\n",
    "        "
   ]
  },
  {
   "cell_type": "code",
   "execution_count": 31,
   "id": "ed06e42b",
   "metadata": {},
   "outputs": [],
   "source": [
    "my_dog=Dog(breed='Huskie',name='Sammy',spots=False)"
   ]
  },
  {
   "cell_type": "code",
   "execution_count": 34,
   "id": "52db7bb9",
   "metadata": {},
   "outputs": [
    {
     "name": "stdout",
     "output_type": "stream",
     "text": [
      "Huskie\n",
      "Sammy\n",
      "False\n"
     ]
    }
   ],
   "source": [
    "print(my_dog.breed)\n",
    "print(my_dog.name)\n",
    "print(my_dog.spots)\n"
   ]
  },
  {
   "cell_type": "code",
   "execution_count": 1,
   "id": "4b2afeed",
   "metadata": {},
   "outputs": [
    {
     "ename": "SyntaxError",
     "evalue": "invalid syntax (3165822927.py, line 2)",
     "output_type": "error",
     "traceback": [
      "\u001b[1;36m  Cell \u001b[1;32mIn[1], line 2\u001b[1;36m\u001b[0m\n\u001b[1;33m    MODOULE 8 END HERE\u001b[0m\n\u001b[1;37m            ^\u001b[0m\n\u001b[1;31mSyntaxError\u001b[0m\u001b[1;31m:\u001b[0m invalid syntax\n"
     ]
    }
   ],
   "source": [
    "#-----------------------------------------------------------------------------\n",
    "# MODOULE 8 END HERE\n",
    "#-----------------------------------------------------------------------------"
   ]
  }
 ],
 "metadata": {
  "kernelspec": {
   "display_name": "Python 3 (ipykernel)",
   "language": "python",
   "name": "python3"
  },
  "language_info": {
   "codemirror_mode": {
    "name": "ipython",
    "version": 3
   },
   "file_extension": ".py",
   "mimetype": "text/x-python",
   "name": "python",
   "nbconvert_exporter": "python",
   "pygments_lexer": "ipython3",
   "version": "3.11.4"
  }
 },
 "nbformat": 4,
 "nbformat_minor": 5
}
