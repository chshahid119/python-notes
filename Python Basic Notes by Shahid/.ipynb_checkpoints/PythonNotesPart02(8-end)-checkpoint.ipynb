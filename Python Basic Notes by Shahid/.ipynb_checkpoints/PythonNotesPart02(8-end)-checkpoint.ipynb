{
 "cells": [
  {
   "cell_type": "code",
   "execution_count": 88,
   "id": "9f291ef9",
   "metadata": {},
   "outputs": [],
   "source": [
    "#-----------------------------------------------------------------------------\n",
    "# MODULE NO 8: [OOP]\n",
    "# MDOULE 8 START FROM HERE\n",
    "#-----------------------------------------------------------------------------"
   ]
  },
  {
   "cell_type": "code",
   "execution_count": 89,
   "id": "f18fdc73",
   "metadata": {},
   "outputs": [
    {
     "data": {
      "text/plain": [
       "'\\nclass NameOfClass():\\n    \\n    def __init__(self,param1,param2):\\n        self.param1=param1\\n        self.param2=param2\\n        \\n        \\n    def some_method(self):\\n        #Perform some action\\n        \\n        print(self.param1)\\n'"
      ]
     },
     "execution_count": 89,
     "metadata": {},
     "output_type": "execute_result"
    }
   ],
   "source": [
    "# Introduction about Object Oriented Programming (00P)\n",
    "\"\"\"\n",
    "class NameOfClass():\n",
    "    \n",
    "    def __init__(self,param1,param2):\n",
    "        self.param1=param1\n",
    "        self.param2=param2\n",
    "        \n",
    "        \n",
    "    def some_method(self):\n",
    "        #Perform some action\n",
    "        \n",
    "        print(self.param1)\n",
    "\"\"\""
   ]
  },
  {
   "cell_type": "code",
   "execution_count": 90,
   "id": "210331d7",
   "metadata": {},
   "outputs": [],
   "source": [
    "# OOP ATTRIBUTES AND CLASS KEYWORDS \n",
    "\n",
    "class DogAnimal():\n",
    "    \n",
    "    def __init__(self,breed,name,spots):\n",
    "        \n",
    "        # Attributes\n",
    "        # We take in the Arguments\n",
    "        # Assign it using self.attribute_name\n",
    "        self.breed=breed\n",
    "        self.name=name\n",
    "        \n",
    "        # Expect Boolean True/False\n",
    "        self.spots=spots\n",
    "        "
   ]
  },
  {
   "cell_type": "code",
   "execution_count": 91,
   "id": "ed06e42b",
   "metadata": {},
   "outputs": [],
   "source": [
    "my_dog=DogAnimal(breed='Huskie',name='Sammy',spots=False)"
   ]
  },
  {
   "cell_type": "code",
   "execution_count": 92,
   "id": "52db7bb9",
   "metadata": {},
   "outputs": [
    {
     "name": "stdout",
     "output_type": "stream",
     "text": [
      "Huskie\n",
      "Sammy\n",
      "False\n"
     ]
    }
   ],
   "source": [
    "print(my_dog.breed)\n",
    "print(my_dog.name)\n",
    "print(my_dog.spots)\n"
   ]
  },
  {
   "cell_type": "code",
   "execution_count": 93,
   "id": "3c2e5571",
   "metadata": {},
   "outputs": [],
   "source": [
    "#Inheritance and Polymorphism\n",
    "\n",
    "class Animal():\n",
    "    \n",
    "    def __init__(self):\n",
    "        print('ANIMAL CREATED')\n",
    "        \n",
    "    def who_am_i(self):\n",
    "        print('I am an animal')\n",
    "        \n",
    "    def eat(self):\n",
    "        print(\"I am eating\")"
   ]
  },
  {
   "cell_type": "code",
   "execution_count": 94,
   "id": "7fb2adb7",
   "metadata": {},
   "outputs": [],
   "source": [
    "# Inheritance in Python \n",
    "class Dog(Animal):\n",
    "    \n",
    "    def __init__(self):\n",
    "        Animal.__init__(self)\n",
    "        print(\"Dog created\")\n",
    "        \n",
    "        \n",
    "    def who_am_i(self):\n",
    "        print(\"I am a dog!\")\n",
    "        \n",
    "    def bark(self):\n",
    "        print(\"WOOF!\")"
   ]
  },
  {
   "cell_type": "code",
   "execution_count": 95,
   "id": "4041e20b",
   "metadata": {},
   "outputs": [
    {
     "name": "stdout",
     "output_type": "stream",
     "text": [
      "ANIMAL CREATED\n",
      "Dog created\n"
     ]
    }
   ],
   "source": [
    "mydog=Dog()"
   ]
  },
  {
   "cell_type": "code",
   "execution_count": 96,
   "id": "7dc33195",
   "metadata": {},
   "outputs": [],
   "source": [
    "# Polymoprphism \n",
    "# use one class methods and objects for different attributes and entities is polymorphism "
   ]
  },
  {
   "cell_type": "code",
   "execution_count": 97,
   "id": "1e8d325e",
   "metadata": {},
   "outputs": [],
   "source": [
    "# Special Methods \n",
    "class Book():\n",
    "    \n",
    "    def __init__(self,title,author,pages):\n",
    "        \n",
    "        self.title=title\n",
    "        self.author=author\n",
    "        self.pages=pages\n",
    "    \n",
    "    \n",
    "    #string representation of class\n",
    "    def __str__(self):\n",
    "        return f\"{self.title} by {self.author}\"\n",
    "    \n",
    "    # to check length of pages outside of class use like len() method\n",
    "    def __len__(self):\n",
    "        return self.pages\n",
    "    \n",
    "    def __del__(self):\n",
    "        print(\"A object has been deleted\")\n",
    "        "
   ]
  },
  {
   "cell_type": "code",
   "execution_count": 98,
   "id": "751669b0",
   "metadata": {},
   "outputs": [],
   "source": [
    "b=Book('Python rocks','Jose',200)"
   ]
  },
  {
   "cell_type": "code",
   "execution_count": 99,
   "id": "b06ec381",
   "metadata": {},
   "outputs": [
    {
     "name": "stdout",
     "output_type": "stream",
     "text": [
      "Python rocks by Jose\n"
     ]
    }
   ],
   "source": [
    "print(b)  # it tells what is the string representation of b so to avoid all of this we use special method in class __str__"
   ]
  },
  {
   "cell_type": "code",
   "execution_count": 100,
   "id": "9fb041d7",
   "metadata": {},
   "outputs": [
    {
     "name": "stdout",
     "output_type": "stream",
     "text": [
      "Python rocks by Jose\n"
     ]
    }
   ],
   "source": [
    "# Now it prints that string just because of string representation of class \n",
    "print(b)"
   ]
  },
  {
   "cell_type": "code",
   "execution_count": 101,
   "id": "a293d2b3",
   "metadata": {},
   "outputs": [
    {
     "data": {
      "text/plain": [
       "'Python rocks by Jose'"
      ]
     },
     "execution_count": 101,
     "metadata": {},
     "output_type": "execute_result"
    }
   ],
   "source": [
    "str(b)"
   ]
  },
  {
   "cell_type": "code",
   "execution_count": 102,
   "id": "00248605",
   "metadata": {},
   "outputs": [
    {
     "data": {
      "text/plain": [
       "200"
      ]
     },
     "execution_count": 102,
     "metadata": {},
     "output_type": "execute_result"
    }
   ],
   "source": [
    "len(b)"
   ]
  },
  {
   "cell_type": "code",
   "execution_count": 103,
   "id": "0220f22c",
   "metadata": {},
   "outputs": [
    {
     "name": "stdout",
     "output_type": "stream",
     "text": [
      "A object has been deleted\n"
     ]
    }
   ],
   "source": [
    "# Now b instance is deleted \n",
    "del b"
   ]
  },
  {
   "cell_type": "code",
   "execution_count": 104,
   "id": "5bb64051",
   "metadata": {},
   "outputs": [],
   "source": [
    "#-----------------------------------------------------------------------------\n",
    "# MODOULE 8 END HERE\n",
    "#-----------------------------------------------------------------------------"
   ]
  },
  {
   "cell_type": "code",
   "execution_count": 105,
   "id": "04cbaf35",
   "metadata": {},
   "outputs": [],
   "source": [
    "#-----------------------------------------------------------------------------\n",
    "# MODULE NO 9: [MODULES AND PACKAGES]\n",
    "# MDOULE 9 START FROM HERE\n",
    "#-----------------------------------------------------------------------------"
   ]
  },
  {
   "cell_type": "code",
   "execution_count": 106,
   "id": "f9b22e36",
   "metadata": {},
   "outputs": [],
   "source": [
    "# Pip install and PyPi \n",
    "# Colorama library for python for change of colors of lines of code of python on command promopt"
   ]
  },
  {
   "cell_type": "code",
   "execution_count": 107,
   "id": "568436af",
   "metadata": {},
   "outputs": [],
   "source": [
    "# How to create packages and subpackages in python and how we can use them in code"
   ]
  },
  {
   "cell_type": "code",
   "execution_count": 108,
   "id": "cee510b3",
   "metadata": {},
   "outputs": [],
   "source": [
    "# __name__ and __main__ useage here "
   ]
  },
  {
   "cell_type": "code",
   "execution_count": 109,
   "id": "14a52f68",
   "metadata": {},
   "outputs": [],
   "source": [
    "#-----------------------------------------------------------------------------\n",
    "# MODOULE 9 END HERE\n",
    "#-----------------------------------------------------------------------------"
   ]
  },
  {
   "cell_type": "code",
   "execution_count": 110,
   "id": "b989bdef",
   "metadata": {},
   "outputs": [],
   "source": [
    "#-----------------------------------------------------------------------------\n",
    "# MODULE NO 10: [ERROR AND EXCEPTION HANDLING]\n",
    "# MDOULE 10 START FROM HERE\n",
    "#-----------------------------------------------------------------------------"
   ]
  },
  {
   "cell_type": "code",
   "execution_count": 111,
   "id": "0476af53",
   "metadata": {},
   "outputs": [
    {
     "name": "stdout",
     "output_type": "stream",
     "text": [
      "Hey! it looks like you aren't adding correctly!\n"
     ]
    }
   ],
   "source": [
    "#ERRORS AND EXCEPTION HANDLING IN PYTHON\n",
    "# TRY,  EXCEPT AND FINALLY CODE BLOCKS\n",
    "try:\n",
    "    # WANT TO ATTEPT THIS CODE\n",
    "    # MAY HAVE AN ERROR\n",
    "    result=10+'10'\n",
    "except:\n",
    "    print(\"Hey! it looks like you aren't adding correctly!\")\n",
    "else:\n",
    "    print(\"Add went well!\")\n",
    "    print(result)\n",
    "    "
   ]
  },
  {
   "cell_type": "code",
   "execution_count": 112,
   "id": "c71b0536",
   "metadata": {},
   "outputs": [
    {
     "ename": "NameError",
     "evalue": "name 'result' is not defined",
     "output_type": "error",
     "traceback": [
      "\u001b[1;31m---------------------------------------------------------------------------\u001b[0m",
      "\u001b[1;31mNameError\u001b[0m                                 Traceback (most recent call last)",
      "Cell \u001b[1;32mIn[112], line 1\u001b[0m\n\u001b[1;32m----> 1\u001b[0m result\n",
      "\u001b[1;31mNameError\u001b[0m: name 'result' is not defined"
     ]
    }
   ],
   "source": [
    "result"
   ]
  },
  {
   "cell_type": "code",
   "execution_count": null,
   "id": "1f07b750",
   "metadata": {},
   "outputs": [],
   "source": []
  },
  {
   "cell_type": "code",
   "execution_count": 111,
   "id": "61db2171",
   "metadata": {},
   "outputs": [
    {
     "name": "stdout",
     "output_type": "stream",
     "text": [
      "Hey you have an OS Error\n",
      "I always run\n"
     ]
    }
   ],
   "source": [
    "try:\n",
    "    f=open('testfile','r')\n",
    "    f.write(\"Write a test line\")\n",
    "except TypeError:\n",
    "    print(\"There was a type error\")\n",
    "except OSError:\n",
    "    print('Hey you have an OS Error')\n",
    "finally:\n",
    "    print(\"I always run\")\n",
    "    "
   ]
  },
  {
   "cell_type": "code",
   "execution_count": null,
   "id": "a8e23a6a",
   "metadata": {},
   "outputs": [],
   "source": [
    "#-----------------------------------------------------------------------------\n",
    "# MODOULE 10 END HERE\n",
    "#-----------------------------------------------------------------------------"
   ]
  },
  {
   "cell_type": "code",
   "execution_count": null,
   "id": "7bd64ef2",
   "metadata": {},
   "outputs": [],
   "source": [
    "#-----------------------------------------------------------------------------\n",
    "# MODULE NO 11: [MILESTONE PROJECT - 1]\n",
    "# MDOULE 11 START FROM HERE\n",
    "#-----------------------------------------------------------------------------"
   ]
  },
  {
   "cell_type": "code",
   "execution_count": null,
   "id": "4887e024",
   "metadata": {},
   "outputs": [],
   "source": [
    "import random\n",
    "suits=(\"Hearts\",\"Diamonds\",\"Spades\",\"Clubs\")\n",
    "ranks=(\"Two\",\"Three\",\"Four\",\"Five\",\"Six\",\n",
    "        \"Seven\",\"Eight\",\"Nine\",\"Ten\",\"Jack\",\"Queen\",\"king\",\"Ace\")\n",
    "\n",
    "values={\"Two\":2,\"Three\":3,\"Four\":4,\"Five\":5,\"Six\":6,\"Seven\":7,\"Eight\":8,\"Nine\":9,\n",
    "        \"Ten\":10,\"Jack\":11,\"Queen\":12,\"king\":13,\"Ace\":14}"
   ]
  },
  {
   "cell_type": "code",
   "execution_count": null,
   "id": "362ab824",
   "metadata": {},
   "outputs": [],
   "source": [
    "# Milestone project -1 \n",
    "# Suit,Rank,Value \n",
    "\n",
    "# Card Class\n",
    "class Card():\n",
    "    \n",
    "    \n",
    "    def __init__(self,suit,rank):\n",
    "        self.suit=suit\n",
    "        self.rank=rank\n",
    "        self.value=values[rank]\n",
    "        \n",
    "        \n",
    "    def __str__(self):\n",
    "        return self.rank + \" of \" +self.suit\n",
    "        "
   ]
  },
  {
   "cell_type": "code",
   "execution_count": null,
   "id": "6628cc18",
   "metadata": {},
   "outputs": [],
   "source": [
    "# two_hearts=Card(\"Hearts\",\"Two\")"
   ]
  },
  {
   "cell_type": "code",
   "execution_count": null,
   "id": "60728241",
   "metadata": {},
   "outputs": [],
   "source": [
    "# two_hearts.value"
   ]
  },
  {
   "cell_type": "code",
   "execution_count": null,
   "id": "11085896",
   "metadata": {},
   "outputs": [],
   "source": [
    " # DECK class \n",
    "class Deck():\n",
    "    def __init__(self):\n",
    "        self.all_cards = []\n",
    "        \n",
    "        for suit in suits:\n",
    "            for rank in ranks:\n",
    "                #create the card object \n",
    "                created_card=Card(suit,rank)\n",
    "                \n",
    "                self.all_cards.append(created_card)\n",
    "                \n",
    "    def shuffle(self):\n",
    "        random.shuffle(self.all_cards)\n",
    "    def deal_one(self):\n",
    "        return self.all_cards.pop()\n",
    "        "
   ]
  },
  {
   "cell_type": "code",
   "execution_count": null,
   "id": "194619b9",
   "metadata": {},
   "outputs": [],
   "source": [
    "# Now this new instance makes the cards object for every suit and ranks \n",
    "# new_deck=Deck()"
   ]
  },
  {
   "cell_type": "code",
   "execution_count": null,
   "id": "8794a88a",
   "metadata": {},
   "outputs": [],
   "source": [
    "# mycard=new_deck.deal_one()"
   ]
  },
  {
   "cell_type": "code",
   "execution_count": null,
   "id": "10e11dbe",
   "metadata": {},
   "outputs": [],
   "source": [
    "# Using Deck class we make an instances of card for every suit and rank\n",
    "# bottom_card=new_deck.all_cards[-1]"
   ]
  },
  {
   "cell_type": "code",
   "execution_count": null,
   "id": "73cba70a",
   "metadata": {},
   "outputs": [],
   "source": [
    "# print(bottom_card)"
   ]
  },
  {
   "cell_type": "code",
   "execution_count": null,
   "id": "236bdf37",
   "metadata": {},
   "outputs": [],
   "source": [
    "# for card_object in new_deck.all_cards:\n",
    "#     print(card_object)\n",
    "    "
   ]
  },
  {
   "cell_type": "code",
   "execution_count": null,
   "id": "26517f79",
   "metadata": {},
   "outputs": [],
   "source": [
    "# new_deck.shuffle()"
   ]
  },
  {
   "cell_type": "code",
   "execution_count": null,
   "id": "db166ec8",
   "metadata": {},
   "outputs": [],
   "source": [
    "# print(new_deck.all_cards[-1])"
   ]
  },
  {
   "cell_type": "code",
   "execution_count": null,
   "id": "69acddf1",
   "metadata": {},
   "outputs": [],
   "source": [
    "# Player Class\n",
    "\n",
    "class Player:\n",
    "    \n",
    "    def __init__(self,name):\n",
    "        self.name=name\n",
    "        self.all_cards=[]\n",
    "        \n",
    "    def remove_one(self):\n",
    "        return self.all_cards.pop(0)\n",
    "    \n",
    "    def add_cards(self,new_cards):\n",
    "        if type(new_cards)==type([]):\n",
    "#             list of multiple Card Objects \n",
    "            self.all_cards.extend(new_cards)\n",
    "        else:\n",
    "#             for single card object\n",
    "            self.all_cards.append(new_cards)\n",
    "    \n",
    "    def __str__(self):\n",
    "        return f\"Player {self.name} has {len(self.all_cards)} cards\"\n",
    "        "
   ]
  },
  {
   "cell_type": "code",
   "execution_count": null,
   "id": "5b63705a",
   "metadata": {},
   "outputs": [],
   "source": [
    "# new_player=Player(\"Jose\")"
   ]
  },
  {
   "cell_type": "code",
   "execution_count": null,
   "id": "3de7b1b0",
   "metadata": {},
   "outputs": [],
   "source": [
    "# print(new_player)"
   ]
  },
  {
   "cell_type": "code",
   "execution_count": null,
   "id": "b97d3fa0",
   "metadata": {},
   "outputs": [],
   "source": [
    "# new_player.add_cards(mycard)"
   ]
  },
  {
   "cell_type": "code",
   "execution_count": null,
   "id": "9cb499b9",
   "metadata": {},
   "outputs": [],
   "source": [
    "# print(new_player.all_cards[0])"
   ]
  },
  {
   "cell_type": "code",
   "execution_count": null,
   "id": "3178dc74",
   "metadata": {},
   "outputs": [],
   "source": [
    "# print(new_player)"
   ]
  },
  {
   "cell_type": "code",
   "execution_count": null,
   "id": "2b8d1590",
   "metadata": {},
   "outputs": [],
   "source": [
    "# new_player.remove_one()"
   ]
  },
  {
   "cell_type": "code",
   "execution_count": null,
   "id": "c01af1f3",
   "metadata": {},
   "outputs": [],
   "source": [
    "# print(new_player)"
   ]
  },
  {
   "cell_type": "code",
   "execution_count": null,
   "id": "a9544625",
   "metadata": {},
   "outputs": [],
   "source": [
    "# GAME SETUP \n",
    "player_one=Player(\"One\")\n",
    "player_two=Player(\"Two\")\n",
    "\n",
    "\n",
    "# it Created the instance of Deck Class (in which cards are kept)\n",
    "new_deck=Deck()\n",
    "# it shuffles all the cards to divide into both players\n",
    "new_deck.shuffle()\n",
    "\n",
    "\n",
    "for x in range(26):\n",
    "    player_one.add_cards(new_deck.deal_one())\n",
    "    player_two.add_cards(new_deck.deal_one())"
   ]
  },
  {
   "cell_type": "code",
   "execution_count": null,
   "id": "cf7b4400",
   "metadata": {},
   "outputs": [],
   "source": [
    "len(player_one.all_cards)"
   ]
  },
  {
   "cell_type": "code",
   "execution_count": null,
   "id": "6ceb2a47",
   "metadata": {},
   "outputs": [],
   "source": [
    "#while game_on\n",
    "game_on=True\n",
    "round_num=0\n",
    "while game_on:\n",
    "    round_num +=1\n",
    "    print(f\"Round {round_num}\")\n",
    "    \n",
    "    if len(player_one.all_cards)==0:\n",
    "        print('Player One, out of cards! Player Two Wins!')\n",
    "        game_on=False\n",
    "        break\n",
    "    if len(player_two.all_cards)==0:\n",
    "        print('Player Two, out of cards! Player One Wins!')\n",
    "        game_on=False\n",
    "        break\n",
    "#     Start a New Round\n",
    "    player_one_cards=[]\n",
    "    player_one_cards.append(player_one.remove_one())\n",
    "    player_two_cards=[]\n",
    "    player_two_cards.append(player_two.remove_one())\n",
    "    \n",
    " \n",
    "    \n",
    "    # while at_war\n",
    "    at_war=True\n",
    "    \n",
    "    while at_war:\n",
    "        if player_one_cards[-1].value > player_two_cards[-1].value:\n",
    "            player_one.add_cards(player_one_cards)\n",
    "            player_one.add_cards(player_two_cards)\n",
    "            \n",
    "            at_war=False\n",
    "        elif player_one_cards[-1].value < player_two_cards[-1].value:\n",
    "            player_two.add_cards(player_one_cards)\n",
    "            player_two.add_cards(player_two_cards)\n",
    "            \n",
    "            at_war=False\n",
    "        else:\n",
    "            print('WAR!')\n",
    "            \n",
    "            if len(player_one.all_cards) < 3:\n",
    "                print(\"Player One Unable to declare war\")\n",
    "                print(\"PLAYER TWO WINS!\")\n",
    "                game_on=False\n",
    "                break\n",
    "            elif len(player_two.all_cards) < 3:\n",
    "                print(\"Player Two Unable to declare war\")\n",
    "                print(\"PLAYER ONE WINS!\")\n",
    "                game_on=False\n",
    "                break\n",
    "            else:\n",
    "                for num in range(3):\n",
    "                    player_one_cards.append(player_one.remove_one())\n",
    "                    player_one_cards.append(player_two.remove_one())\n",
    "                 \n",
    "        \n",
    "        "
   ]
  },
  {
   "cell_type": "code",
   "execution_count": null,
   "id": "0c77bfbb",
   "metadata": {},
   "outputs": [],
   "source": [
    "len(player_one.all_cards)"
   ]
  },
  {
   "cell_type": "code",
   "execution_count": null,
   "id": "aba4579c",
   "metadata": {},
   "outputs": [],
   "source": [
    "len(player_two.all_cards)"
   ]
  },
  {
   "cell_type": "code",
   "execution_count": null,
   "id": "0f12c356",
   "metadata": {},
   "outputs": [],
   "source": [
    "# MODULE 11 IS STILL UNCOMPLETED THE SECOND MILESTONE PROJECT IS PEDNING"
   ]
  },
  {
   "cell_type": "code",
   "execution_count": null,
   "id": "3780ce25",
   "metadata": {},
   "outputs": [],
   "source": [
    "#-----------------------------------------------------------------------------\n",
    "# MODOULE 11 END HERE\n",
    "#-----------------------------------------------------------------------------"
   ]
  },
  {
   "cell_type": "code",
   "execution_count": null,
   "id": "e6a3faf6",
   "metadata": {},
   "outputs": [],
   "source": [
    "#-----------------------------------------------------------------------------\n",
    "# MODULE NO 12: [PYTHON DECORATORS]\n",
    "# MDOULE 12 START FROM HERE\n",
    "#-----------------------------------------------------------------------------"
   ]
  },
  {
   "cell_type": "code",
   "execution_count": null,
   "id": "1394e7b5",
   "metadata": {},
   "outputs": [],
   "source": [
    "# DECORATORS IN PYTHON  \n",
    "\n",
    "\n",
    "# Conditioned which function should return from inside of function\n",
    "def hello(name='Jose'):\n",
    "    print('The hello() function has been executed!')\n",
    "    \n",
    "    def greet():\n",
    "        return '\\t This is the greet() func inside hello!'\n",
    "    \n",
    "    \n",
    "    def welcome():\n",
    "        return '\\t This is welcome() inside hello!'\n",
    "    \n",
    "    \n",
    "    print(\" I am going to return a function!!\")\n",
    "    \n",
    "#     print(greet())\n",
    "#     print(welcome())\n",
    "#     print('This is the enf of the hello function!')\n",
    "    \n",
    "    \n",
    "    if name=='Jose':\n",
    "        return greet\n",
    "    else:\n",
    "        return welcome\n",
    "        \n"
   ]
  },
  {
   "cell_type": "code",
   "execution_count": null,
   "id": "da5440ac",
   "metadata": {},
   "outputs": [],
   "source": [
    "greet=hello('Jose')"
   ]
  },
  {
   "cell_type": "code",
   "execution_count": null,
   "id": "6bf322c1",
   "metadata": {},
   "outputs": [],
   "source": [
    "print(greet())"
   ]
  },
  {
   "cell_type": "code",
   "execution_count": null,
   "id": "50d12bd9",
   "metadata": {},
   "outputs": [],
   "source": [
    "# Returning a function from the function \n",
    "def cool():\n",
    "    print('this is from cool func')\n",
    "    \n",
    "    def super_cool():\n",
    "        return \" I am very cool!\"\n",
    "    \n",
    "    return super_cool"
   ]
  },
  {
   "cell_type": "code",
   "execution_count": null,
   "id": "ea5754ee",
   "metadata": {},
   "outputs": [],
   "source": [
    "some_func=cool()"
   ]
  },
  {
   "cell_type": "code",
   "execution_count": null,
   "id": "57a1e2dc",
   "metadata": {},
   "outputs": [],
   "source": [
    "print(some_func())"
   ]
  },
  {
   "cell_type": "code",
   "execution_count": null,
   "id": "9cb15899",
   "metadata": {},
   "outputs": [],
   "source": [
    "def hello():\n",
    "    return 'Hi Jose!'"
   ]
  },
  {
   "cell_type": "code",
   "execution_count": null,
   "id": "df2cb9c2",
   "metadata": {},
   "outputs": [],
   "source": [
    "def other(some_def_func):\n",
    "    print('Other code runs here!')\n",
    "    print(some_def_func())\n"
   ]
  },
  {
   "cell_type": "code",
   "execution_count": null,
   "id": "d1bc15a6",
   "metadata": {},
   "outputs": [],
   "source": [
    "hello"
   ]
  },
  {
   "cell_type": "code",
   "execution_count": null,
   "id": "d516f4df",
   "metadata": {},
   "outputs": [],
   "source": [
    "other(hello)"
   ]
  },
  {
   "cell_type": "code",
   "execution_count": null,
   "id": "70ff2cf8",
   "metadata": {},
   "outputs": [],
   "source": []
  },
  {
   "cell_type": "code",
   "execution_count": null,
   "id": "04a25eb4",
   "metadata": {},
   "outputs": [],
   "source": [
    "def new_decorator(original_func):\n",
    "    \n",
    "    def wrap_func():\n",
    "        \n",
    "        print(\"Some Extra code, before the original function\")\n",
    "        \n",
    "        original_func()\n",
    "        \n",
    "        print('Some extra code, after the original function!')\n",
    "        \n",
    "    return wrap_func"
   ]
  },
  {
   "cell_type": "code",
   "execution_count": null,
   "id": "7f4192e1",
   "metadata": {},
   "outputs": [],
   "source": [
    "# def func_needs_decorator():\n",
    "#     print('I want to be decorated!!')"
   ]
  },
  {
   "cell_type": "code",
   "execution_count": null,
   "id": "bf8045bd",
   "metadata": {},
   "outputs": [],
   "source": [
    "decorated_func=new_decorator(func_needs_decorator)"
   ]
  },
  {
   "cell_type": "code",
   "execution_count": null,
   "id": "81055acd",
   "metadata": {},
   "outputs": [],
   "source": [
    "decorated_func()"
   ]
  },
  {
   "cell_type": "code",
   "execution_count": null,
   "id": "31409a7b",
   "metadata": {},
   "outputs": [],
   "source": [
    "@new_decorator\n",
    "def func_needs_decorator():\n",
    "    print(\"I want to be decorated!!!\")"
   ]
  },
  {
   "cell_type": "code",
   "execution_count": null,
   "id": "b60fd644",
   "metadata": {},
   "outputs": [],
   "source": [
    "func_needs_decorator()"
   ]
  },
  {
   "cell_type": "code",
   "execution_count": null,
   "id": "24e12362",
   "metadata": {},
   "outputs": [],
   "source": [
    "#-----------------------------------------------------------------------------\n",
    "# MODOULE 12 END HERE\n",
    "#-----------------------------------------------------------------------------"
   ]
  },
  {
   "cell_type": "code",
   "execution_count": null,
   "id": "47fdb01a",
   "metadata": {},
   "outputs": [],
   "source": [
    "#-----------------------------------------------------------------------------\n",
    "# MODULE NO 13: [PYTHON GENERATORS]\n",
    "# MDOULE 13 START FROM HERE\n",
    "#-----------------------------------------------------------------------------"
   ]
  },
  {
   "cell_type": "code",
   "execution_count": null,
   "id": "dc61a549",
   "metadata": {},
   "outputs": [],
   "source": [
    "# YIELD KEYWORD IN PYTHON \n",
    "def create_cubes(n):\n",
    "    result=[]\n",
    "    for x in range(n):\n",
    "        yield x**3"
   ]
  },
  {
   "cell_type": "code",
   "execution_count": null,
   "id": "92c782f1",
   "metadata": {},
   "outputs": [],
   "source": [
    "for x in create_cubes(10):\n",
    "    print(x)"
   ]
  },
  {
   "cell_type": "code",
   "execution_count": null,
   "id": "bcccb805",
   "metadata": {},
   "outputs": [],
   "source": [
    "def get_fibonaci_series(n):\n",
    "    a=1\n",
    "    b=1\n",
    "    for i in range(n):\n",
    "        yield a\n",
    "        a,b=b,a+b"
   ]
  },
  {
   "cell_type": "code",
   "execution_count": null,
   "id": "8a28b7a9",
   "metadata": {},
   "outputs": [],
   "source": [
    "for number in get_fibonaci_series(10):\n",
    "    print(number)"
   ]
  },
  {
   "cell_type": "code",
   "execution_count": null,
   "id": "eaff8414",
   "metadata": {},
   "outputs": [],
   "source": [
    "# next function in generators \n",
    "\n",
    "def simple_gen():\n",
    "    for x in range(3):\n",
    "        yield x"
   ]
  },
  {
   "cell_type": "code",
   "execution_count": null,
   "id": "6b436d95",
   "metadata": {},
   "outputs": [],
   "source": [
    "for number in simple_gen():\n",
    "    print(number)"
   ]
  },
  {
   "cell_type": "code",
   "execution_count": null,
   "id": "1f5c3a5c",
   "metadata": {},
   "outputs": [],
   "source": [
    "g=simple_gen()"
   ]
  },
  {
   "cell_type": "code",
   "execution_count": null,
   "id": "5c3d4f41",
   "metadata": {},
   "outputs": [],
   "source": [
    "g"
   ]
  },
  {
   "cell_type": "code",
   "execution_count": null,
   "id": "d5c6a5a2",
   "metadata": {},
   "outputs": [],
   "source": [
    "# next function \n",
    "\n",
    "print(next(g))\n",
    "print(next(g))\n",
    "print(next(g))"
   ]
  },
  {
   "cell_type": "code",
   "execution_count": null,
   "id": "7670e6fa",
   "metadata": {},
   "outputs": [],
   "source": [
    "# iter function \n",
    "s='hello '"
   ]
  },
  {
   "cell_type": "code",
   "execution_count": null,
   "id": "18b3446a",
   "metadata": {},
   "outputs": [],
   "source": [
    "for letter in s:\n",
    "    print(letter)"
   ]
  },
  {
   "cell_type": "code",
   "execution_count": null,
   "id": "792a12a0",
   "metadata": {},
   "outputs": [],
   "source": [
    "s_iter=iter(s)"
   ]
  },
  {
   "cell_type": "code",
   "execution_count": null,
   "id": "7eead27e",
   "metadata": {},
   "outputs": [],
   "source": [
    "print(next(s_iter))\n",
    "print(next(s_iter))\n",
    "print(next(s_iter))"
   ]
  },
  {
   "cell_type": "code",
   "execution_count": null,
   "id": "c0f21233",
   "metadata": {},
   "outputs": [],
   "source": [
    "# Problem Task: Create a generator that gives squares of number using yield \n",
    "\n",
    "def gen_squares(n):\n",
    "    for num in range(n):\n",
    "        yield num**2"
   ]
  },
  {
   "cell_type": "code",
   "execution_count": null,
   "id": "5e1cfcdd",
   "metadata": {},
   "outputs": [],
   "source": [
    "gen_squares(10)"
   ]
  },
  {
   "cell_type": "code",
   "execution_count": null,
   "id": "0abc1003",
   "metadata": {},
   "outputs": [],
   "source": [
    "for i in gen_squares(10):\n",
    "    print(i)"
   ]
  },
  {
   "cell_type": "code",
   "execution_count": null,
   "id": "ea4f42b5",
   "metadata": {},
   "outputs": [],
   "source": [
    "my_list =[1,2,3,4,5]\n",
    "\n",
    "gencomp=(item for item in my_list if item >3)\n",
    "\n",
    "for item in gencomp:\n",
    "    print(item)"
   ]
  },
  {
   "cell_type": "code",
   "execution_count": null,
   "id": "d523f3dc",
   "metadata": {},
   "outputs": [],
   "source": [
    "#-----------------------------------------------------------------------------\n",
    "# MODOULE 13 END HERE\n",
    "#-----------------------------------------------------------------------------"
   ]
  },
  {
   "cell_type": "code",
   "execution_count": null,
   "id": "a1cc04a9",
   "metadata": {},
   "outputs": [],
   "source": [
    "#-----------------------------------------------------------------------------\n",
    "# MODULE NO 14: [ADVANCE PYTHON MODULES]\n",
    "# MDOULE 14 START FROM HERE\n",
    "#-----------------------------------------------------------------------------"
   ]
  },
  {
   "cell_type": "code",
   "execution_count": null,
   "id": "e2b891c8",
   "metadata": {},
   "outputs": [],
   "source": []
  },
  {
   "cell_type": "code",
   "execution_count": null,
   "id": "84a11e79",
   "metadata": {},
   "outputs": [],
   "source": [
    "# Collections Modules \n",
    "# Counter Function in Collections Module \n",
    "from collections import Counter\n",
    "mylist=[1,1,1,1,1,1,2,2,2,2,2,2,2,2,2,3,3,3,3,3,3,3]\n",
    "# Counter Counts all numbers from that mylist \n",
    "Counter(mylist)"
   ]
  },
  {
   "cell_type": "code",
   "execution_count": null,
   "id": "852704c5",
   "metadata": {},
   "outputs": [],
   "source": [
    "Counter('aliahmadkhanabalo')\n"
   ]
  },
  {
   "cell_type": "code",
   "execution_count": null,
   "id": "1d826985",
   "metadata": {},
   "outputs": [],
   "source": [
    "Counter('Abdul rehman')"
   ]
  },
  {
   "cell_type": "code",
   "execution_count": null,
   "id": "e9ebb945",
   "metadata": {},
   "outputs": [],
   "source": [
    "sentence=\"How many times does each word show up in this sentence with a word. a\"\n",
    "\n",
    "Counter(sentence.lower().split())"
   ]
  },
  {
   "cell_type": "code",
   "execution_count": null,
   "id": "45175ae4",
   "metadata": {},
   "outputs": [],
   "source": [
    "# most common method in Collections module \n",
    "letters='aaaaaaaabbbbbbbbbbcccccccccccccddddddddddddddda'\n",
    "c=Counter(letters)"
   ]
  },
  {
   "cell_type": "code",
   "execution_count": null,
   "id": "eb0c7523",
   "metadata": {},
   "outputs": [],
   "source": [
    "c"
   ]
  },
  {
   "cell_type": "code",
   "execution_count": null,
   "id": "3d8c3080",
   "metadata": {},
   "outputs": [],
   "source": [
    "c.most_common(2) # pass an argument to how many commons you want? Like here gives only 2"
   ]
  },
  {
   "cell_type": "code",
   "execution_count": null,
   "id": "440eedae",
   "metadata": {},
   "outputs": [],
   "source": [
    "list(c)"
   ]
  },
  {
   "cell_type": "code",
   "execution_count": null,
   "id": "ec21f41a",
   "metadata": {},
   "outputs": [],
   "source": [
    "from collections import defaultdict"
   ]
  },
  {
   "cell_type": "code",
   "execution_count": null,
   "id": "6385e9c4",
   "metadata": {},
   "outputs": [],
   "source": [
    "d={'a':10} "
   ]
  },
  {
   "cell_type": "code",
   "execution_count": null,
   "id": "0206d842",
   "metadata": {},
   "outputs": [],
   "source": [
    "d['a']"
   ]
  },
  {
   "cell_type": "code",
   "execution_count": null,
   "id": "4fc0d5aa",
   "metadata": {},
   "outputs": [],
   "source": [
    "d['Wrong']"
   ]
  },
  {
   "cell_type": "code",
   "execution_count": 113,
   "id": "67549b42",
   "metadata": {},
   "outputs": [
    {
     "ename": "NameError",
     "evalue": "name 'defaultdict' is not defined",
     "output_type": "error",
     "traceback": [
      "\u001b[1;31m---------------------------------------------------------------------------\u001b[0m",
      "\u001b[1;31mNameError\u001b[0m                                 Traceback (most recent call last)",
      "Cell \u001b[1;32mIn[113], line 1\u001b[0m\n\u001b[1;32m----> 1\u001b[0m d\u001b[38;5;241m=\u001b[39mdefaultdict(\u001b[38;5;28;01mlambda\u001b[39;00m: \u001b[38;5;241m0\u001b[39m)\n",
      "\u001b[1;31mNameError\u001b[0m: name 'defaultdict' is not defined"
     ]
    }
   ],
   "source": [
    "d=defaultdict(lambda: 0)"
   ]
  },
  {
   "cell_type": "code",
   "execution_count": null,
   "id": "f9149d89",
   "metadata": {},
   "outputs": [],
   "source": [
    "d['wrong'] #by using defaultdict it doesnot give any error if the passing index is not found like in upper cell 'Wrong' is:"
   ]
  },
  {
   "cell_type": "code",
   "execution_count": null,
   "id": "b73be522",
   "metadata": {},
   "outputs": [],
   "source": [
    "d"
   ]
  },
  {
   "cell_type": "code",
   "execution_count": null,
   "id": "8280d9e7",
   "metadata": {},
   "outputs": [],
   "source": [
    "mytuple=(10,20,30)"
   ]
  },
  {
   "cell_type": "code",
   "execution_count": null,
   "id": "b0335719",
   "metadata": {},
   "outputs": [],
   "source": [
    "mytuple"
   ]
  },
  {
   "cell_type": "code",
   "execution_count": null,
   "id": "559f7509",
   "metadata": {},
   "outputs": [],
   "source": [
    "mytuple[10]"
   ]
  },
  {
   "cell_type": "code",
   "execution_count": 114,
   "id": "fade9e2e",
   "metadata": {},
   "outputs": [],
   "source": [
    "# named tupple in collections modules of Python \n",
    "from collections import namedtuple"
   ]
  },
  {
   "cell_type": "code",
   "execution_count": 116,
   "id": "1c7f8f61",
   "metadata": {},
   "outputs": [],
   "source": [
    "Dog=namedtuple('Dog',['age','breed','name'])"
   ]
  },
  {
   "cell_type": "code",
   "execution_count": 120,
   "id": "e45e248b",
   "metadata": {},
   "outputs": [],
   "source": [
    "sammy=Dog(age=5,breed='Husky',name='Sam')"
   ]
  },
  {
   "cell_type": "code",
   "execution_count": 121,
   "id": "265e6831",
   "metadata": {},
   "outputs": [
    {
     "data": {
      "text/plain": [
       "__main__.Dog"
      ]
     },
     "execution_count": 121,
     "metadata": {},
     "output_type": "execute_result"
    }
   ],
   "source": [
    "type(sammy)"
   ]
  },
  {
   "cell_type": "code",
   "execution_count": 122,
   "id": "67cc5cd7",
   "metadata": {},
   "outputs": [
    {
     "name": "stdout",
     "output_type": "stream",
     "text": [
      "Dog(age=5, breed='Husky', name='Sam')\n"
     ]
    }
   ],
   "source": [
    "print(sammy)"
   ]
  },
  {
   "cell_type": "code",
   "execution_count": 127,
   "id": "6126b508",
   "metadata": {},
   "outputs": [
    {
     "data": {
      "text/plain": [
       "5"
      ]
     },
     "execution_count": 127,
     "metadata": {},
     "output_type": "execute_result"
    }
   ],
   "source": [
    "sammy.age"
   ]
  },
  {
   "cell_type": "code",
   "execution_count": 128,
   "id": "e2e57bc0",
   "metadata": {},
   "outputs": [
    {
     "data": {
      "text/plain": [
       "'Husky'"
      ]
     },
     "execution_count": 128,
     "metadata": {},
     "output_type": "execute_result"
    }
   ],
   "source": [
    "sammy.breed\n"
   ]
  },
  {
   "cell_type": "code",
   "execution_count": 129,
   "id": "1e525d33",
   "metadata": {},
   "outputs": [
    {
     "data": {
      "text/plain": [
       "5"
      ]
     },
     "execution_count": 129,
     "metadata": {},
     "output_type": "execute_result"
    }
   ],
   "source": [
    "sammy[0]"
   ]
  },
  {
   "cell_type": "code",
   "execution_count": null,
   "id": "4a71898c",
   "metadata": {},
   "outputs": [],
   "source": [
    "# Opening and Reading files and folders (Python OS Module)\n",
    "# Advance Python Modules for file handling"
   ]
  },
  {
   "cell_type": "code",
   "execution_count": 130,
   "id": "31852a85",
   "metadata": {},
   "outputs": [
    {
     "data": {
      "text/plain": [
       "'C:\\\\Users\\\\Shahid\\\\Documents\\\\GitHub\\\\python-notes\\\\Python Basic Notes by Shahid'"
      ]
     },
     "execution_count": 130,
     "metadata": {},
     "output_type": "execute_result"
    }
   ],
   "source": [
    "pwd"
   ]
  },
  {
   "cell_type": "code",
   "execution_count": 67,
   "id": "265f8648",
   "metadata": {},
   "outputs": [],
   "source": [
    "# this was basic Python commands to work with files \n",
    "f=open('practice.txt','w+')\n",
    "f.write('This is test string')\n",
    "f.close()"
   ]
  },
  {
   "cell_type": "code",
   "execution_count": 5,
   "id": "3201d001",
   "metadata": {},
   "outputs": [],
   "source": [
    "# This is advance way of working with files using Python Modules \n",
    "# Os Module in Python \n",
    "import os"
   ]
  },
  {
   "cell_type": "code",
   "execution_count": 6,
   "id": "515886ec",
   "metadata": {},
   "outputs": [
    {
     "data": {
      "text/plain": [
       "'C:\\\\Users\\\\Shahid\\\\Documents\\\\GitHub\\\\python-notes\\\\Python Basic Notes by Shahid'"
      ]
     },
     "execution_count": 6,
     "metadata": {},
     "output_type": "execute_result"
    }
   ],
   "source": [
    "os.getcwd() # it gives current working directory "
   ]
  },
  {
   "cell_type": "code",
   "execution_count": 34,
   "id": "014a994c",
   "metadata": {},
   "outputs": [
    {
     "data": {
      "text/plain": [
       "['.ipynb_checkpoints',\n",
       " 'demofile2.txt',\n",
       " 'myfile.txt',\n",
       " 'numpy.ipynb',\n",
       " 'pandas.ipynb',\n",
       " 'practice.txt',\n",
       " 'pythonNotesPart01(start-7).ipynb',\n",
       " 'PythonNotesPart02(8-end).ipynb',\n",
       " 'test.txt',\n",
       " 'testfile']"
      ]
     },
     "execution_count": 34,
     "metadata": {},
     "output_type": "execute_result"
    }
   ],
   "source": [
    "os.listdir() #this method creates a list of every directory "
   ]
  },
  {
   "cell_type": "code",
   "execution_count": 36,
   "id": "e32be453",
   "metadata": {},
   "outputs": [
    {
     "data": {
      "text/plain": [
       "['All Users', 'Default', 'Default User', 'desktop.ini', 'Public', 'Shahid']"
      ]
     },
     "execution_count": 36,
     "metadata": {},
     "output_type": "execute_result"
    }
   ],
   "source": [
    "os.listdir('C:\\\\Users') # it creates a list of all item on directory of 'C:\\\\Users'"
   ]
  },
  {
   "cell_type": "code",
   "execution_count": 37,
   "id": "c74dc1bc",
   "metadata": {},
   "outputs": [
    {
     "data": {
      "text/plain": [
       "'nt'"
      ]
     },
     "execution_count": 37,
     "metadata": {},
     "output_type": "execute_result"
    }
   ],
   "source": [
    "os.name"
   ]
  },
  {
   "cell_type": "code",
   "execution_count": 38,
   "id": "5f17aca3",
   "metadata": {},
   "outputs": [],
   "source": [
    "# shutil module in python \n",
    "# it can be used to move files in different directions in in different locations \n",
    "import shutil"
   ]
  },
  {
   "cell_type": "code",
   "execution_count": 49,
   "id": "a7b1beb0",
   "metadata": {},
   "outputs": [
    {
     "data": {
      "text/plain": [
       "'C:\\\\Users\\\\Shahid\\\\Documents\\\\GitHub\\\\python-notes\\\\Python Basic Notes by Shahid\\\\practice.txt'"
      ]
     },
     "execution_count": 49,
     "metadata": {},
     "output_type": "execute_result"
    }
   ],
   "source": [
    "shutil.move('C:\\\\Users\\\\Shahid\\\\Documents\\\\GitHub\\\\python-notes\\\\practice.txt','C:\\\\Users\\\\Shahid\\\\Documents\\\\GitHub\\\\python-notes\\\\Python Basic Notes by Shahid')"
   ]
  },
  {
   "cell_type": "code",
   "execution_count": 43,
   "id": "1b3e2cc0",
   "metadata": {},
   "outputs": [
    {
     "data": {
      "text/plain": [
       "['.git',\n",
       " '.ipynb_checkpoints',\n",
       " 'Complete-Python-3-Bootcamp-master in-order Notes by Jose',\n",
       " 'practice.txt',\n",
       " 'Python Basic Notes by Shahid',\n",
       " 'Python.Crash.Course.3rd.Edition.Eric.Matthes.No.Starch.Press.9781718502703.EBooksWorld.ir.pdf',\n",
       " 'README.md']"
      ]
     },
     "execution_count": 43,
     "metadata": {},
     "output_type": "execute_result"
    }
   ],
   "source": [
    "os.listdir('C:\\\\Users\\\\Shahid\\\\Documents\\\\GitHub\\\\python-notes\\\\') #We can see practice.txt is moved in this directory now "
   ]
  },
  {
   "cell_type": "code",
   "execution_count": null,
   "id": "0f8dc4f3",
   "metadata": {},
   "outputs": [],
   "source": [
    "# How to delette files using python os module \n",
    "# There are three ways to delete here are these: \n",
    "# Note:- All of these methods cannot be reversed. Which means if you make \n",
    "# a mistake you won't be able to recover the file. Instead we will use the send2trash module . \n",
    "# A safer alternative that sends deleted file to the trash bin instead of permanet removal.\n",
    "# delete a file at your given path\n",
    "# os.unlink(path)\n",
    "# deletes a folder (folder must be empty) at the path you provide \n",
    "# os.rmdir(path)\n",
    "# this method is so dangerou, as it removes all files adn folders contained in the path \n",
    "# shutil.rmtree(path)"
   ]
  },
  {
   "cell_type": "code",
   "execution_count": 53,
   "id": "549a18ef",
   "metadata": {},
   "outputs": [],
   "source": [
    "import send2trash"
   ]
  },
  {
   "cell_type": "code",
   "execution_count": 50,
   "id": "52b55901",
   "metadata": {},
   "outputs": [
    {
     "data": {
      "text/plain": [
       "['.ipynb_checkpoints',\n",
       " 'demofile2.txt',\n",
       " 'myfile.txt',\n",
       " 'numpy.ipynb',\n",
       " 'pandas.ipynb',\n",
       " 'practice.txt',\n",
       " 'pythonNotesPart01(start-7).ipynb',\n",
       " 'PythonNotesPart02(8-end).ipynb',\n",
       " 'test.txt',\n",
       " 'testfile']"
      ]
     },
     "execution_count": 50,
     "metadata": {},
     "output_type": "execute_result"
    }
   ],
   "source": [
    "os.listdir()"
   ]
  },
  {
   "cell_type": "code",
   "execution_count": 68,
   "id": "a71c8dcc",
   "metadata": {},
   "outputs": [],
   "source": [
    "send2trash.send2trash('practice.txt')"
   ]
  },
  {
   "cell_type": "code",
   "execution_count": 74,
   "id": "3cf2a2c7",
   "metadata": {},
   "outputs": [
    {
     "name": "stdout",
     "output_type": "stream",
     "text": [
      "Currently looking at C:\\Users\\Shahid\\Documents\\GitHub\\python-notes\\Folder to practice os walk\n",
      "\n",
      "\n",
      "The subfolders are: \n",
      "\t Subfolder: Bottom Folder\n",
      "\t Subfolder: Center Folder\n",
      "\t Subfolder: Top Main Folder\n",
      "\n",
      "\n",
      "the files are:  []\n",
      "\n",
      "\n",
      "Currently looking at C:\\Users\\Shahid\\Documents\\GitHub\\python-notes\\Folder to practice os walk\\Bottom Folder\n",
      "\n",
      "\n",
      "The subfolders are: \n",
      "\t Subfolder: bottom folder 2nd sub folder\n",
      "\t Subfolder: bottom folder sub folder\n",
      "\t Subfolder: bottom last sub folder\n",
      "\n",
      "\n",
      "the files are:  []\n",
      "\n",
      "\n",
      "Currently looking at C:\\Users\\Shahid\\Documents\\GitHub\\python-notes\\Folder to practice os walk\\Bottom Folder\\bottom folder 2nd sub folder\n",
      "\n",
      "\n",
      "The subfolders are: \n",
      "\n",
      "\n",
      "the files are:  []\n",
      "\n",
      "\n",
      "Currently looking at C:\\Users\\Shahid\\Documents\\GitHub\\python-notes\\Folder to practice os walk\\Bottom Folder\\bottom folder sub folder\n",
      "\n",
      "\n",
      "The subfolders are: \n",
      "\n",
      "\n",
      "the files are:  []\n",
      "\n",
      "\n",
      "Currently looking at C:\\Users\\Shahid\\Documents\\GitHub\\python-notes\\Folder to practice os walk\\Bottom Folder\\bottom last sub folder\n",
      "\n",
      "\n",
      "The subfolders are: \n",
      "\n",
      "\n",
      "the files are:  []\n",
      "\n",
      "\n",
      "Currently looking at C:\\Users\\Shahid\\Documents\\GitHub\\python-notes\\Folder to practice os walk\\Center Folder\n",
      "\n",
      "\n",
      "The subfolders are: \n",
      "\t Subfolder: center folder 2nd sub folder\n",
      "\t Subfolder: center folder 3rd sub folder\n",
      "\t Subfolder: center folder ast sub folder\n",
      "\n",
      "\n",
      "the files are:  []\n",
      "\n",
      "\n",
      "Currently looking at C:\\Users\\Shahid\\Documents\\GitHub\\python-notes\\Folder to practice os walk\\Center Folder\\center folder 2nd sub folder\n",
      "\n",
      "\n",
      "The subfolders are: \n",
      "\n",
      "\n",
      "the files are:  []\n",
      "\n",
      "\n",
      "Currently looking at C:\\Users\\Shahid\\Documents\\GitHub\\python-notes\\Folder to practice os walk\\Center Folder\\center folder 3rd sub folder\n",
      "\n",
      "\n",
      "The subfolders are: \n",
      "\n",
      "\n",
      "the files are:  []\n",
      "\n",
      "\n",
      "Currently looking at C:\\Users\\Shahid\\Documents\\GitHub\\python-notes\\Folder to practice os walk\\Center Folder\\center folder ast sub folder\n",
      "\n",
      "\n",
      "The subfolders are: \n",
      "\n",
      "\n",
      "the files are:  []\n",
      "\n",
      "\n",
      "Currently looking at C:\\Users\\Shahid\\Documents\\GitHub\\python-notes\\Folder to practice os walk\\Top Main Folder\n",
      "\n",
      "\n",
      "The subfolders are: \n",
      "\n",
      "\n",
      "the files are:  ['oswalkmethod.txt']\n",
      "\t File: oswalkmethod.txt\n",
      "\n",
      "\n"
     ]
    }
   ],
   "source": [
    "file_path='C:\\\\Users\\\\Shahid\\\\Documents\\\\GitHub\\\\python-notes\\\\Folder to practice os walk'\n",
    "for folder,sub_folders,files in os.walk(file_path):\n",
    "    print(f\"Currently looking at {folder}\")\n",
    "    print('\\n')\n",
    "    print('The subfolders are: ')\n",
    "    for sub_fold in sub_folders:\n",
    "        print(f\"\\t Subfolder: {sub_fold}\")\n",
    "        \n",
    "    print('\\n')\n",
    "    print(\"the files are: \", files)\n",
    "    for f in files:\n",
    "        print(f\"\\t File: {f}\")\n",
    "    print('\\n')\n",
    "    "
   ]
  },
  {
   "cell_type": "code",
   "execution_count": 75,
   "id": "2f38558d",
   "metadata": {},
   "outputs": [],
   "source": [
    "# check number of values in a list using dictionary and for loop \n",
    "\n",
    "listNew=[1,2,3,4,2,5,1,6]"
   ]
  },
  {
   "cell_type": "code",
   "execution_count": 76,
   "id": "9b2deb28",
   "metadata": {},
   "outputs": [
    {
     "name": "stdout",
     "output_type": "stream",
     "text": [
      "{'1': 2, '2': 2, '3': 1, '4': 1, '5': 1, '6': 1}\n"
     ]
    }
   ],
   "source": [
    "newDictionary={}\n",
    "for i in listNew:\n",
    "    if f'{i}' in newDictionary:\n",
    "        newDictionary[f'{i}'] +=1\n",
    "    else:\n",
    "        newDictionary[f'{i}']=1\n",
    "            \n",
    "    \n",
    "print(newDictionary)"
   ]
  },
  {
   "cell_type": "code",
   "execution_count": 78,
   "id": "0b73dcb7",
   "metadata": {},
   "outputs": [],
   "source": [
    "# Python Date Time Module \n",
    "import datetime"
   ]
  },
  {
   "cell_type": "code",
   "execution_count": 83,
   "id": "735c09f7",
   "metadata": {},
   "outputs": [],
   "source": [
    "mytime=datetime.time(2,20,1,20)"
   ]
  },
  {
   "cell_type": "code",
   "execution_count": 84,
   "id": "a7d2f1fb",
   "metadata": {},
   "outputs": [
    {
     "data": {
      "text/plain": [
       "datetime.time(2, 20, 1, 20)"
      ]
     },
     "execution_count": 84,
     "metadata": {},
     "output_type": "execute_result"
    }
   ],
   "source": [
    "mytime"
   ]
  },
  {
   "cell_type": "code",
   "execution_count": 85,
   "id": "c8ad1216",
   "metadata": {},
   "outputs": [
    {
     "data": {
      "text/plain": [
       "20"
      ]
     },
     "execution_count": 85,
     "metadata": {},
     "output_type": "execute_result"
    }
   ],
   "source": [
    "mytime.minute"
   ]
  },
  {
   "cell_type": "code",
   "execution_count": 86,
   "id": "9c06e3c2",
   "metadata": {},
   "outputs": [
    {
     "data": {
      "text/plain": [
       "2"
      ]
     },
     "execution_count": 86,
     "metadata": {},
     "output_type": "execute_result"
    }
   ],
   "source": [
    "mytime.hour"
   ]
  },
  {
   "cell_type": "code",
   "execution_count": 87,
   "id": "d3c682e9",
   "metadata": {},
   "outputs": [
    {
     "data": {
      "text/plain": [
       "20"
      ]
     },
     "execution_count": 87,
     "metadata": {},
     "output_type": "execute_result"
    }
   ],
   "source": [
    "mytime.microsecond"
   ]
  },
  {
   "cell_type": "code",
   "execution_count": 88,
   "id": "35d75028",
   "metadata": {},
   "outputs": [
    {
     "name": "stdout",
     "output_type": "stream",
     "text": [
      "02:20:01.000020\n"
     ]
    }
   ],
   "source": [
    "print(mytime)"
   ]
  },
  {
   "cell_type": "code",
   "execution_count": 90,
   "id": "dbe0a188",
   "metadata": {},
   "outputs": [],
   "source": [
    "today=datetime.date.today()"
   ]
  },
  {
   "cell_type": "code",
   "execution_count": 91,
   "id": "4742bee6",
   "metadata": {},
   "outputs": [
    {
     "name": "stdout",
     "output_type": "stream",
     "text": [
      "2023-11-30\n"
     ]
    }
   ],
   "source": [
    "print(today)"
   ]
  },
  {
   "cell_type": "code",
   "execution_count": 93,
   "id": "39256346",
   "metadata": {},
   "outputs": [
    {
     "data": {
      "text/plain": [
       "2023"
      ]
     },
     "execution_count": 93,
     "metadata": {},
     "output_type": "execute_result"
    }
   ],
   "source": [
    "today.year\n"
   ]
  },
  {
   "cell_type": "code",
   "execution_count": 95,
   "id": "c80956d1",
   "metadata": {},
   "outputs": [
    {
     "data": {
      "text/plain": [
       "11"
      ]
     },
     "execution_count": 95,
     "metadata": {},
     "output_type": "execute_result"
    }
   ],
   "source": [
    "today.month"
   ]
  },
  {
   "cell_type": "code",
   "execution_count": 96,
   "id": "182e08ef",
   "metadata": {},
   "outputs": [
    {
     "data": {
      "text/plain": [
       "30"
      ]
     },
     "execution_count": 96,
     "metadata": {},
     "output_type": "execute_result"
    }
   ],
   "source": [
    "today.day"
   ]
  },
  {
   "cell_type": "code",
   "execution_count": 97,
   "id": "79151ab1",
   "metadata": {},
   "outputs": [
    {
     "data": {
      "text/plain": [
       "30"
      ]
     },
     "execution_count": 97,
     "metadata": {},
     "output_type": "execute_result"
    }
   ],
   "source": [
    "today.day"
   ]
  },
  {
   "cell_type": "code",
   "execution_count": 101,
   "id": "d9591876",
   "metadata": {},
   "outputs": [
    {
     "data": {
      "text/plain": [
       "'Thu Nov 30 00:00:00 2023'"
      ]
     },
     "execution_count": 101,
     "metadata": {},
     "output_type": "execute_result"
    }
   ],
   "source": [
    "today.ctime()"
   ]
  },
  {
   "cell_type": "code",
   "execution_count": 102,
   "id": "854cfb63",
   "metadata": {},
   "outputs": [
    {
     "ename": "TypeError",
     "evalue": "'module' object is not callable",
     "output_type": "error",
     "traceback": [
      "\u001b[1;31m---------------------------------------------------------------------------\u001b[0m",
      "\u001b[1;31mTypeError\u001b[0m                                 Traceback (most recent call last)",
      "Cell \u001b[1;32mIn[102], line 1\u001b[0m\n\u001b[1;32m----> 1\u001b[0m datetime(\u001b[38;5;241m2021\u001b[39m,\u001b[38;5;241m10\u001b[39m,\u001b[38;5;241m3\u001b[39m,\u001b[38;5;241m14\u001b[39m,\u001b[38;5;241m20\u001b[39m,\u001b[38;5;241m1\u001b[39m)\n",
      "\u001b[1;31mTypeError\u001b[0m: 'module' object is not callable"
     ]
    }
   ],
   "source": [
    "datetime(2021,10,3,14,20,1)"
   ]
  },
  {
   "cell_type": "code",
   "execution_count": 103,
   "id": "f14520dd",
   "metadata": {},
   "outputs": [],
   "source": [
    "from datetime import date"
   ]
  },
  {
   "cell_type": "code",
   "execution_count": 104,
   "id": "08306800",
   "metadata": {},
   "outputs": [],
   "source": [
    "date1=date(2021,11,3)\n",
    "date2=date(2020,11,3)"
   ]
  },
  {
   "cell_type": "code",
   "execution_count": 105,
   "id": "af999d04",
   "metadata": {},
   "outputs": [
    {
     "data": {
      "text/plain": [
       "datetime.timedelta(days=365)"
      ]
     },
     "execution_count": 105,
     "metadata": {},
     "output_type": "execute_result"
    }
   ],
   "source": [
    "date1-date2"
   ]
  },
  {
   "cell_type": "code",
   "execution_count": null,
   "id": "845782f8",
   "metadata": {},
   "outputs": [],
   "source": []
  },
  {
   "cell_type": "code",
   "execution_count": 110,
   "id": "cb675bfd",
   "metadata": {},
   "outputs": [],
   "source": [
    "# Math and Random Modules \n",
    "import math\n",
    "import random"
   ]
  },
  {
   "cell_type": "code",
   "execution_count": 115,
   "id": "60820c04",
   "metadata": {},
   "outputs": [],
   "source": [
    "# help(math)"
   ]
  },
  {
   "cell_type": "code",
   "execution_count": 118,
   "id": "16901a0c",
   "metadata": {},
   "outputs": [
    {
     "data": {
      "text/plain": [
       "4"
      ]
     },
     "execution_count": 118,
     "metadata": {},
     "output_type": "execute_result"
    }
   ],
   "source": [
    "value=4.35\n",
    "math.floor(value)"
   ]
  },
  {
   "cell_type": "code",
   "execution_count": 119,
   "id": "6c859b3d",
   "metadata": {},
   "outputs": [
    {
     "data": {
      "text/plain": [
       "5"
      ]
     },
     "execution_count": 119,
     "metadata": {},
     "output_type": "execute_result"
    }
   ],
   "source": [
    "math.ceil(value)"
   ]
  },
  {
   "cell_type": "code",
   "execution_count": 121,
   "id": "cefb7279",
   "metadata": {},
   "outputs": [
    {
     "data": {
      "text/plain": [
       "5"
      ]
     },
     "execution_count": 121,
     "metadata": {},
     "output_type": "execute_result"
    }
   ],
   "source": [
    "round(4.6)"
   ]
  },
  {
   "cell_type": "code",
   "execution_count": 123,
   "id": "768ce247",
   "metadata": {},
   "outputs": [
    {
     "data": {
      "text/plain": [
       "6"
      ]
     },
     "execution_count": 123,
     "metadata": {},
     "output_type": "execute_result"
    }
   ],
   "source": [
    "round(5.5)"
   ]
  },
  {
   "cell_type": "code",
   "execution_count": 124,
   "id": "0f3495ab",
   "metadata": {},
   "outputs": [
    {
     "data": {
      "text/plain": [
       "3.141592653589793"
      ]
     },
     "execution_count": 124,
     "metadata": {},
     "output_type": "execute_result"
    }
   ],
   "source": [
    "math.pi"
   ]
  },
  {
   "cell_type": "code",
   "execution_count": 155,
   "id": "02788e96",
   "metadata": {},
   "outputs": [],
   "source": [
    "# Random module in python \n",
    "import random"
   ]
  },
  {
   "cell_type": "code",
   "execution_count": 131,
   "id": "37254fbb",
   "metadata": {},
   "outputs": [
    {
     "data": {
      "text/plain": [
       "25"
      ]
     },
     "execution_count": 131,
     "metadata": {},
     "output_type": "execute_result"
    }
   ],
   "source": [
    "random.randint(0,30)"
   ]
  },
  {
   "cell_type": "code",
   "execution_count": 150,
   "id": "d2ca94de",
   "metadata": {},
   "outputs": [
    {
     "data": {
      "text/plain": [
       "13"
      ]
     },
     "execution_count": 150,
     "metadata": {},
     "output_type": "execute_result"
    }
   ],
   "source": [
    "# to generate same number every time\n",
    "random.seed(39)\n",
    "\n",
    "random.randint(0,39)"
   ]
  },
  {
   "cell_type": "code",
   "execution_count": 171,
   "id": "bf6b769f",
   "metadata": {},
   "outputs": [],
   "source": [
    "# chose random index value from list \n",
    "mylist = [i for i in range(0,20)]"
   ]
  },
  {
   "cell_type": "code",
   "execution_count": 172,
   "id": "6930f1b5",
   "metadata": {},
   "outputs": [
    {
     "data": {
      "text/plain": [
       "[0, 1, 2, 3, 4, 5, 6, 7, 8, 9, 10, 11, 12, 13, 14, 15, 16, 17, 18, 19]"
      ]
     },
     "execution_count": 172,
     "metadata": {},
     "output_type": "execute_result"
    }
   ],
   "source": [
    "mylist"
   ]
  },
  {
   "cell_type": "code",
   "execution_count": 179,
   "id": "8a26c539",
   "metadata": {},
   "outputs": [
    {
     "data": {
      "text/plain": [
       "18"
      ]
     },
     "execution_count": 179,
     "metadata": {},
     "output_type": "execute_result"
    }
   ],
   "source": [
    "random.choice(mylist)"
   ]
  },
  {
   "cell_type": "code",
   "execution_count": 184,
   "id": "313b05c0",
   "metadata": {},
   "outputs": [
    {
     "data": {
      "text/plain": [
       "[16, 7, 18, 17, 19, 10, 8, 0, 14, 8]"
      ]
     },
     "execution_count": 184,
     "metadata": {},
     "output_type": "execute_result"
    }
   ],
   "source": [
    "# it always picks ten numbers from list randomly k here is number of indexes you want to choose\n",
    "random.choices(population=mylist,k=10) "
   ]
  },
  {
   "cell_type": "code",
   "execution_count": 197,
   "id": "f0edc122",
   "metadata": {},
   "outputs": [],
   "source": [
    "random.shuffle(mylist)"
   ]
  },
  {
   "cell_type": "code",
   "execution_count": 199,
   "id": "777093ba",
   "metadata": {},
   "outputs": [
    {
     "data": {
      "text/plain": [
       "[16, 17, 9, 7, 3, 12, 1, 5, 6, 13, 14, 19, 10, 8, 18, 2, 15, 4, 0, 11]"
      ]
     },
     "execution_count": 199,
     "metadata": {},
     "output_type": "execute_result"
    }
   ],
   "source": [
    "mylist"
   ]
  },
  {
   "cell_type": "code",
   "execution_count": 208,
   "id": "9300125f",
   "metadata": {},
   "outputs": [
    {
     "data": {
      "text/plain": [
       "6.257064253201705"
      ]
     },
     "execution_count": 208,
     "metadata": {},
     "output_type": "execute_result"
    }
   ],
   "source": [
    " random.uniform(a=0,b=10)"
   ]
  },
  {
   "cell_type": "code",
   "execution_count": 213,
   "id": "406d1489",
   "metadata": {},
   "outputs": [
    {
     "data": {
      "text/plain": [
       "-0.40829224342289755"
      ]
     },
     "execution_count": 213,
     "metadata": {},
     "output_type": "execute_result"
    }
   ],
   "source": [
    "random.gauss(mu=0,sigma=1)"
   ]
  },
  {
   "cell_type": "code",
   "execution_count": 216,
   "id": "933a9934",
   "metadata": {},
   "outputs": [],
   "source": [
    "# PYTHON DEBUGGER \n",
    "# Error and then we debugg it usind debugger that we can concatenate the int and list together in below code\n",
    "x=[1,2,3]\n",
    "y=2\n",
    "z=3\n",
    "\n",
    "# result=y+z\n",
    "# result2=x+y"
   ]
  },
  {
   "cell_type": "code",
   "execution_count": 218,
   "id": "070b061c",
   "metadata": {},
   "outputs": [],
   "source": [
    "# python own debugger module \n",
    "import pdb"
   ]
  },
  {
   "cell_type": "code",
   "execution_count": 221,
   "id": "a5a938b0",
   "metadata": {},
   "outputs": [
    {
     "name": "stdout",
     "output_type": "stream",
     "text": [
      "--Return--\n",
      "None\n",
      "> \u001b[1;32mc:\\users\\shahid\\appdata\\local\\temp\\ipykernel_5488\\3660807668.py\u001b[0m(6)\u001b[0;36m<module>\u001b[1;34m()\u001b[0m\n",
      "\n",
      "ipdb> x\n",
      "[1, 2, 3]\n",
      "ipdb> result_one\n",
      "5\n",
      "ipdb> y\n",
      "2\n",
      "ipdb> x\n",
      "[1, 2, 3]\n",
      "ipdb> result_one\n",
      "5\n",
      "ipdb> q\n"
     ]
    }
   ],
   "source": [
    "x=[1,2,3]\n",
    "y=2\n",
    "z=3\n",
    "result_one=y+z\n",
    "\n",
    "pdb.set_trace()\n",
    "result_two=y+x"
   ]
  },
  {
   "cell_type": "code",
   "execution_count": 224,
   "id": "a4603159",
   "metadata": {},
   "outputs": [],
   "source": [
    "# re Module for Python REgular Expressions\n",
    "import re"
   ]
  },
  {
   "cell_type": "code",
   "execution_count": 229,
   "id": "9bbe7916",
   "metadata": {},
   "outputs": [],
   "source": [
    "# help(re)"
   ]
  },
  {
   "cell_type": "code",
   "execution_count": 230,
   "id": "ad8f30a3",
   "metadata": {},
   "outputs": [],
   "source": [
    "text=\"The agent's phone number is 408-555-1234. Call soon!\""
   ]
  },
  {
   "cell_type": "code",
   "execution_count": 232,
   "id": "115e2d03",
   "metadata": {},
   "outputs": [
    {
     "data": {
      "text/plain": [
       "True"
      ]
     },
     "execution_count": 232,
     "metadata": {},
     "output_type": "execute_result"
    }
   ],
   "source": [
    "'phone' in text"
   ]
  },
  {
   "cell_type": "code",
   "execution_count": 246,
   "id": "8e71b855",
   "metadata": {},
   "outputs": [],
   "source": [
    "pattern='phone'"
   ]
  },
  {
   "cell_type": "code",
   "execution_count": 249,
   "id": "02461660",
   "metadata": {},
   "outputs": [],
   "source": [
    "match=re.search(pattern,text)"
   ]
  },
  {
   "cell_type": "code",
   "execution_count": 250,
   "id": "ae5bd561",
   "metadata": {},
   "outputs": [
    {
     "data": {
      "text/plain": [
       "<re.Match object; span=(12, 17), match='phone'>"
      ]
     },
     "execution_count": 250,
     "metadata": {},
     "output_type": "execute_result"
    }
   ],
   "source": [
    "match"
   ]
  },
  {
   "cell_type": "code",
   "execution_count": 251,
   "id": "8aa347bf",
   "metadata": {},
   "outputs": [
    {
     "data": {
      "text/plain": [
       "12"
      ]
     },
     "execution_count": 251,
     "metadata": {},
     "output_type": "execute_result"
    }
   ],
   "source": [
    "match.start() # on which index phone starts "
   ]
  },
  {
   "cell_type": "code",
   "execution_count": 253,
   "id": "4f81417f",
   "metadata": {},
   "outputs": [
    {
     "data": {
      "text/plain": [
       "17"
      ]
     },
     "execution_count": 253,
     "metadata": {},
     "output_type": "execute_result"
    }
   ],
   "source": [
    "match.end() # on which index phone ends "
   ]
  },
  {
   "cell_type": "code",
   "execution_count": 241,
   "id": "6e6c3f45",
   "metadata": {},
   "outputs": [],
   "source": [
    "pattern='NOT IN TEXT'"
   ]
  },
  {
   "cell_type": "code",
   "execution_count": 242,
   "id": "a4314b6e",
   "metadata": {},
   "outputs": [],
   "source": [
    "re.search(pattern,text) # it does not give any expressions because there is no NOT IN TEXT in text string"
   ]
  },
  {
   "cell_type": "code",
   "execution_count": 263,
   "id": "7d24f9c2",
   "metadata": {},
   "outputs": [
    {
     "name": "stdout",
     "output_type": "stream",
     "text": [
      "<re.Match object; span=(3, 8), match='phone'>\n",
      "['phone', 'phone']\n"
     ]
    }
   ],
   "source": [
    "# why we need regular expression? it is because in previous example it gives only one \n",
    "# index if there was another phone in the text string then this will nnot given by this simple search method\n",
    "\n",
    "text2='my phone once, my phone twice'\n",
    "print(re.search('phone',text2)) # it will give only first phone\n",
    "# so to get rid of this error we use .findall() method \n",
    "matches=re.findall('phone',text2)\n",
    "print(matches)\n"
   ]
  },
  {
   "cell_type": "code",
   "execution_count": 281,
   "id": "5184ebdf",
   "metadata": {},
   "outputs": [],
   "source": [
    "phoneDesc='My phone number is 408-555-1453'"
   ]
  },
  {
   "cell_type": "code",
   "execution_count": 287,
   "id": "1141647b",
   "metadata": {},
   "outputs": [],
   "source": [
    "phone=re.search(r'\\d\\d\\d-\\d\\d\\d-\\d\\d\\d\\d',phoneDesc)"
   ]
  },
  {
   "cell_type": "code",
   "execution_count": 288,
   "id": "d6e4f559",
   "metadata": {},
   "outputs": [
    {
     "data": {
      "text/plain": [
       "<re.Match object; span=(19, 31), match='408-555-1453'>"
      ]
     },
     "execution_count": 288,
     "metadata": {},
     "output_type": "execute_result"
    }
   ],
   "source": [
    "phone"
   ]
  },
  {
   "cell_type": "code",
   "execution_count": 291,
   "id": "7d3a4b7b",
   "metadata": {},
   "outputs": [],
   "source": [
    "phone2=re.search(r'\\d{3}-\\d{3}-\\d{4}',phoneDesc)"
   ]
  },
  {
   "cell_type": "code",
   "execution_count": 292,
   "id": "e7af87a9",
   "metadata": {},
   "outputs": [
    {
     "data": {
      "text/plain": [
       "<re.Match object; span=(19, 31), match='408-555-1453'>"
      ]
     },
     "execution_count": 292,
     "metadata": {},
     "output_type": "execute_result"
    }
   ],
   "source": [
    "phone2"
   ]
  },
  {
   "cell_type": "code",
   "execution_count": 293,
   "id": "4f0512e8",
   "metadata": {},
   "outputs": [],
   "source": [
    "phone_pattern=re.compile(r'(\\d{3})-(\\d{3})-(\\d{4})')"
   ]
  },
  {
   "cell_type": "code",
   "execution_count": 295,
   "id": "ddf64c8a",
   "metadata": {},
   "outputs": [],
   "source": [
    "results=re.search(phone_pattern,phoneDesc)"
   ]
  },
  {
   "cell_type": "code",
   "execution_count": 302,
   "id": "64cfdeaa",
   "metadata": {},
   "outputs": [
    {
     "data": {
      "text/plain": [
       "'408-555-1453'"
      ]
     },
     "execution_count": 302,
     "metadata": {},
     "output_type": "execute_result"
    }
   ],
   "source": [
    "# group() returns the substring that was matched by the RE. start() and end() return the starting and ending index of the match.\n",
    "results.group()"
   ]
  },
  {
   "cell_type": "code",
   "execution_count": 301,
   "id": "bcca70b1",
   "metadata": {},
   "outputs": [
    {
     "data": {
      "text/plain": [
       "'408'"
      ]
     },
     "execution_count": 301,
     "metadata": {},
     "output_type": "execute_result"
    }
   ],
   "source": [
    "results.group(1)"
   ]
  },
  {
   "cell_type": "code",
   "execution_count": 314,
   "id": "1fbd4463",
   "metadata": {},
   "outputs": [
    {
     "data": {
      "text/plain": [
       "<re.Match object; span=(4, 7), match='dog'>"
      ]
     },
     "execution_count": 314,
     "metadata": {},
     "output_type": "execute_result"
    }
   ],
   "source": [
    "# Additional Regex Syntax\n",
    "re.search(r'cat|dog','The dog dog is here')"
   ]
  },
  {
   "cell_type": "code",
   "execution_count": 315,
   "id": "9d0190b8",
   "metadata": {},
   "outputs": [
    {
     "data": {
      "text/plain": [
       "['e cat', 'e hat', 'splat']"
      ]
     },
     "execution_count": 315,
     "metadata": {},
     "output_type": "execute_result"
    }
   ],
   "source": [
    "re.findall(f'...at','The cat in the hat went splat.')"
   ]
  },
  {
   "cell_type": "code",
   "execution_count": 316,
   "id": "cf5df1fc",
   "metadata": {},
   "outputs": [
    {
     "data": {
      "text/plain": [
       "['2']"
      ]
     },
     "execution_count": 316,
     "metadata": {},
     "output_type": "execute_result"
    }
   ],
   "source": [
    "re.findall(f'^\\d','2 is a number') #if starts with digit integer"
   ]
  },
  {
   "cell_type": "code",
   "execution_count": 318,
   "id": "2aae25a7",
   "metadata": {},
   "outputs": [
    {
     "data": {
      "text/plain": [
       "['2']"
      ]
     },
     "execution_count": 318,
     "metadata": {},
     "output_type": "execute_result"
    }
   ],
   "source": [
    "re.findall(f'\\d$','2 is a number2') #if ends with digit integer"
   ]
  },
  {
   "cell_type": "code",
   "execution_count": 3,
   "id": "6fa95623",
   "metadata": {},
   "outputs": [],
   "source": [
    "#  TIMING YOUR PYTHON CODE \n",
    "# WE WILL FOCUS ON 3 WAYS OF DOING THIS\n",
    "# 1) sIMPLY TRACKING TIME ELASPSED\n",
    "# 2)USING THE timeit module\n",
    "# 3) Special %%timeit magic for jupyter notebook "
   ]
  },
  {
   "cell_type": "code",
   "execution_count": 9,
   "id": "9e1d578b",
   "metadata": {},
   "outputs": [
    {
     "data": {
      "text/plain": [
       "['0', '1', '2', '3', '4', '5', '6', '7', '8', '9']"
      ]
     },
     "execution_count": 9,
     "metadata": {},
     "output_type": "execute_result"
    }
   ],
   "source": [
    "# As we know for same problem there is always many solutions so now we check which solution is best \n",
    "def func_one(n):\n",
    "    return [str(num) for num in range(n)]\n",
    "\n",
    "# Calling function one \n",
    "func_one(10)"
   ]
  },
  {
   "cell_type": "code",
   "execution_count": 8,
   "id": "60d7bf9b",
   "metadata": {},
   "outputs": [
    {
     "data": {
      "text/plain": [
       "['0', '1', '2', '3', '4', '5', '6', '7', '8', '9']"
      ]
     },
     "execution_count": 8,
     "metadata": {},
     "output_type": "execute_result"
    }
   ],
   "source": [
    "def func_two(n):\n",
    "    return list(map(str,range(n)))\n",
    "\n",
    "# Calling function one \n",
    "func_two(10)"
   ]
  },
  {
   "cell_type": "code",
   "execution_count": 18,
   "id": "44f6f531",
   "metadata": {},
   "outputs": [],
   "source": [
    "import time"
   ]
  },
  {
   "cell_type": "code",
   "execution_count": 33,
   "id": "c825d65a",
   "metadata": {},
   "outputs": [
    {
     "name": "stdout",
     "output_type": "stream",
     "text": [
      "0.0\n"
     ]
    }
   ],
   "source": [
    "# CURRENT TIME BEFORE\n",
    "start_time=time.time()\n",
    "# RUN CODE \n",
    "result=func_one(100)\n",
    "# CURRENT TIME AFTER RUNNING THE CODE \n",
    "end_time=time.time()\n",
    "# ELAPSED TIME \n",
    "elapsed_time=end_time-start_time\n",
    "\n",
    "print(elapsed_time)"
   ]
  },
  {
   "cell_type": "code",
   "execution_count": 34,
   "id": "4fa7ec89",
   "metadata": {},
   "outputs": [
    {
     "name": "stdout",
     "output_type": "stream",
     "text": [
      "0.0\n"
     ]
    }
   ],
   "source": [
    "# CURRENT TIME BEFORE\n",
    "start_time2=time.time()\n",
    "# RUN CODE \n",
    "result2=func_two(100)\n",
    "# CURRENT TIME AFTER RUNNING THE CODE \n",
    "end_time2=time.time()\n",
    "# ELAPSED TIME \n",
    "elapsed_time2=end_time-start_time\n",
    "\n",
    "print(elapsed_time2)"
   ]
  },
  {
   "cell_type": "code",
   "execution_count": 60,
   "id": "2c3c533f",
   "metadata": {},
   "outputs": [],
   "source": [
    "import timeit"
   ]
  },
  {
   "cell_type": "code",
   "execution_count": 61,
   "id": "954a9897",
   "metadata": {},
   "outputs": [],
   "source": [
    "stmt='''\n",
    "func_one(100)\n",
    "'''"
   ]
  },
  {
   "cell_type": "code",
   "execution_count": 62,
   "id": "331452fc",
   "metadata": {},
   "outputs": [],
   "source": [
    "setup='''\n",
    "def func_one(n):\n",
    "    return [str(num) for num in range(n)]\n",
    "'''"
   ]
  },
  {
   "cell_type": "code",
   "execution_count": 63,
   "id": "32e8e289",
   "metadata": {},
   "outputs": [
    {
     "data": {
      "text/plain": [
       "1.358082499995362"
      ]
     },
     "execution_count": 63,
     "metadata": {},
     "output_type": "execute_result"
    }
   ],
   "source": [
    "timeit.timeit(stmt,setup,number=100000)"
   ]
  },
  {
   "cell_type": "code",
   "execution_count": 65,
   "id": "8947adbc",
   "metadata": {},
   "outputs": [],
   "source": [
    "stmt2='''\n",
    "func_two(100)\n",
    "'''"
   ]
  },
  {
   "cell_type": "code",
   "execution_count": 66,
   "id": "edc04969",
   "metadata": {},
   "outputs": [],
   "source": [
    "setup2='''\n",
    "def func_two(n):\n",
    "    return list(map(str,range(n)))\n",
    "'''"
   ]
  },
  {
   "cell_type": "code",
   "execution_count": 67,
   "id": "76ba9b9e",
   "metadata": {},
   "outputs": [
    {
     "data": {
      "text/plain": [
       "1.7095991999958642"
      ]
     },
     "execution_count": 67,
     "metadata": {},
     "output_type": "execute_result"
    }
   ],
   "source": [
    "timeit.timeit(stmt2,setup2,number=100000)"
   ]
  },
  {
   "cell_type": "code",
   "execution_count": 68,
   "id": "79067271",
   "metadata": {},
   "outputs": [
    {
     "name": "stdout",
     "output_type": "stream",
     "text": [
      "13.3 µs ± 38.4 ns per loop (mean ± std. dev. of 7 runs, 100,000 loops each)\n"
     ]
    }
   ],
   "source": [
    "%%timeit\n",
    "func_one(100)"
   ]
  },
  {
   "cell_type": "code",
   "execution_count": 69,
   "id": "007c27bf",
   "metadata": {},
   "outputs": [
    {
     "name": "stdout",
     "output_type": "stream",
     "text": [
      "16.7 µs ± 301 ns per loop (mean ± std. dev. of 7 runs, 100,000 loops each)\n"
     ]
    }
   ],
   "source": [
    "%%timeit\n",
    "func_two(100)"
   ]
  },
  {
   "cell_type": "code",
   "execution_count": 74,
   "id": "1aed793f",
   "metadata": {},
   "outputs": [],
   "source": [
    "# ZIPPING AND UNZIPPING WITH PYTHON \n",
    "f=open('fileone.txt','w+')\n",
    "f.write('ONE FILE')\n",
    "f.close()"
   ]
  },
  {
   "cell_type": "code",
   "execution_count": 75,
   "id": "21964fab",
   "metadata": {},
   "outputs": [],
   "source": [
    "f=open('filetwo.txt','w+')\n",
    "f.write('TWO FILE')\n",
    "f.close()"
   ]
  },
  {
   "cell_type": "code",
   "execution_count": 86,
   "id": "8018fc11",
   "metadata": {},
   "outputs": [],
   "source": [
    "import zipfile"
   ]
  },
  {
   "cell_type": "code",
   "execution_count": 87,
   "id": "a0a4cfdd",
   "metadata": {},
   "outputs": [],
   "source": [
    "comp_file=zipfile.ZipFile('comp_file.zip','w')"
   ]
  },
  {
   "cell_type": "code",
   "execution_count": 88,
   "id": "d8d98d7e",
   "metadata": {},
   "outputs": [],
   "source": [
    "comp_file.write('fileone.txt',compress_type=zipfile.ZIP_DEFLATED)"
   ]
  },
  {
   "cell_type": "code",
   "execution_count": 89,
   "id": "ffc4fd36",
   "metadata": {},
   "outputs": [],
   "source": [
    "comp_file.write('filetwo.txt',compress_type=zipfile.ZIP_DEFLATED)"
   ]
  },
  {
   "cell_type": "code",
   "execution_count": 90,
   "id": "7cd763db",
   "metadata": {},
   "outputs": [],
   "source": [
    "comp_file.close()"
   ]
  },
  {
   "cell_type": "code",
   "execution_count": 96,
   "id": "cb2f9f39",
   "metadata": {},
   "outputs": [],
   "source": [
    "zip_obj=zipfile.ZipFile('comp_file.zip','r')"
   ]
  },
  {
   "cell_type": "code",
   "execution_count": 97,
   "id": "908bbb72",
   "metadata": {},
   "outputs": [],
   "source": [
    "zip_obj.extractall('extracted_content')"
   ]
  },
  {
   "cell_type": "code",
   "execution_count": 98,
   "id": "347341b8",
   "metadata": {},
   "outputs": [
    {
     "data": {
      "text/plain": [
       "'C:\\\\Users\\\\Shahid\\\\Documents\\\\GitHub\\\\python-notes\\\\Python Basic Notes by Shahid'"
      ]
     },
     "execution_count": 98,
     "metadata": {},
     "output_type": "execute_result"
    }
   ],
   "source": [
    "pwd"
   ]
  },
  {
   "cell_type": "code",
   "execution_count": 105,
   "id": "5c0fa916",
   "metadata": {},
   "outputs": [],
   "source": [
    "import shutil"
   ]
  },
  {
   "cell_type": "code",
   "execution_count": 106,
   "id": "c8ebd579",
   "metadata": {},
   "outputs": [],
   "source": [
    " dir_to_zip='C:\\\\Users\\\\Shahid\\\\Documents\\\\GitHub\\\\python-notes\\\\Python Basic Notes by Shahid\\\\extracted_content'"
   ]
  },
  {
   "cell_type": "code",
   "execution_count": 107,
   "id": "4a4ea719",
   "metadata": {},
   "outputs": [],
   "source": [
    "output_filename='example'"
   ]
  },
  {
   "cell_type": "code",
   "execution_count": 108,
   "id": "e7d58fb2",
   "metadata": {},
   "outputs": [
    {
     "data": {
      "text/plain": [
       "'C:\\\\Users\\\\Shahid\\\\Documents\\\\GitHub\\\\python-notes\\\\Python Basic Notes by Shahid\\\\example.zip'"
      ]
     },
     "execution_count": 108,
     "metadata": {},
     "output_type": "execute_result"
    }
   ],
   "source": [
    "# zip all files not just one file using shutil python's module \n",
    "shutil.make_archive(output_filename,'zip',dir_to_zip)"
   ]
  },
  {
   "cell_type": "code",
   "execution_count": 110,
   "id": "a2cd0f4f",
   "metadata": {},
   "outputs": [],
   "source": [
    "# Unzip all files not just one file using shutil python's module \n",
    "\n",
    "shutil.unpack_archive('example.zip','final_unzip','zip')"
   ]
  },
  {
   "cell_type": "code",
   "execution_count": null,
   "id": "4014d845",
   "metadata": {},
   "outputs": [],
   "source": [
    "#-----------------------------------------------------------------------------\n",
    "# MODOULE 14 END HERE\n",
    "#-----------------------------------------------------------------------------"
   ]
  },
  {
   "cell_type": "code",
   "execution_count": null,
   "id": "762df257",
   "metadata": {},
   "outputs": [],
   "source": [
    "#-----------------------------------------------------------------------------\n",
    "# MODULE NO 15: [WEB SCRAPING WITH PYTHON]\n",
    "# MDOULE 15 START FROM HERE\n",
    "#-----------------------------------------------------------------------------"
   ]
  },
  {
   "cell_type": "code",
   "execution_count": null,
   "id": "9cfcb8c3",
   "metadata": {},
   "outputs": [],
   "source": []
  },
  {
   "cell_type": "code",
   "execution_count": null,
   "id": "b06697d2",
   "metadata": {},
   "outputs": [],
   "source": []
  },
  {
   "cell_type": "code",
   "execution_count": null,
   "id": "f733a4d0",
   "metadata": {},
   "outputs": [],
   "source": []
  },
  {
   "cell_type": "code",
   "execution_count": null,
   "id": "d9f0a4f8",
   "metadata": {},
   "outputs": [],
   "source": []
  },
  {
   "cell_type": "code",
   "execution_count": null,
   "id": "3ef80c2b",
   "metadata": {},
   "outputs": [],
   "source": [
    "#-----------------------------------------------------------------------------\n",
    "# MODOULE 15 END HERE\n",
    "#-----------------------------------------------------------------------------"
   ]
  },
  {
   "cell_type": "code",
   "execution_count": null,
   "id": "0070f2c2",
   "metadata": {},
   "outputs": [],
   "source": [
    "#-----------------------------------------------------------------------------\n",
    "# MODULE NO 16: [WEB SCRAPING WITH PYTHON]\n",
    "# MDOULE 16 START FROM HERE\n",
    "#-----------------------------------------------------------------------------"
   ]
  },
  {
   "cell_type": "code",
   "execution_count": null,
   "id": "1c22b11b",
   "metadata": {},
   "outputs": [],
   "source": []
  },
  {
   "cell_type": "code",
   "execution_count": null,
   "id": "16f31fd0",
   "metadata": {},
   "outputs": [],
   "source": [
    "#-----------------------------------------------------------------------------\n",
    "# MODOULE 16 END HERE\n",
    "#-----------------------------------------------------------------------------"
   ]
  },
  {
   "cell_type": "code",
   "execution_count": null,
   "id": "40f0b4fe",
   "metadata": {},
   "outputs": [],
   "source": [
    "#-----------------------------------------------------------------------------\n",
    "# MODULE NO 16: [WEB SCRAPING WITH PYTHON]\n",
    "# MDOULE 16 START FROM HERE\n",
    "#-----------------------------------------------------------------------------"
   ]
  },
  {
   "cell_type": "code",
   "execution_count": null,
   "id": "37658fd2",
   "metadata": {},
   "outputs": [],
   "source": []
  },
  {
   "cell_type": "code",
   "execution_count": null,
   "id": "a8330190",
   "metadata": {},
   "outputs": [],
   "source": [
    "#-----------------------------------------------------------------------------\n",
    "# MODOULE 16 END HERE\n",
    "#-----------------------------------------------------------------------------"
   ]
  },
  {
   "cell_type": "code",
   "execution_count": null,
   "id": "4b6f8667",
   "metadata": {},
   "outputs": [],
   "source": []
  },
  {
   "cell_type": "code",
   "execution_count": null,
   "id": "86570198",
   "metadata": {},
   "outputs": [],
   "source": []
  },
  {
   "cell_type": "code",
   "execution_count": null,
   "id": "632144c4",
   "metadata": {},
   "outputs": [],
   "source": []
  },
  {
   "cell_type": "code",
   "execution_count": null,
   "id": "ed4d59ac",
   "metadata": {},
   "outputs": [],
   "source": []
  },
  {
   "cell_type": "code",
   "execution_count": null,
   "id": "e202d0a7",
   "metadata": {},
   "outputs": [],
   "source": []
  },
  {
   "cell_type": "code",
   "execution_count": null,
   "id": "4dd93c88",
   "metadata": {},
   "outputs": [],
   "source": []
  },
  {
   "cell_type": "code",
   "execution_count": null,
   "id": "fba073e9",
   "metadata": {},
   "outputs": [],
   "source": []
  }
 ],
 "metadata": {
  "kernelspec": {
   "display_name": "Python 3 (ipykernel)",
   "language": "python",
   "name": "python3"
  },
  "language_info": {
   "codemirror_mode": {
    "name": "ipython",
    "version": 3
   },
   "file_extension": ".py",
   "mimetype": "text/x-python",
   "name": "python",
   "nbconvert_exporter": "python",
   "pygments_lexer": "ipython3",
   "version": "3.11.4"
  }
 },
 "nbformat": 4,
 "nbformat_minor": 5
}
