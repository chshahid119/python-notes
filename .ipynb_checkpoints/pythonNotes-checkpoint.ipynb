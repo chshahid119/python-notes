{
 "cells": [
  {
   "cell_type": "code",
   "execution_count": 8,
   "id": "7b9ead95",
   "metadata": {},
   "outputs": [
    {
     "data": {
      "text/plain": [
       "32.0"
      ]
     },
     "execution_count": 8,
     "metadata": {},
     "output_type": "execute_result"
    }
   ],
   "source": [
    "# COURSE INTRODUCTION\n",
    "#COURSE TITLE: The Complete Python Bootcamp From Zero to Hero in Python\n",
    "#DESCRIPTION: Learn Python like a Professional Start from the basics and\n",
    "    #go all the way to creating your own applications and games\n",
    "#CREATED BY JOSE PORTILLA\n"
   ]
  },
  {
   "cell_type": "code",
   "execution_count": null,
   "id": "b19ec9a5",
   "metadata": {},
   "outputs": [],
   "source": []
  },
  {
   "cell_type": "code",
   "execution_count": null,
   "id": "5bb422bd",
   "metadata": {},
   "outputs": [],
   "source": []
  },
  {
   "cell_type": "code",
   "execution_count": null,
   "id": "ad3dec85",
   "metadata": {},
   "outputs": [],
   "source": [
    "# Pierian Data Python Course from beginners to advance\n",
    "#Module 1 and 2 was about Overview of course and Python Setup\n",
    "# Module 3 \n",
    "#Python as Calculators\n",
    "2+1\n",
    "23%2\n",
    "2**8/2**3"
   ]
  },
  {
   "cell_type": "code",
   "execution_count": null,
   "id": "25fadc63",
   "metadata": {},
   "outputs": [],
   "source": [
    "#-----------------------------------------------------------------------------\n",
    "# MODULE NO 3: PYTHON OBJECTS AND DATA STRUCTURES BASICS \n",
    "# MODULE 3 START FROM HERE\n",
    "#-----------------------------------------------------------------------------"
   ]
  },
  {
   "cell_type": "code",
   "execution_count": 23,
   "id": "1c888a9d",
   "metadata": {},
   "outputs": [
    {
     "data": {
      "text/plain": [
       "'Shahid'"
      ]
     },
     "execution_count": 23,
     "metadata": {},
     "output_type": "execute_result"
    }
   ],
   "source": [
    "#varibales in Python\n",
    "name='Shahid'\n",
    "secondName='Rasool'\n",
    "#capitalize method in Python\n",
    "name.capitalize()"
   ]
  },
  {
   "cell_type": "code",
   "execution_count": 9,
   "id": "dd433f67",
   "metadata": {},
   "outputs": [
    {
     "data": {
      "text/plain": [
       "['My', 'name', 'is', 'Shahid']"
      ]
     },
     "execution_count": 9,
     "metadata": {},
     "output_type": "execute_result"
    }
   ],
   "source": [
    "# All About Strings in Python\n",
    "\n",
    "intro='My name is Shahid '\n",
    "intro.split()\n",
    "intro.split('i')"
   ]
  },
  {
   "cell_type": "code",
   "execution_count": 6,
   "id": "fa673f3a",
   "metadata": {},
   "outputs": [
    {
     "name": "stdout",
     "output_type": "stream",
     "text": [
      "indexing/slicing start from the index 4 : efghijkl\n",
      "Indexing/slicing start from the index 3 and end at 7:  defg\n",
      "Indexing/slicing start from 3 and ends at 9 with jump of 2:  dfh\n",
      "acegik\n",
      "lkjihgfedcba\n"
     ]
    }
   ],
   "source": [
    "# indexing and slicing in Python\n",
    "mystring='abcdefghijkl'\n",
    "# mystring[where to start indexing:where to end:how many steps it should jumps]\n",
    "print(\"indexing/slicing start from the index 4 :\",mystring[4:]) #Here the indexing start from index no 4 \n",
    "print(\"Indexing/slicing start from the index 3 and end at 7: \",mystring[3:7]) #start from index 3 and end at index 7 but 7th index value not included\n",
    "print(\"Indexing/slicing start from 3 and ends at 9 with jump of 2: \",mystring[3:9:2]) #here third parameter in indexing is jumping of indexes\n",
    "print(mystring[::2]) #slicing all string with jump of 2\n",
    "print(mystring[::-1]) # it reverses the string"
   ]
  },
  {
   "cell_type": "code",
   "execution_count": 31,
   "id": "2fe99f5b",
   "metadata": {},
   "outputs": [
    {
     "name": "stdout",
     "output_type": "stream",
     "text": [
      "Sam\n",
      "Pam\n",
      "Sam\n",
      "SAM\n",
      "sam\n",
      "shahid\n"
     ]
    },
    {
     "data": {
      "text/plain": [
       "20"
      ]
     },
     "execution_count": 31,
     "metadata": {},
     "output_type": "execute_result"
    }
   ],
   "source": [
    "# Immutablity\n",
    "# Lecture String Properties and Methods\n",
    "name='Sam'\n",
    "#name[0]='P' # string are immuteable and we cannot change string by doing this\n",
    "print(name)\n",
    "# We can Immute the string by making a brand new string like this\n",
    "newName=name[1:]\n",
    "print('P'+newName) # this is called string concatenation\n",
    "print(name.title())\n",
    "print(name.upper())\n",
    "print(name.lower())\n",
    "#to remove extra space from the string we use method rstrip()\n",
    "string1='  shahid   ' #[rstrip() for removing left side extra space ] #[lstrip() to remove right side space]\n",
    "print(string1.strip()) #it removes the extra spaces from left and right side of string\n",
    "\n",
    "\n",
    "#to remove this passing arguments from string\n",
    "nostarch_url = 'https://nostarch.com'\n",
    "nostarch_url.removeprefix('https://')\n",
    "len(nostarch_url) #check no of letters in nostarch_url\n"
   ]
  },
  {
   "cell_type": "code",
   "execution_count": 15,
   "id": "596e4e0a",
   "metadata": {},
   "outputs": [
    {
     "name": "stdout",
     "output_type": "stream",
     "text": [
      "This is a string INSERTED\n",
      "A quick brown fox jumps over the lazy dog\n",
      "A quick brown fox jumps over the lazy dog\n"
     ]
    }
   ],
   "source": [
    "# String formating with .format() Method\n",
    "print('This is a string {}'.format('INSERTED'))\n",
    "print('A {2} {1} {0} jumps over the lazy dog'.format('fox','brown','quick')) #using index numbers\n",
    "print('A {q} {b} {f} {j} over the lazy dog'.format(f='fox',b='brown',q='quick',j='jumps' )) #using varibles"
   ]
  },
  {
   "cell_type": "code",
   "execution_count": 30,
   "id": "884316aa",
   "metadata": {},
   "outputs": [
    {
     "name": "stdout",
     "output_type": "stream",
     "text": [
      "0.1287001287001287\n",
      "the result was           0.129\n",
      "Hello, My name is Shahid Chaudhary\n"
     ]
    }
   ],
   "source": [
    "#float formating using format method\n",
    "result=100/777\n",
    "print(result)\n",
    "#Float Formating follows \"{value(variable):width.prescesion}\"\n",
    "#[r=result]:[10=created empty space after (was)].[3f= numbers after decimal] \n",
    "print(\"the result was {r:15.3f}\".format(r=result)) \n",
    "myName='Shahid Chaudhary'\n",
    "#f string formated Method\n",
    "print(f'Hello, My name is {myName}')"
   ]
  },
  {
   "cell_type": "code",
   "execution_count": 46,
   "id": "6c63208c",
   "metadata": {},
   "outputs": [
    {
     "name": "stdout",
     "output_type": "stream",
     "text": [
      "[1, 2, 3, 4, 'Shahid']\n",
      "[3, 4, 'Shahid']\n",
      "[1, 2, 3, 4, 'Shahid', 5, 6, 7, 8, 9, 10]\n",
      "['Ali', 6, 7, 8, 9, 10]\n",
      "[1, 2, 3, 4, 'Shahid', 'Jerry']\n",
      "[1, 2, 3, 4, 'Shahid']\n",
      "[1, 2, 3, 4]\n",
      "1\n",
      "['a', 'b', 'c', 'e', 'x', 'z']\n",
      "None\n",
      "[7, 6, 5, 4, 3, 2, 1]\n"
     ]
    }
   ],
   "source": [
    "# Lists in Python\n",
    "my_list=[1,2,3,4]\n",
    "my_list=[1,2,3,4,'Shahid']\n",
    "print(my_list)\n",
    "len(my_list) #to check length of list\n",
    "#slicing in lists\n",
    "print(my_list[2:])\n",
    "# Concatenation of two strings\n",
    "another_list=[5,6,7,8,9,10]\n",
    "new_list=my_list+another_list\n",
    "print(new_list)\n",
    "another_list[0]='Ali' #on 0th index of another_list is reassigned by 'Ali' so the lists are immuteable\n",
    "print(another_list)\n",
    "\n",
    "#.append() method add one more value in list in the last\n",
    "my_list.append('Jerry') #'jerry' added in the last index\n",
    "print(my_list)\n",
    "#.pop() method remove value from the last\n",
    "my_list.pop() #newly added 'jerry' is removed from the my_list\n",
    "print(my_list)\n",
    "one_more_poped_item=my_list.pop() # the last element 'Shahid' of my_list is poped from the my_list\n",
    "print(my_list)\n",
    "print(my_list.pop(0)) #it removes the value from given passing index as parameter\n",
    "#sorting of lists\n",
    "#Ascending sort\n",
    "unordered_letters_list=['a','e','c','b','z','x']\n",
    "unordered_numbers_list=[9,7,5,10,1,2,4,3]\n",
    "sorted_list=unordered_letters_list.sort() # it return None but sort the original lists\n",
    "print(unordered_letters_list) #now the unorderedlist is changes into sorted list\n",
    "type(sorted_list)\n",
    "print(sorted_list) #it return None bcz it return NoneType\n",
    "#Descending Sort\n",
    "num_list=[1,2,3,4,5,6,7]\n",
    "num_list.reverse() #it reverses the list\n",
    "print(num_list)\n",
    "\n"
   ]
  },
  {
   "cell_type": "code",
   "execution_count": 2,
   "id": "f20735dc",
   "metadata": {},
   "outputs": [
    {
     "name": "stdout",
     "output_type": "stream",
     "text": [
      "{'key1': 'value1', 'key2': 'value2'}\n",
      "value1\n",
      "The price of apple is:  2.99\n",
      "123\n",
      "1\n",
      "100\n",
      "Lahore\n",
      "{'k1': 'Shahid is My Name', 'k2': [0, 1, 2], 'k3': {'insideKey': 100, 'address': 'Lahore'}, 'k4': 'lpc'}\n",
      "Keys : dict_keys(['k1', 'k2', 'k3', 'k4'])\n",
      "Values : dict_values(['Shahid is My Name', [0, 1, 2], {'insideKey': 100, 'address': 'Lahore'}, 'lpc'])\n",
      "pairings : dict_items([('k1', 'Shahid is My Name'), ('k2', [0, 1, 2]), ('k3', {'insideKey': 100, 'address': 'Lahore'}), ('k4', 'lpc')])\n"
     ]
    }
   ],
   "source": [
    "# Dictionaries in Python\n",
    "my_dict={\n",
    "    'key1':'value1','key2':'value2'}\n",
    "print(my_dict)\n",
    "print(my_dict['key1']) #get values using the Keys\n",
    "\n",
    "prices_lookup={'apple':2.99,'oranges':1.99,'milk':5.80}\n",
    "print('The price of apple is: ',prices_lookup['apple'])\n",
    "\n",
    "#Dictionary list_in_dict\n",
    "list_in_dict={'k1':123,'k2':[0,1,2],'k3':{'insideKey':100, 'address':'Lahore'},'k4':'lpc'}\n",
    "print(list_in_dict['k1']) #gives 123\n",
    "print(list_in_dict['k2'][1]) # gives 1 as output\n",
    "print(list_in_dict['k3']['insideKey']) # gives 100\n",
    "print(list_in_dict['k3']['address']) # gives Lahore\n",
    "#We also mutates the Values of any keys in dictionaries like that\n",
    "list_in_dict['k1']='Shahid is My Name' # Now the value against the key1 is changed to 'Shahid is My Name'\n",
    "print(list_in_dict)\n",
    "\n",
    "# To get all the keys of Dictionaries\n",
    "print(\"Keys :\",list_in_dict.keys()) #return only keys\n",
    "# To get all the Values of Dictionaries\n",
    "print(\"Values :\",list_in_dict.values()) #return only values\n",
    "\n",
    "print(\"pairings :\",list_in_dict.items()) #gives pairings of keys and Values Together\n",
    " \n",
    "\n"
   ]
  },
  {
   "cell_type": "code",
   "execution_count": 24,
   "id": "b2789515",
   "metadata": {},
   "outputs": [
    {
     "name": "stdout",
     "output_type": "stream",
     "text": [
      "Type of tupple using type method:  <class 'tuple'>\n",
      "Type of list using type method:  <class 'list'>\n",
      "Length of tupple is:  3\n",
      "1\n",
      "3\n",
      "(2, 3)\n",
      "Total counts of passing parameter is: Like here passing parameter is a====> 2\n",
      "2\n"
     ]
    }
   ],
   "source": [
    "#Tuples in Python\n",
    "# Tuples are very similar to lists.However they have one key difference - immutability\n",
    "# Thats means we cannot change the tuple after initialization\n",
    "# Means Once an element is inside a tupples it cannot be reassigned and Tupples uses Parenthesis: (1,2,3)\n",
    "tupple=(1,2,3)\n",
    "for_compare_with_tupple_list=[1,2,3,'a','a','b']\n",
    "# Now type() method in Python tells the type of both tupple and list\n",
    "print(\"Type of tupple using type method: \",type(tupple))\n",
    "print(\"Type of list using type method: \",type(for_compare_with_tupple_list))\n",
    "\n",
    "#check the length of tupple\n",
    "print(\"Length of tupple is: \", len(tupple))\n",
    "\n",
    "#indexing in tupples\n",
    "print(tupple[0])\n",
    "print(tupple[-1])\n",
    "#slicing in tupples\n",
    "print(tupple[1:3])\n",
    "\n",
    "# Methods on tuple\n",
    "another_tupple=('a','a','b')\n",
    "# .count() method is used to count the characters in tupples \n",
    "# another_tupple.count('Which word you want to pass as parameter to check the counts of that letter')\n",
    "print(\"Total counts of passing parameter is: Like here passing parameter is a====>\",another_tupple.count('a'))\n",
    "# .index(kis cheez ka index check krna hai wo pass kro) this method checks passing parameter index and tell it\n",
    "print(another_tupple.index('b')) \n"
   ]
  },
  {
   "cell_type": "code",
   "execution_count": 40,
   "id": "1f70b787",
   "metadata": {},
   "outputs": [
    {
     "name": "stdout",
     "output_type": "stream",
     "text": [
      "{1, 2}\n",
      "{1, 2, 3, 4, 5, 6, 7, 9}\n"
     ]
    }
   ],
   "source": [
    "# Sets in Python \n",
    "# Sets are unordered collections of unique Elements\n",
    "# Meaning there can only be one representative of the same object Lets see some examples \n",
    "myset=set()\n",
    "myset.add(1)\n",
    "myset.add(2) \n",
    "print(myset)\n",
    "# Use Case Example: Here we have list with bunch of different values Now I want to remove all duplicate values then we can use sets in this way \n",
    "to_make_unique_list=[1,7,7,1,1,1,1,2,3,4,2,3,4,5,5,6,9,9,9]\n",
    "print(set(to_make_unique_list))"
   ]
  }
 ],
 "metadata": {
  "kernelspec": {
   "display_name": "Python 3 (ipykernel)",
   "language": "python",
   "name": "python3"
  },
  "language_info": {
   "codemirror_mode": {
    "name": "ipython",
    "version": 3
   },
   "file_extension": ".py",
   "mimetype": "text/x-python",
   "name": "python",
   "nbconvert_exporter": "python",
   "pygments_lexer": "ipython3",
   "version": "3.11.4"
  }
 },
 "nbformat": 4,
 "nbformat_minor": 5
}
